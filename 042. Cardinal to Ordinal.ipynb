{
 "cells": [
  {
   "cell_type": "markdown",
   "metadata": {},
   "source": [
    "**코딩 도장** 사이트의 문제를 직접 풀어본 내용을 정리하여 올립니다.\n",
    "\n",
    "[코딩 도장](https://codingdojang.com/)에서 여러 문제를 확인할 수 있습니다.\n",
    "\n",
    "난이도 순으로 차근차근 풀어보려 합니다."
   ]
  },
  {
   "cell_type": "markdown",
   "metadata": {},
   "source": [
    "---"
   ]
  },
  {
   "cell_type": "markdown",
   "metadata": {},
   "source": [
    "**[문제: Cardinal to Ordinal] - Lv.1**"
   ]
  },
  {
   "cell_type": "markdown",
   "metadata": {},
   "source": [
    "기수(Cardinal)를 입력하면 영어 서수(Ordinal)로 출력하는 함수를 작성합니다.\n",
    "\n",
    "```\n",
    "1, 21, 31, 41, ... → 1st, 21st, 31st, 41st, ...\n",
    "2, 22, 32, 42, ... → 2nd, 22nd, 32nd, 42nd, ...\n",
    "3, 23, 33, 43, ... → 3rd, 23rd, 33rd, 43rd, ...\n",
    "11, 12, 13, 111, 112, 113, 211, 212, 213, ...  → 11th, 12th, 13th, 111th, 112th, 113th, 211th, 212th, 213th, ...\n",
    "4, 5, 6, 11, 12, 13, 101, 111, 112, ... → 4th, 5th, 6th, 11th, 12th, 13th, 101th, 111th, 112th, ...\n",
    "```\n",
    "\n",
    "출처: <https://codingdojang.com/scode/686?answer_mode=hide>"
   ]
  },
  {
   "cell_type": "markdown",
   "metadata": {},
   "source": [
    "---"
   ]
  },
  {
   "cell_type": "markdown",
   "metadata": {},
   "source": [
    "**[풀이]**"
   ]
  },
  {
   "cell_type": "code",
   "execution_count": 1,
   "metadata": {
    "scrolled": true
   },
   "outputs": [
    {
     "name": "stdout",
     "output_type": "stream",
     "text": [
      "양의 정수를 입력하세요: 34\n"
     ]
    },
    {
     "data": {
      "text/plain": [
       "'34th'"
      ]
     },
     "execution_count": 1,
     "metadata": {},
     "output_type": "execute_result"
    }
   ],
   "source": [
    "def c_to_o():\n",
    "    n = input(\"양의 정수를 입력하세요: \")\n",
    "    if n[-1] == \"1\":\n",
    "        return n + \"st\"\n",
    "    elif n[-1] == \"2\":\n",
    "        return n + \"nd\"\n",
    "    elif n[-1] == \"3\":\n",
    "        return n + \"rd\"\n",
    "    else:\n",
    "        return n + \"th\"\n",
    "    \n",
    "c_to_o()    "
   ]
  },
  {
   "cell_type": "markdown",
   "metadata": {},
   "source": [
    "문제에서 11은 11th 등으로 표기 되어있어 통일성이 안보이는데 우선 끝자리에 따라 구분하는 것으로 간주하였다.\n",
    "\n",
    "`input()`으로 문자열을 받아 마지막 숫자를 이용해서 if문으로 풀었다."
   ]
  },
  {
   "cell_type": "markdown",
   "metadata": {},
   "source": [
    "---"
   ]
  },
  {
   "cell_type": "markdown",
   "metadata": {},
   "source": [
    "**[추천 풀이]**"
   ]
  },
  {
   "cell_type": "code",
   "execution_count": 2,
   "metadata": {},
   "outputs": [
    {
     "name": "stdout",
     "output_type": "stream",
     "text": [
      "['1st', '2nd', '4th', '5th', '6th', '11th', '12th', '13th', '101th']\n"
     ]
    }
   ],
   "source": [
    "def CtO(s):\n",
    "    Lst = s.split(', ') #문자열을 리스트로 변환\n",
    "    result = []\n",
    "    for i in Lst:\n",
    "        if i == '1':\n",
    "            Ordinal = str(i) + 'st'\n",
    "            result.append(Ordinal)\n",
    "        elif i == '2':\n",
    "            Ordinal = str(i) + 'nd'\n",
    "            result.append(Ordinal)\n",
    "        elif i == '3':\n",
    "            Ordinal = str(i) + 'rd'\n",
    "            result.append(Ordinal)\n",
    "        else:\n",
    "            Ordinal = str(i) + 'th'\n",
    "            result.append(Ordinal)\n",
    "    print(result)\n",
    "\n",
    "\n",
    "CtO('1, 2, 4, 5, 6, 11, 12, 13, 101')"
   ]
  },
  {
   "cell_type": "markdown",
   "metadata": {},
   "source": [
    "딱히 추천 수가 많은 풀이가 없는데 이분은 그냥 1, 2, 3 외에 숫자는 th를 붙혔다.\n",
    "\n",
    "개인적으론 이게 맞는 걸로 알고 있는데 문제가 조금 헷갈리는 부분이 있는 것 같다."
   ]
  }
 ],
 "metadata": {
  "interpreter": {
   "hash": "63fd5069d213b44bf678585dea6b12cceca9941eaf7f819626cde1f2670de90d"
  },
  "kernelspec": {
   "display_name": "Python 3",
   "language": "python",
   "name": "python3"
  },
  "language_info": {
   "codemirror_mode": {
    "name": "ipython",
    "version": 3
   },
   "file_extension": ".py",
   "mimetype": "text/x-python",
   "name": "python",
   "nbconvert_exporter": "python",
   "pygments_lexer": "ipython3",
   "version": "3.8.5"
  },
  "toc": {
   "base_numbering": 1,
   "nav_menu": {},
   "number_sections": false,
   "sideBar": true,
   "skip_h1_title": false,
   "title_cell": "Table of Contents",
   "title_sidebar": "Contents",
   "toc_cell": false,
   "toc_position": {
    "height": "calc(100% - 180px)",
    "left": "10px",
    "top": "150px",
    "width": "259.422px"
   },
   "toc_section_display": true,
   "toc_window_display": true
  }
 },
 "nbformat": 4,
 "nbformat_minor": 4
}
