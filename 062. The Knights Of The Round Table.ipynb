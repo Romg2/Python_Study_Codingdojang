{
 "cells": [
  {
   "cell_type": "markdown",
   "metadata": {},
   "source": [
    "**코딩 도장** 사이트의 문제를 직접 풀어본 내용을 정리하여 올립니다.\n",
    "\n",
    "[코딩 도장](https://codingdojang.com/)에서 여러 문제를 확인할 수 있습니다.\n",
    "\n",
    "난이도 순으로 차근차근 풀어보려 합니다."
   ]
  },
  {
   "cell_type": "markdown",
   "metadata": {},
   "source": [
    "---"
   ]
  },
  {
   "cell_type": "markdown",
   "metadata": {},
   "source": [
    "**[문제: The Knights Of The Round Table] - Lv.2**"
   ]
  },
  {
   "cell_type": "markdown",
   "metadata": {},
   "source": [
    "아서 왕이 천장에 삼각형 창이 있는 방에 원탁을 놓을 계획을 세우고 있다. \n",
    "\n",
    "그는 햇빛이 원탁 위에 비추게 하고 싶다. \n",
    "\n",
    "특히 정오에 태양이 바로 머리 위에 있을 때는 원탁 전체에 햇빛이 비추도록 하려고 한다.\n",
    "\n",
    "그래서 그 원탁은 방 안의 특정한 삼각형 영역 안에 자리잡아야 한다. \n",
    "\n",
    "물론 아서 왕은 주어진 조건 내에서 최대한 큰 원탁을 만들고 싶어한다.\n",
    "\n",
    "멀린이 점심을 먹으러 나간 사이에 해가 비추는 영역에 들어갈 수 있는 가장 큰 원탁의 반지름을 계산하는 프로그램을 만들어야 한다.\n",
    "\n",
    "**Input**\n",
    "\n",
    "테스트 케이스의 개수에는 제한이 없으며, 각 테스트 케이스마다 삼각형의 세 변의 길이를 나타내는 실수 세 개(a,b,c)가 입력된다. \n",
    "\n",
    "어떤 변의 길이도 1,000,000을 넘지 않으며, max(a,b,c) ≤ (a+b+c)/2 라고 가정해도 된다.\n",
    "\n",
    "파일 끝에 다다를 때까지 계속 입력을 받는다.\n",
    "\n",
    "**output**\n",
    "\n",
    "각 테스트 케이스마다 다음과 같은 결과를 출력한다.\n",
    "\n",
    "The radius of the round table is: r\n",
    "\n",
    "여기에서 r은 정오에 해가 비추는 영역에 들어갈 수 있는 원탁의 최대 반지름이며, 소수점 셋째 자리까지 반올림한 값을 출력한다.\n",
    "\n",
    "**Sample Input**\n",
    "\n",
    "```\n",
    "12.0 12.0 8.0\n",
    "```\n",
    "\n",
    "**Sample Output**\n",
    "\n",
    "```\n",
    "The radius of the round table is: 2.828\n",
    "```\n",
    "\n",
    "출처: <https://codingdojang.com/scode/442?answer_mode=hide>"
   ]
  },
  {
   "cell_type": "markdown",
   "metadata": {},
   "source": [
    "---"
   ]
  },
  {
   "cell_type": "markdown",
   "metadata": {},
   "source": [
    "**[풀이]**"
   ]
  },
  {
   "cell_type": "code",
   "execution_count": 1,
   "metadata": {
    "scrolled": false
   },
   "outputs": [
    {
     "name": "stdout",
     "output_type": "stream",
     "text": [
      "12 12 8\n",
      "The radius of the round table is: 2.828\n"
     ]
    }
   ],
   "source": [
    "def cal_radius():\n",
    "    a, b, c = [int(i) for i in input().split()]\n",
    "    \n",
    "    s = (a + b + c) / 2\n",
    "    r = (s*(s-a)*(s-b)*(s-c))**0.5 / s\n",
    "    \n",
    "    return print(f\"The radius of the round table is: {r:.3f}\")\n",
    "\n",
    "cal_radius()"
   ]
  },
  {
   "cell_type": "markdown",
   "metadata": {},
   "source": [
    "우선 삼각형 영역 안에 자리잡은 최대 크기의 원은 삼각형 내에 내접하는 원이다.\n",
    "\n",
    "내접원이 있을 때 삼각형의 넓이 공식은 $\\dfrac{r(a + b + c)}{2}$이다.\n",
    "\n",
    "그리고 세 변의 길이를 알고 있을 때 삼각형의 넓이 공식은 $\\sqrt{s(s - a)(s - b)(s - c)}$이며, $s = \\dfrac{(a + b + c)}{2}$이다.\n",
    "\n",
    "이를 헤론의 공식이라고 한다는데 솔직히 까먹어서 헤론의 공식은 검색하였다.\n",
    "\n",
    "아무튼 이를 이용하면 $r = \\dfrac{\\sqrt{s(s - a)(s - b)(s - c)}}{s}$ 로 계산할 수 있다."
   ]
  },
  {
   "cell_type": "markdown",
   "metadata": {},
   "source": [
    "---"
   ]
  },
  {
   "cell_type": "markdown",
   "metadata": {},
   "source": [
    "**[추천 풀이]**"
   ]
  },
  {
   "cell_type": "code",
   "execution_count": 2,
   "metadata": {},
   "outputs": [
    {
     "name": "stdout",
     "output_type": "stream",
     "text": [
      "12 12 8\n",
      "The radius of the round table is: 2.828\n",
      "0\n"
     ]
    }
   ],
   "source": [
    "#파이썬 3.5.1\n",
    "#꼭 띄어쓰기 없는 3개의 변수를 띄어쓰기 구분하여 쓰셔야 합니다\n",
    "#예: 12.0 12.0 8.0 ;O / 1 2 . 0 1 2 . 0 8 . 0 ;X / 12.0*12.0*8.0 ;X / ads wet gry ;X\n",
    "#안 그러면 종료됩니다.\n",
    "\n",
    "from math import *\n",
    "\n",
    "while True:\n",
    "    inp = input()\n",
    "    if len(inp.split()) != 3:\n",
    "        break\n",
    "    a,b,c = map(float,inp.split())\n",
    "    s = (a+b+c)/2\n",
    "    heron = sqrt(s*(s-a)*(s-b)*(s-c))\n",
    "    r = heron/s # 1/s = 2/(a+b+c)\n",
    "    print('The radius of the round table is: {0:.3f}'.format(r))"
   ]
  },
  {
   "cell_type": "markdown",
   "metadata": {},
   "source": [
    "방식은 똑같으나 계속 읽는다는 조건으로 while문을 추가하였다.\n",
    "\n",
    "이 문제는 코딩보다는 공식을 아는 것이 더 중요해보인다."
   ]
  }
 ],
 "metadata": {
  "interpreter": {
   "hash": "63fd5069d213b44bf678585dea6b12cceca9941eaf7f819626cde1f2670de90d"
  },
  "kernelspec": {
   "display_name": "Python 3",
   "language": "python",
   "name": "python3"
  },
  "language_info": {
   "codemirror_mode": {
    "name": "ipython",
    "version": 3
   },
   "file_extension": ".py",
   "mimetype": "text/x-python",
   "name": "python",
   "nbconvert_exporter": "python",
   "pygments_lexer": "ipython3",
   "version": "3.8.5"
  },
  "toc": {
   "base_numbering": 1,
   "nav_menu": {},
   "number_sections": false,
   "sideBar": true,
   "skip_h1_title": false,
   "title_cell": "Table of Contents",
   "title_sidebar": "Contents",
   "toc_cell": false,
   "toc_position": {
    "height": "calc(100% - 180px)",
    "left": "10px",
    "top": "150px",
    "width": "259.422px"
   },
   "toc_section_display": true,
   "toc_window_display": true
  }
 },
 "nbformat": 4,
 "nbformat_minor": 4
}
