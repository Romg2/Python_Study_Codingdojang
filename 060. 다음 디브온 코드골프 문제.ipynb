{
 "cells": [
  {
   "cell_type": "markdown",
   "metadata": {},
   "source": [
    "**코딩 도장** 사이트의 문제를 직접 풀어본 내용을 정리하여 올립니다.\n",
    "\n",
    "[코딩 도장](https://codingdojang.com/)에서 여러 문제를 확인할 수 있습니다.\n",
    "\n",
    "난이도 순으로 차근차근 풀어보려 합니다."
   ]
  },
  {
   "cell_type": "markdown",
   "metadata": {},
   "source": [
    "---"
   ]
  },
  {
   "cell_type": "markdown",
   "metadata": {},
   "source": [
    "**[문제: 다음 디브온 코드골프 문제] - Lv.2**"
   ]
  },
  {
   "cell_type": "markdown",
   "metadata": {},
   "source": [
    "디브온에서 미니대안언어축제가 진행되던 M2 밖에 텍스트큐브 부스에서 재미있는 코드골프 문제 풀기가 있었습니다. \n",
    "\n",
    "150자 이하로 푸신 분들에게는 즉석에서 제공되는 원두커피와 텀블러가 상으로 주어졌다고 합니다.\n",
    "\n",
    "문제는 아래와 같습니다. 이 결과가 나와야 하는데 언어 제약은 없답니다.\n",
    "\n",
    "```\n",
    "     *\n",
    "     *\n",
    "    * *\n",
    "   *   *\n",
    "  *     *\n",
    "**       **\n",
    "  *     *\n",
    "   *   *\n",
    "    * *\n",
    "     *\n",
    "     *\n",
    "```\n",
    "\n",
    "출처: <https://codingdojang.com/scode/433?answer_mode=hide>"
   ]
  },
  {
   "cell_type": "markdown",
   "metadata": {},
   "source": [
    "---"
   ]
  },
  {
   "cell_type": "markdown",
   "metadata": {},
   "source": [
    "**[풀이]**"
   ]
  },
  {
   "cell_type": "code",
   "execution_count": 1,
   "metadata": {
    "scrolled": false
   },
   "outputs": [
    {
     "name": "stdout",
     "output_type": "stream",
     "text": [
      "     *     \n",
      "    * *    \n",
      "   *   *   \n",
      "  *     *  \n",
      " *       * \n",
      "*         *\n",
      " *       * \n",
      "  *     *  \n",
      "   *   *   \n",
      "    * *    \n",
      "     *     \n"
     ]
    }
   ],
   "source": [
    "for i in range(11):\n",
    "    \n",
    "    lst = [\" \"] * 11\n",
    "    n = abs(5-i)\n",
    "    lst[10-n] = \"*\"\n",
    "    lst[n] = \"*\"\n",
    "        \n",
    "    print(\"\".join(lst))"
   ]
  },
  {
   "cell_type": "markdown",
   "metadata": {},
   "source": [
    "패턴을 찾아서 출력하고 싶은데 느낌은 오는데.. 구현을 못하겠다\n",
    "\n",
    "아쉬운대로 마름모라도 출력해보았다..."
   ]
  },
  {
   "cell_type": "markdown",
   "metadata": {},
   "source": [
    "---"
   ]
  },
  {
   "cell_type": "markdown",
   "metadata": {},
   "source": [
    "**[추천 풀이]**"
   ]
  },
  {
   "cell_type": "code",
   "execution_count": 2,
   "metadata": {},
   "outputs": [
    {
     "name": "stdout",
     "output_type": "stream",
     "text": [
      "     *     \n",
      "     *     \n",
      "    * *    \n",
      "   *   *   \n",
      "  *     *  \n",
      "**       **\n",
      "  *     *  \n",
      "   *   *   \n",
      "    * *    \n",
      "     *     \n",
      "     *     \n"
     ]
    }
   ],
   "source": [
    "r = range(-5,6)\n",
    "for y in r:\n",
    "    l=\"\"\n",
    "    for x in r:\n",
    "        a,b=abs(x),abs(y)\n",
    "        l+=(\" \",\"*\")[a+b==4or(5,0)in[(a,b),(b,a)]]\n",
    "    print(l)"
   ]
  },
  {
   "cell_type": "markdown",
   "metadata": {},
   "source": [
    "코드부터 살펴보면 `(결과1, 결과2)[조건식]`으로 입력하면 조건식이 참이면 결과2, 아니면 결과1이 나온다고 한다."
   ]
  },
  {
   "cell_type": "code",
   "execution_count": 3,
   "metadata": {},
   "outputs": [
    {
     "name": "stdout",
     "output_type": "stream",
     "text": [
      "           \n",
      "     *     \n",
      "    * *    \n",
      "   *   *   \n",
      "  *     *  \n",
      " *       * \n",
      "  *     *  \n",
      "   *   *   \n",
      "    * *    \n",
      "     *     \n",
      "           \n"
     ]
    }
   ],
   "source": [
    "r = range(-5,6)\n",
    "for y in r:\n",
    "    l=\"\"\n",
    "    for x in r:\n",
    "        a,b=abs(x),abs(y)\n",
    "        l+=(\" \",\"*\")[a+b==4]\n",
    "    print(l)"
   ]
  },
  {
   "cell_type": "markdown",
   "metadata": {},
   "source": [
    "처음 풀이에서 뒤의 조건을 제거했을 때 모습이다.\n",
    "\n",
    "a + b가 4인 경우만 별표를 추가하므로 작은 마름모가 나온 형태이다.\n",
    "\n",
    "여기에 조건을 추가해서 마름모의 각 모서리 끝에 별표를 추가한 것이다."
   ]
  },
  {
   "cell_type": "code",
   "execution_count": 4,
   "metadata": {},
   "outputs": [
    {
     "name": "stdout",
     "output_type": "stream",
     "text": [
      "     *     \n",
      "    * *    \n",
      "   *   *   \n",
      "  *     *  \n",
      " *       * \n",
      "*         *\n",
      " *       * \n",
      "  *     *  \n",
      "   *   *   \n",
      "    * *    \n",
      "     *     \n"
     ]
    }
   ],
   "source": [
    "r = range(-5,6)\n",
    "for y in r:\n",
    "    l=\"\"\n",
    "    for x in r:\n",
    "        a,b=abs(x),abs(y)\n",
    "        l+=(\" \",\"*\")[a+b==5]\n",
    "    print(l)"
   ]
  },
  {
   "cell_type": "markdown",
   "metadata": {},
   "source": [
    "a + b를 5로 바꾸면 내가 만든 마름모와 같은 형태가 나타난다."
   ]
  }
 ],
 "metadata": {
  "interpreter": {
   "hash": "63fd5069d213b44bf678585dea6b12cceca9941eaf7f819626cde1f2670de90d"
  },
  "kernelspec": {
   "display_name": "Python 3",
   "language": "python",
   "name": "python3"
  },
  "language_info": {
   "codemirror_mode": {
    "name": "ipython",
    "version": 3
   },
   "file_extension": ".py",
   "mimetype": "text/x-python",
   "name": "python",
   "nbconvert_exporter": "python",
   "pygments_lexer": "ipython3",
   "version": "3.8.5"
  },
  "toc": {
   "base_numbering": 1,
   "nav_menu": {},
   "number_sections": false,
   "sideBar": true,
   "skip_h1_title": false,
   "title_cell": "Table of Contents",
   "title_sidebar": "Contents",
   "toc_cell": false,
   "toc_position": {
    "height": "calc(100% - 180px)",
    "left": "10px",
    "top": "150px",
    "width": "259.422px"
   },
   "toc_section_display": true,
   "toc_window_display": true
  }
 },
 "nbformat": 4,
 "nbformat_minor": 4
}
