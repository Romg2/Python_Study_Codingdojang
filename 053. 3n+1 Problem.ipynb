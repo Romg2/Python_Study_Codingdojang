{
 "cells": [
  {
   "cell_type": "markdown",
   "metadata": {},
   "source": [
    "**코딩 도장** 사이트의 문제를 직접 풀어본 내용을 정리하여 올립니다.\n",
    "\n",
    "[코딩 도장](https://codingdojang.com/)에서 여러 문제를 확인할 수 있습니다.\n",
    "\n",
    "난이도 순으로 차근차근 풀어보려 합니다."
   ]
  },
  {
   "cell_type": "markdown",
   "metadata": {},
   "source": [
    "---"
   ]
  },
  {
   "cell_type": "markdown",
   "metadata": {},
   "source": [
    "**[문제: 3n+1 Problem] - Lv.2**"
   ]
  },
  {
   "cell_type": "markdown",
   "metadata": {},
   "source": [
    "어떤 정수 n에서 시작해, n이 짝수면 2로 나누고, 홀수면 3을 곱한 다음 1을 더한다. \n",
    "\n",
    "이렇게 해서 새로 만들어진 숫자를 n으로 놓고, n=1 이 될때까지 같은 작업을 계속 반복한다. \n",
    "\n",
    "예를 들어, n=22이면 다음과 같은 수열이 만들어진다.\n",
    "\n",
    "```\n",
    "22 11 34 17 52 26 13 40 20 10 5 16 8 4 2 1\n",
    "```\n",
    "\n",
    "n이라는 값이 입력되었을때 1이 나올때까지 만들어진 수의 개수(1을 포함)를 n의 사이클 길이라고 한다. \n",
    "\n",
    "위에 있는 수열을 예로 들면 22의 사이클 길이는 16이다. \n",
    "\n",
    "i와 j라는 두개의 수가 주어졌을때, i와 j사이의 모든 수(i, j포함)에 대해 최대 사이클 길이를 구하라.\n",
    "\n",
    "**입력 예**\n",
    "\n",
    "```\n",
    "1    10\n",
    "100  200\n",
    "201  210\n",
    "900  1000\n",
    "```\n",
    "\n",
    "**출력 예**\n",
    "\n",
    "```\n",
    "1    10    20\n",
    "100  200   125\n",
    "201  210   89\n",
    "900  1000  174\n",
    "```\n",
    "\n",
    "**참고**\n",
    "```\n",
    "어떤 자연수 n에 대해서도, 이 조작을 유한 번 시행하면 1이 될 것이라고 예상하는데, 700,000,000,000보다 작은 모든 짝수에 대해 성립한다는 것이 밝혀져 있긴 하지만, 아직 아무도 증명하지 못했습니다. 유명한 헝가리 수학자 폴 에르되시(Paul Erd' os)는, \"우리의 수학은 아직 이 문제를 풀 준비가 되어 있지 않다.\" 라고 했습니다.\n",
    "```\n",
    "\n",
    "출처: <https://codingdojang.com/scode/409?answer_mode=hide>"
   ]
  },
  {
   "cell_type": "markdown",
   "metadata": {},
   "source": [
    "---"
   ]
  },
  {
   "cell_type": "markdown",
   "metadata": {},
   "source": [
    "**[풀이]**"
   ]
  },
  {
   "cell_type": "code",
   "execution_count": 1,
   "metadata": {},
   "outputs": [
    {
     "name": "stdout",
     "output_type": "stream",
     "text": [
      "입력: 900 1000\n",
      "출력: 900 1000 174\n"
     ]
    }
   ],
   "source": [
    "def cycle(n):\n",
    "    i = 1\n",
    "    while n != 1:\n",
    "        if n % 2 == 0:\n",
    "            n /= 2 ; i += 1\n",
    "        else:\n",
    "            n = 3*n + 1 ; i += 1\n",
    "    return i\n",
    "\n",
    "def max_cycle():\n",
    "    a = list(map(int, input(\"입력: \").split()))\n",
    "    max_cycle = max( [cycle(x) for x in range(a[0],a[1]+1)] )\n",
    "    print(\"출력:\", a[0], a[1], max_cycle)\n",
    "\n",
    "max_cycle()"
   ]
  },
  {
   "cell_type": "markdown",
   "metadata": {},
   "source": [
    "먼저 사이클 길이를 만드는 함수를 정의하고 for문으로 입력받은 숫자 사이의 모든 사이클 길이를 구하였다."
   ]
  },
  {
   "cell_type": "markdown",
   "metadata": {},
   "source": [
    "---"
   ]
  },
  {
   "cell_type": "markdown",
   "metadata": {},
   "source": [
    "**[추천 풀이]**"
   ]
  },
  {
   "cell_type": "code",
   "execution_count": 2,
   "metadata": {
    "scrolled": true
   },
   "outputs": [
    {
     "name": "stdout",
     "output_type": "stream",
     "text": [
      "INPUT MIN NUM : 900\n",
      "INPUT MAX NUM : 1000\n",
      "174\n"
     ]
    }
   ],
   "source": [
    "def cypro(k):\n",
    "    cl=1\n",
    "    while k != 1:\n",
    "        if k%2==0:\n",
    "            k=k/2\n",
    "            cl+=1\n",
    "        else:\n",
    "            k=3*k+1\n",
    "            cl+=1\n",
    "    return cl\n",
    "\n",
    "i=int(input('INPUT MIN NUM : '))\n",
    "j=int(input('INPUT MAX NUM : '))\n",
    "t=0\n",
    "arw=[]\n",
    "\n",
    "for t in range(i,j+1):\n",
    "    arw.append(cypro(t))\n",
    "print(max(arw))"
   ]
  },
  {
   "cell_type": "markdown",
   "metadata": {},
   "source": [
    "i, j를 따로 입력한 점 빼곤 나와 같은 풀이이다."
   ]
  }
 ],
 "metadata": {
  "interpreter": {
   "hash": "63fd5069d213b44bf678585dea6b12cceca9941eaf7f819626cde1f2670de90d"
  },
  "kernelspec": {
   "display_name": "Python 3",
   "language": "python",
   "name": "python3"
  },
  "language_info": {
   "codemirror_mode": {
    "name": "ipython",
    "version": 3
   },
   "file_extension": ".py",
   "mimetype": "text/x-python",
   "name": "python",
   "nbconvert_exporter": "python",
   "pygments_lexer": "ipython3",
   "version": "3.8.5"
  },
  "toc": {
   "base_numbering": 1,
   "nav_menu": {},
   "number_sections": false,
   "sideBar": true,
   "skip_h1_title": false,
   "title_cell": "Table of Contents",
   "title_sidebar": "Contents",
   "toc_cell": false,
   "toc_position": {
    "height": "calc(100% - 180px)",
    "left": "10px",
    "top": "150px",
    "width": "259.422px"
   },
   "toc_section_display": true,
   "toc_window_display": true
  }
 },
 "nbformat": 4,
 "nbformat_minor": 4
}
