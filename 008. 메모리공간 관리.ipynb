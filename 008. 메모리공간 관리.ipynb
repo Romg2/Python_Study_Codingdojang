{
 "cells": [
  {
   "cell_type": "markdown",
   "metadata": {},
   "source": [
    "**코딩 도장** 사이트의 문제를 직접 풀어본 내용을 정리하여 올립니다.\n",
    "\n",
    "[코딩 도장](https://codingdojang.com/)에서 여러 문제를 확인할 수 있습니다.\n",
    "\n",
    "난이도 순으로 차근차근 풀어보려 합니다."
   ]
  },
  {
   "cell_type": "markdown",
   "metadata": {},
   "source": [
    "---"
   ]
  },
  {
   "cell_type": "markdown",
   "metadata": {},
   "source": [
    "**[문제: 메모리공간 관리] - Lv.1**"
   ]
  },
  {
   "cell_type": "markdown",
   "metadata": {},
   "source": [
    "프로그램 실행 순서\n",
    "\n",
    "1. 입력할 정수의 개수를 사용자로부터 입력 받는다.\n",
    "\n",
    "\n",
    "2. 입력받은 정수의 개수만큼 정수를 입력받는다.\n",
    "\n",
    "\n",
    "3. 입력받은 정수의 합과 평균 값을 출력한다.\n",
    "\n",
    "\n",
    "4. 할당된 메모리공간을 비운다.\n",
    "\n",
    "요구사항\n",
    "\n",
    "1. 메모리공간은 사용자의 입력 수의 따라 변동된다.\n",
    "\n",
    "\n",
    "2. 사용한 공간은 마지막에 비워야 한다.\n",
    "\n",
    "\n",
    "3. 배열을 사용하면 안된다.\n",
    "\n",
    "출처: <https://codingdojang.com/scode/478?answer_mode=hide>"
   ]
  },
  {
   "cell_type": "markdown",
   "metadata": {},
   "source": [
    "---"
   ]
  },
  {
   "cell_type": "markdown",
   "metadata": {},
   "source": [
    "**[풀이]**"
   ]
  },
  {
   "cell_type": "code",
   "execution_count": 1,
   "metadata": {},
   "outputs": [
    {
     "name": "stdout",
     "output_type": "stream",
     "text": [
      "정수의 개수를 입력하세요.3\n",
      "1번째 정수를 입력하세요.1\n",
      "2번째 정수를 입력하세요.2\n",
      "3번째 정수를 입력하세요.3\n",
      "정수의 합: 6\n",
      "정수의 평균: 2.0\n",
      "197\n"
     ]
    }
   ],
   "source": [
    "import scipy\n",
    "import gc\n",
    "\n",
    "# 1\n",
    "n = int(input(\"정수의 개수를 입력하세요.\"))\n",
    "\n",
    "# 2\n",
    "lst = []\n",
    "for i in range(n):\n",
    "    lst.append(int(input(f\"{i+1}번째 정수를 입력하세요.\")))\n",
    "\n",
    "# 3\n",
    "print(\"정수의 합:\", sum(lst))\n",
    "print(\"정수의 평균:\", sum(lst) / n)\n",
    "\n",
    "# 4\n",
    "del n, lst\n",
    "print(gc.collect())"
   ]
  },
  {
   "cell_type": "markdown",
   "metadata": {},
   "source": [
    "입력받은 정수의 개수만큼 숫자를 추가해서 합과 평균을 구한다.\n",
    "\n",
    "사실 메모리에 대해서 아직까지는 개념이 부족한 것 같다.\n",
    "\n",
    "메모리 해제에 대해서 검색하다가 [DelftStack](https://www.delftstack.com/ko/howto/python/python-clear-memory/)을 참조해서 작성하였다.\n",
    "\n",
    "`del`로 객체를 삭제하였고, `gc.collect()`로 메모리에서 객체를 해제하였다.\n",
    "\n",
    "이전에 [머신러닝 완벽가이드 텍스트 분석[실습]](https://romg2.github.io/mlguide/03_%EB%A8%B8%EC%8B%A0%EB%9F%AC%EB%8B%9D-%EC%99%84%EB%B2%BD%EA%B0%80%EC%9D%B4%EB%93%9C-08.-%ED%85%8D%EC%8A%A4%ED%8A%B8%EB%B6%84%EC%84%9D-%EC%8B%A4%EC%8A%B5/)에서도 사용한 경험이 있다."
   ]
  },
  {
   "cell_type": "markdown",
   "metadata": {},
   "source": [
    "---"
   ]
  },
  {
   "cell_type": "markdown",
   "metadata": {},
   "source": [
    "**[추천 풀이]**"
   ]
  },
  {
   "cell_type": "code",
   "execution_count": 2,
   "metadata": {},
   "outputs": [
    {
     "name": "stdout",
     "output_type": "stream",
     "text": [
      "입력할 정수 개수: 3\n",
      "Enter num1: 1\n",
      "Enter num2: 2\n",
      "Enter num3: 3\n",
      "Sum: 6\n",
      "Avg:  2.00\n"
     ]
    }
   ],
   "source": [
    "num_of_n = int(input(\"입력할 정수 개수: \"))\n",
    "\n",
    "Sum = 0\n",
    "for x in range(num_of_n):\n",
    "    Sum += int(input(\"Enter num%d: \" % (x+1)))\n",
    "\n",
    "print(\"Sum: %d\" % Sum)\n",
    "print(\"Avg:  %.2f\" % (Sum / num_of_n))\n",
    "\n",
    "del num_of_n, Sum, x"
   ]
  },
  {
   "cell_type": "markdown",
   "metadata": {},
   "source": [
    "이번 문제는 추천수가 거의 1개, 2개로 풀이가 다양해서 그 중 하나를 가져왔다.\n",
    "\n",
    "내 풀이랑 거의 유사한 형태인데 `gc.collect()`를 사용하진 않았다.\n",
    "\n",
    "난이도순으로 문제를 풀다보니 오래된 문제여서 그런걸까? 잘 모르겠다.\n",
    "\n",
    "추가로 사람들이 토론한 내용을 보니 배열을 사용하지 말란게 리스트도 안된다는 뜻이라 한다..\n",
    "\n",
    "단순하게 넘파이 배열을 생각했는데.. 어쨌든 이 분도 리스트는 사용하지 않았다."
   ]
  }
 ],
 "metadata": {
  "interpreter": {
   "hash": "63fd5069d213b44bf678585dea6b12cceca9941eaf7f819626cde1f2670de90d"
  },
  "kernelspec": {
   "display_name": "Python 3",
   "language": "python",
   "name": "python3"
  },
  "language_info": {
   "codemirror_mode": {
    "name": "ipython",
    "version": 3
   },
   "file_extension": ".py",
   "mimetype": "text/x-python",
   "name": "python",
   "nbconvert_exporter": "python",
   "pygments_lexer": "ipython3",
   "version": "3.8.5"
  },
  "toc": {
   "base_numbering": 1,
   "nav_menu": {},
   "number_sections": false,
   "sideBar": true,
   "skip_h1_title": false,
   "title_cell": "Table of Contents",
   "title_sidebar": "Contents",
   "toc_cell": false,
   "toc_position": {},
   "toc_section_display": true,
   "toc_window_display": true
  }
 },
 "nbformat": 4,
 "nbformat_minor": 4
}
