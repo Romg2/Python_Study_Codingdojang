{
 "cells": [
  {
   "cell_type": "markdown",
   "metadata": {},
   "source": [
    "**코딩 도장** 사이트의 문제를 직접 풀어본 내용을 정리하여 올립니다.\n",
    "\n",
    "[코딩 도장](https://codingdojang.com/)에서 여러 문제를 확인할 수 있습니다.\n",
    "\n",
    "난이도 순으로 차근차근 풀어보려 합니다."
   ]
  },
  {
   "cell_type": "markdown",
   "metadata": {},
   "source": [
    "---"
   ]
  },
  {
   "cell_type": "markdown",
   "metadata": {},
   "source": [
    "**[문제: 최소공배수] - Lv.1**"
   ]
  },
  {
   "cell_type": "markdown",
   "metadata": {},
   "source": [
    "1부터 10까지의 어떤 수로도 나누어 떨어지는 가장 작은 수는 2520입니다.\n",
    "\n",
    "그렇다면 1부터 20까지의 어떤 수로도 나누어 떨어지는 가장 작은 수는 얼마입니까?\n",
    "\n",
    "(원래 문제 제목은 1부터 20 사이의 어떤 수로도 나누어 떨어지는 가장 작은 수)\n",
    "\n",
    "출처: <https://codingdojang.com/scode/584?answer_mode=hide>"
   ]
  },
  {
   "cell_type": "markdown",
   "metadata": {},
   "source": [
    "---"
   ]
  },
  {
   "cell_type": "markdown",
   "metadata": {},
   "source": [
    "**[풀이]**"
   ]
  },
  {
   "cell_type": "markdown",
   "metadata": {},
   "source": [
    "여러 시도를 했는데 결국 못 풀었다.\n",
    "\n",
    "원래는 1부터 20까지 소인수 분해를 통해서 각 소수들의 최대승만 모으는 방식을 생각했다.\n",
    "\n",
    "예를 들어, 14 = 2^1 x 7^1, 20 = 2^2 x 5^1 이면 2^2 x 5^1 x 7^1 로 출력되게 만들려 하였다.\n",
    "\n",
    "그래서 dictionary로 소수만 모은 다음에 각 숫자들이 소수별로 나눠지는 횟수를 카운트해서 계산하려 하였다.\n",
    "\n",
    "어떻게든 구현은 되는데 코드 짜면서도 이건 아닌거 같아서 포기했다."
   ]
  },
  {
   "cell_type": "markdown",
   "metadata": {},
   "source": [
    "---"
   ]
  },
  {
   "cell_type": "markdown",
   "metadata": {},
   "source": [
    "**[추천 풀이]**"
   ]
  },
  {
   "cell_type": "markdown",
   "metadata": {},
   "source": [
    "추천 풀이를 보기 전에 이 문제는 결국 1부터 20까지의 최소공배수를 구하는 문제이다.\n",
    "\n",
    "최소공배수를 구하는 방식은 소인수 분해 등이 있지만 두 개의 수가 있다면 두 수의 곱 / 최대공약수 로 산출이 가능하다.\n",
    "\n",
    "예를 들어, 30 = 2 x 3 x 5, 36 = 2^2 x 3^2 두 수의 최대공약수는 6 = 2 x 3이다.\n",
    "\n",
    "최소 공배수는 (2 x 3 x 5) x (2^2 x 3^2) / (2 x 3) = 2^2 x 3^2 x 5로 구할 수 있다.\n",
    "\n",
    "(사실 결국엔 다 소인수 분해에 따른 정리)"
   ]
  },
  {
   "cell_type": "code",
   "execution_count": 1,
   "metadata": {},
   "outputs": [
    {
     "name": "stdout",
     "output_type": "stream",
     "text": [
      "232792560.0\n"
     ]
    }
   ],
   "source": [
    "from functools import reduce\n",
    "\n",
    "# 최대공약수\n",
    "def gcd(a, b):\n",
    "    if a < b: a, b = b, a\n",
    "    while b: a, b = b, a % b\n",
    "    return a\n",
    "\n",
    "# x*y/gcd(x, y): (두 수의 곱 / 최대공약수) = 최소공배수\n",
    "def lcm_range(a, b): \n",
    "    return reduce(lambda x, y: x*y/gcd(x, y), range(a, b+1))\n",
    "\n",
    "print(lcm_range(1, 20))"
   ]
  },
  {
   "cell_type": "markdown",
   "metadata": {},
   "source": [
    "주석은 내가 이해하려고 달아두었다.\n",
    "\n",
    "이 분은 최대 공약수를 만드는 함수를 정의하고 `reduce()`를 이용해서 1부터 20까지 최소공배수를 구해나갔다.\n",
    "\n",
    "최대공약수나 최소공배수에 대한 개념을 까먹고 어렵게 문제를 접근한 것이 아쉽다."
   ]
  }
 ],
 "metadata": {
  "interpreter": {
   "hash": "63fd5069d213b44bf678585dea6b12cceca9941eaf7f819626cde1f2670de90d"
  },
  "kernelspec": {
   "display_name": "Python 3",
   "language": "python",
   "name": "python3"
  },
  "language_info": {
   "codemirror_mode": {
    "name": "ipython",
    "version": 3
   },
   "file_extension": ".py",
   "mimetype": "text/x-python",
   "name": "python",
   "nbconvert_exporter": "python",
   "pygments_lexer": "ipython3",
   "version": "3.8.5"
  },
  "toc": {
   "base_numbering": 1,
   "nav_menu": {},
   "number_sections": false,
   "sideBar": true,
   "skip_h1_title": false,
   "title_cell": "Table of Contents",
   "title_sidebar": "Contents",
   "toc_cell": false,
   "toc_position": {
    "height": "calc(100% - 180px)",
    "left": "10px",
    "top": "150px",
    "width": "259.422px"
   },
   "toc_section_display": true,
   "toc_window_display": true
  }
 },
 "nbformat": 4,
 "nbformat_minor": 4
}
