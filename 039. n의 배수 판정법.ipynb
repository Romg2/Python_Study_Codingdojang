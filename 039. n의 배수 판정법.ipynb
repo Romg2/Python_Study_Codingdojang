{
 "cells": [
  {
   "cell_type": "markdown",
   "metadata": {},
   "source": [
    "**코딩 도장** 사이트의 문제를 직접 풀어본 내용을 정리하여 올립니다.\n",
    "\n",
    "[코딩 도장](https://codingdojang.com/)에서 여러 문제를 확인할 수 있습니다.\n",
    "\n",
    "난이도 순으로 차근차근 풀어보려 합니다."
   ]
  },
  {
   "cell_type": "markdown",
   "metadata": {},
   "source": [
    "---"
   ]
  },
  {
   "cell_type": "markdown",
   "metadata": {},
   "source": [
    "**[문제: n의 배수 판정법] - Lv.1**"
   ]
  },
  {
   "cell_type": "markdown",
   "metadata": {},
   "source": [
    "어떤 수 x와 n이 주어졌을때 조건에 따라 x가 n의 배수인지 판별하는 코드를 작성하라.\n",
    "\n",
    "x는 0 이상의 정수이며 조건에 맞지 않는 입력은 주어지지 않는다.\n",
    "\n",
    "여기서 하나의 함수인지 여러 함수인지는 본인이 선택하면 된다.\n",
    "\n",
    "단 절대 산술연산자 중 %와 /는 코드에 없도록 한다.\n",
    "\n",
    "그리고 divmod() 함수를 쓰는것도 금지한다\n",
    "\n",
    "코드는 창의적으로 하는 것을 목적으로 한다. 속도는 크게 중점을 두지 않는다.\n",
    "\n",
    "n의 종류는 2,3,5,7,11,13이다.\n",
    "\n",
    "원하는 n만 선택해서 풀 수도 있다.\n",
    "\n",
    "```\n",
    "입력: 입력으로 주어질 자연수의 종류를 입력받고 차례로 그 수만큼 정수를 입력받는다.\n",
    "\n",
    "6\n",
    "432 2\n",
    "4 3\n",
    "635 5\n",
    "421 7\n",
    "122 11\n",
    "143 13\n",
    "\n",
    "출력\n",
    "\n",
    "1\n",
    "0\n",
    "1\n",
    "0\n",
    "0\n",
    "1\n",
    "```\n",
    "\n",
    "출처: <https://codingdojang.com/scode/649?answer_mode=hide>"
   ]
  },
  {
   "cell_type": "markdown",
   "metadata": {},
   "source": [
    "---"
   ]
  },
  {
   "cell_type": "markdown",
   "metadata": {},
   "source": [
    "**[풀이]**"
   ]
  },
  {
   "cell_type": "code",
   "execution_count": 1,
   "metadata": {
    "scrolled": true
   },
   "outputs": [],
   "source": [
    "y = 0\n",
    "i = 1\n",
    "a = 0\n",
    "\n",
    "def f(x,n):\n",
    "    y = 0\n",
    "    i = 0\n",
    "    a = 0\n",
    "    while y < x:\n",
    "        y = n*i\n",
    "        i += 1\n",
    "        if y == x:\n",
    "            a = 1\n",
    "    return a\n",
    "\n",
    "f(122,11)"
   ]
  },
  {
   "cell_type": "markdown",
   "metadata": {},
   "source": [
    "억지로 만들긴 했는데 x가 나올 때까지 n에 값을 곱해주는 while문을 만들었다.\n",
    "\n",
    "문제에서 속도는 상관없다고 했지만 이 풀이는 단순 반복이다 보니 창의력이 참 부족한 것 같다."
   ]
  },
  {
   "cell_type": "markdown",
   "metadata": {},
   "source": [
    "---"
   ]
  },
  {
   "cell_type": "markdown",
   "metadata": {},
   "source": [
    "**[추천 풀이]**"
   ]
  },
  {
   "cell_type": "code",
   "execution_count": 2,
   "metadata": {},
   "outputs": [],
   "source": [
    "f = lambda x,n: x in range(0,x+1,n)\n",
    "\n",
    "f(122,11)"
   ]
  },
  {
   "cell_type": "markdown",
   "metadata": {},
   "source": [
    "정말 간단하게 풀었다.\n",
    "\n",
    "`range()`로 n 간격만큼 숫자를 생성해 거기에 x가 포함되어 있는지 확인하는 방식이다."
   ]
  }
 ],
 "metadata": {
  "interpreter": {
   "hash": "63fd5069d213b44bf678585dea6b12cceca9941eaf7f819626cde1f2670de90d"
  },
  "kernelspec": {
   "display_name": "Python 3",
   "language": "python",
   "name": "python3"
  },
  "language_info": {
   "codemirror_mode": {
    "name": "ipython",
    "version": 3
   },
   "file_extension": ".py",
   "mimetype": "text/x-python",
   "name": "python",
   "nbconvert_exporter": "python",
   "pygments_lexer": "ipython3",
   "version": "3.8.5"
  },
  "toc": {
   "base_numbering": 1,
   "nav_menu": {},
   "number_sections": false,
   "sideBar": true,
   "skip_h1_title": false,
   "title_cell": "Table of Contents",
   "title_sidebar": "Contents",
   "toc_cell": false,
   "toc_position": {
    "height": "calc(100% - 180px)",
    "left": "10px",
    "top": "150px",
    "width": "259.422px"
   },
   "toc_section_display": true,
   "toc_window_display": true
  }
 },
 "nbformat": 4,
 "nbformat_minor": 4
}
