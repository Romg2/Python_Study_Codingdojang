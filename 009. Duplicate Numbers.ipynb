{
 "cells": [
  {
   "cell_type": "markdown",
   "metadata": {},
   "source": [
    "**코딩 도장** 사이트의 문제를 직접 풀어본 내용을 정리하여 올립니다.\n",
    "\n",
    "[코딩 도장](https://codingdojang.com/)에서 여러 문제를 확인할 수 있습니다.\n",
    "\n",
    "난이도 순으로 차근차근 풀어보려 합니다."
   ]
  },
  {
   "cell_type": "markdown",
   "metadata": {},
   "source": [
    "---"
   ]
  },
  {
   "cell_type": "markdown",
   "metadata": {},
   "source": [
    "**[문제: Duplicate Numbers] - Lv.1**"
   ]
  },
  {
   "cell_type": "markdown",
   "metadata": {},
   "source": [
    "일전에 뭐 게임 회사에서 본 간단한 퀴즈 테스트 입니다.\n",
    "\n",
    "0~9까지의 문자로 된 숫자를 입력 받았을 때, \n",
    "\n",
    "이 입력 값이 0~9까지의 숫자가 각각 한 번 씩만 사용된 것인지 확인하는 함수를 구하시오.\n",
    "\n",
    "- sample inputs: 0123456789 01234 01234567890 6789012345 012322456789\n",
    "\n",
    "\n",
    "- sample outputs: true false false true false\n",
    "\n",
    "출처: <https://codingdojang.com/scode/488?answer_mode=hide>"
   ]
  },
  {
   "cell_type": "markdown",
   "metadata": {},
   "source": [
    "---"
   ]
  },
  {
   "cell_type": "markdown",
   "metadata": {},
   "source": [
    "**[풀이]**"
   ]
  },
  {
   "cell_type": "code",
   "execution_count": 1,
   "metadata": {},
   "outputs": [],
   "source": [
    "def Duplicate_Numbers(x):\n",
    "    num_dict = {i:0 for i in range(10)}\n",
    "    \n",
    "    # 숫자로 입력시 문자열로 변경해서 for문\n",
    "    for num in str(x):\n",
    "        num_dict[int(num)] += 1\n",
    "\n",
    "    if list(num_dict.values()).count(1) == 10:\n",
    "        return True\n",
    "    else:\n",
    "        return False\n",
    "\n",
    "print(Duplicate_Numbers(\"0123456789\"))\n",
    "print(Duplicate_Numbers(\"01234\"))\n",
    "print(Duplicate_Numbers(\"01234567890\"))\n",
    "print(Duplicate_Numbers(\"6789012345\"))\n",
    "print(Duplicate_Numbers(\"012322456789\"))"
   ]
  },
  {
   "cell_type": "markdown",
   "metadata": {},
   "source": [
    "우선 0부터 9의 key를 가지는 dictionary를 생성하였다.\n",
    "\n",
    "입력받은 문자로 된 숫자의 각 숫자별로 카운트를 dictionary의 values에 저장한다.\n",
    "\n",
    "만약 0~9까지의 숫자가 각각 한번씩 사용됐다면 values는 모두 1일 것이다.\n",
    "\n",
    "values를 리스트로 변경하고 1의 갯수가 10이면 True, 아니면 False로 반환하였다."
   ]
  },
  {
   "cell_type": "markdown",
   "metadata": {},
   "source": [
    "---"
   ]
  },
  {
   "cell_type": "markdown",
   "metadata": {},
   "source": [
    "**[추천 풀이]**"
   ]
  },
  {
   "cell_type": "code",
   "execution_count": 2,
   "metadata": {},
   "outputs": [
    {
     "name": "stdout",
     "output_type": "stream",
     "text": [
      "0~9 사이의 숫자로 이루어진 문자열 입력 : 9871236450\n",
      "true\n"
     ]
    }
   ],
   "source": [
    "a = input(\"0~9 사이의 숫자로 이루어진 문자열 입력 : \")\n",
    "print('true' if len(a) == len(set(a)) == 10  else 'false')"
   ]
  },
  {
   "cell_type": "markdown",
   "metadata": {},
   "source": [
    "정말 간단하게 푸셨다.\n",
    "\n",
    "입력받은 숫자의 길이와 `set()`으로 중복을 제거하였을 때 길이가 모두 10이면 True를 반환했다.\n",
    "\n",
    "중복 제거하면 사실 `set()`인데 생각을 못한게 아쉽다."
   ]
  },
  {
   "cell_type": "code",
   "execution_count": 3,
   "metadata": {},
   "outputs": [
    {
     "name": "stdout",
     "output_type": "stream",
     "text": [
      "true\n",
      "false\n",
      "false\n",
      "true\n",
      "false\n"
     ]
    }
   ],
   "source": [
    "n = \"0123456789 01234 01234567890 6789012345 012322456789\".split()\n",
    "\n",
    "for x in n:\n",
    "    print(\"true\" if ''.join(sorted(x))==\"0123456789\" else \"false\")"
   ]
  },
  {
   "cell_type": "markdown",
   "metadata": {},
   "source": [
    "또 다른 풀이 중 추천이 많은 풀이이다.\n",
    "\n",
    "문자로 된 숫자를 `sorted()`로 정렬한 후 `join()`으로 다시 붙인다.\n",
    "\n",
    "이후 문자열 자체가 일치하는지 비교하는 방법이다.\n",
    "\n",
    "아래는 `sorted()`를 그동안 안써서 참고로 써보았다."
   ]
  },
  {
   "cell_type": "code",
   "execution_count": 4,
   "metadata": {},
   "outputs": [
    {
     "name": "stdout",
     "output_type": "stream",
     "text": [
      "[1, 3457844]\n",
      "['3', '4', '4', '4', '5', '7', '8']\n"
     ]
    }
   ],
   "source": [
    "a = [3457844,1]\n",
    "print(sorted(a))\n",
    "\n",
    "b = \"3457844\"\n",
    "print(sorted(b))"
   ]
  }
 ],
 "metadata": {
  "interpreter": {
   "hash": "63fd5069d213b44bf678585dea6b12cceca9941eaf7f819626cde1f2670de90d"
  },
  "kernelspec": {
   "display_name": "Python 3",
   "language": "python",
   "name": "python3"
  },
  "language_info": {
   "codemirror_mode": {
    "name": "ipython",
    "version": 3
   },
   "file_extension": ".py",
   "mimetype": "text/x-python",
   "name": "python",
   "nbconvert_exporter": "python",
   "pygments_lexer": "ipython3",
   "version": "3.8.5"
  },
  "toc": {
   "base_numbering": 1,
   "nav_menu": {},
   "number_sections": false,
   "sideBar": true,
   "skip_h1_title": false,
   "title_cell": "Table of Contents",
   "title_sidebar": "Contents",
   "toc_cell": false,
   "toc_position": {},
   "toc_section_display": true,
   "toc_window_display": true
  }
 },
 "nbformat": 4,
 "nbformat_minor": 4
}
