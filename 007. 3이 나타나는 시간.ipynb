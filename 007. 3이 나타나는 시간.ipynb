{
 "cells": [
  {
   "cell_type": "markdown",
   "metadata": {},
   "source": [
    "**코딩 도장** 사이트의 문제를 직접 풀어본 내용을 정리하여 올립니다.\n",
    "\n",
    "[코딩 도장](https://codingdojang.com/)에서 여러 문제를 확인할 수 있습니다.\n",
    "\n",
    "난이도 순으로 차근차근 풀어보려 합니다."
   ]
  },
  {
   "cell_type": "markdown",
   "metadata": {},
   "source": [
    "---"
   ]
  },
  {
   "cell_type": "markdown",
   "metadata": {},
   "source": [
    "**[문제: 3이 나타나는 시간] - Lv.1**"
   ]
  },
  {
   "cell_type": "markdown",
   "metadata": {},
   "source": [
    "피보나치 수열이란, 첫 번째 항의 값이 0이고 두 번째 항의 값이 1일 때, \n",
    "\n",
    "디지털 시계에 하루동안(00:00~23:59) 3이 표시되는 시간을 초로 환산하면 총 몇 초(second) 일까요?\n",
    "\n",
    "디지털 시계는 하루동안 다음과 같이 시:분(00:00~23:59)으로 표시됩니다.\n",
    "\n",
    "```\n",
    "00:00 (60초간 표시됨)\n",
    "00:01 \n",
    "00:02 \n",
    "...\n",
    "23:59\n",
    "```\n",
    "\n",
    "출처: <https://codingdojang.com/scode/473?answer_mode=hide>"
   ]
  },
  {
   "cell_type": "markdown",
   "metadata": {},
   "source": [
    "---"
   ]
  },
  {
   "cell_type": "markdown",
   "metadata": {},
   "source": [
    "**[풀이]**"
   ]
  },
  {
   "cell_type": "code",
   "execution_count": 1,
   "metadata": {},
   "outputs": [],
   "source": [
    "# 60분 * 24\n",
    "miniute = 60*24\n",
    "\n",
    "# 찾을 숫자 3\n",
    "find_num = 3\n",
    "\n",
    "# 찾을 숫자가 표시되는 시간\n",
    "count = 0\n",
    "\n",
    "for time in range(miniute):\n",
    "    \n",
    "    # 디지털 시계: \"시\"\n",
    "    h = str(time // 60).zfill(2)\n",
    "    \n",
    "    # 디지털 시계: \"분\"\n",
    "    m = str(time % 60).zfill(2)\n",
    "    \n",
    "    # 디지털 시계 완성\n",
    "    clock = h + \":\" + m\n",
    "    \n",
    "    # 찾는 숫자가 있으면 + 60초\n",
    "    if clock.find(str(find_num)) >= 0:\n",
    "        count += 60\n",
    "        \n",
    "print(count,\"초\")\n",
    "\n",
    "# for문 range는 마지막을 제외하므로 23:59까지 잘 나옴\n",
    "print(clock)"
   ]
  },
  {
   "cell_type": "markdown",
   "metadata": {},
   "source": [
    "하루 24시간을 분으로 표현하면 0분에서 1440분으로 나타날 것이다.\n",
    "\n",
    "24시간 디지털 시계에서 분으로 표현한 시간을 60으로 나누었을 때 몫은 시가 되고 나머지는 분이 된다.\n",
    "\n",
    "전체 시간을 for문으로 만들어주면서 `find`로 찾을 숫자가 있으면 60초를 더해 답을 구했다."
   ]
  },
  {
   "cell_type": "markdown",
   "metadata": {},
   "source": [
    "---"
   ]
  },
  {
   "cell_type": "markdown",
   "metadata": {},
   "source": [
    "**[추천 풀이]**"
   ]
  },
  {
   "cell_type": "code",
   "execution_count": 2,
   "metadata": {},
   "outputs": [],
   "source": [
    "sumSec=0    # 초의 총합을 저장할 변수\n",
    "for hour in range(24) :     # 시간\n",
    "    for minute in range(60) :   #분\n",
    "        if '3' in str(hour) or '3' in str(minute) : # 시간이나 분에 3이 들어가면\n",
    "            sumSec += 60            # 60초씩 더함\n",
    "print(sumSec)"
   ]
  },
  {
   "cell_type": "markdown",
   "metadata": {},
   "source": [
    "다른 분들이 풀이한 내용 중 추천 수가 많은 풀이이다.\n",
    "\n",
    "for문을 시와 분에 따라 생성하여서 구하였다.\n",
    "\n",
    "내가 for문을 하나로 만들려고 했다면 이 분은 직관적이게 푸신거 같다. "
   ]
  }
 ],
 "metadata": {
  "interpreter": {
   "hash": "63fd5069d213b44bf678585dea6b12cceca9941eaf7f819626cde1f2670de90d"
  },
  "kernelspec": {
   "display_name": "Python 3",
   "language": "python",
   "name": "python3"
  },
  "language_info": {
   "codemirror_mode": {
    "name": "ipython",
    "version": 3
   },
   "file_extension": ".py",
   "mimetype": "text/x-python",
   "name": "python",
   "nbconvert_exporter": "python",
   "pygments_lexer": "ipython3",
   "version": "3.8.5"
  },
  "toc": {
   "base_numbering": 1,
   "nav_menu": {},
   "number_sections": false,
   "sideBar": true,
   "skip_h1_title": false,
   "title_cell": "Table of Contents",
   "title_sidebar": "Contents",
   "toc_cell": false,
   "toc_position": {},
   "toc_section_display": true,
   "toc_window_display": true
  }
 },
 "nbformat": 4,
 "nbformat_minor": 4
}
