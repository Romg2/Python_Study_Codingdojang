{
 "cells": [
  {
   "cell_type": "markdown",
   "metadata": {},
   "source": [
    "**코딩 도장** 사이트의 문제를 직접 풀어본 내용을 정리하여 올립니다.\n",
    "\n",
    "[코딩 도장](https://codingdojang.com/)에서 여러 문제를 확인할 수 있습니다.\n",
    "\n",
    "난이도 순으로 차근차근 풀어보려 합니다."
   ]
  },
  {
   "cell_type": "markdown",
   "metadata": {},
   "source": [
    "---"
   ]
  },
  {
   "cell_type": "markdown",
   "metadata": {},
   "source": [
    "**[문제: 자신을 제외한 곱셈] - Lv.1**"
   ]
  },
  {
   "cell_type": "markdown",
   "metadata": {},
   "source": [
    "배열 [a, b, c, d]를 입력하면 배열[bcd, acd, abd, abc]를 출력하는 코드를 작성하시오.\n",
    "\n",
    "(단, 나눗셈 사용 금지)\n",
    "\n",
    "입출력되는 배열은 어떤 형식이든 상관없습니다.\n",
    "\n",
    "```\n",
    "입력 예시\n",
    "\n",
    "2, 6, 4, 7\n",
    "```\n",
    "\n",
    "```\n",
    "출력 예시\n",
    "\n",
    "168, 56, 84, 48\n",
    "```\n",
    "\n",
    "출처: <https://codingdojang.com/scode/591?answer_mode=hide>"
   ]
  },
  {
   "cell_type": "markdown",
   "metadata": {},
   "source": [
    "---"
   ]
  },
  {
   "cell_type": "markdown",
   "metadata": {},
   "source": [
    "**[풀이]**"
   ]
  },
  {
   "cell_type": "code",
   "execution_count": 1,
   "metadata": {},
   "outputs": [
    {
     "data": {
      "text/plain": [
       "[168, 84, 56, 48]"
      ]
     },
     "execution_count": 1,
     "metadata": {},
     "output_type": "execute_result"
    }
   ],
   "source": [
    "from functools import reduce\n",
    "\n",
    "def prod_del(x):\n",
    "    lst2 = []\n",
    "    range_lst = range(len(x))\n",
    "    \n",
    "    for i in range_lst:\n",
    "        lst = [x[j] for j in range_lst if j!=i]\n",
    "\n",
    "        lst2.append(reduce(lambda x,y: x*y, lst))\n",
    "\n",
    "    return lst2\n",
    "\n",
    "prod_del([2,4,6,7])"
   ]
  },
  {
   "cell_type": "markdown",
   "metadata": {},
   "source": [
    "처음 입력받은 배열에서 순서대로 자기 자신을 제외한 리스트를 생성하였다.\n",
    "\n",
    "후에 `reduce()`를 이용해서 리스트 내의 모든 숫자를 곱해주는 방식으로 계산하였다."
   ]
  },
  {
   "cell_type": "markdown",
   "metadata": {},
   "source": [
    "---"
   ]
  },
  {
   "cell_type": "markdown",
   "metadata": {},
   "source": [
    "**[추천 풀이]**"
   ]
  },
  {
   "cell_type": "code",
   "execution_count": 2,
   "metadata": {},
   "outputs": [
    {
     "name": "stdout",
     "output_type": "stream",
     "text": [
      "[168, 56, 84, 48]\n"
     ]
    }
   ],
   "source": [
    "def exclude(mylist):\n",
    "    new_list = []\n",
    "    for i in range(len(mylist)) :\n",
    "        sum = 1\n",
    "        for j in range(len(mylist)):\n",
    "            if i == j : pass\n",
    "            else :\n",
    "                sum *= mylist[j]\n",
    "        new_list.append(sum)\n",
    "    return new_list\n",
    "\n",
    "\n",
    "print(exclude([2,6,4,7]))"
   ]
  },
  {
   "cell_type": "markdown",
   "metadata": {},
   "source": [
    "내가 2개의 for문을 이용해서 자기 자신을 제외한 리스트를 생성하였다면, 이 분은 바로 곱해주는 방식을 사용하였다.\n",
    "\n",
    "아이디어의 큰 차이는 없는 것 같다."
   ]
  }
 ],
 "metadata": {
  "interpreter": {
   "hash": "63fd5069d213b44bf678585dea6b12cceca9941eaf7f819626cde1f2670de90d"
  },
  "kernelspec": {
   "display_name": "Python 3",
   "language": "python",
   "name": "python3"
  },
  "language_info": {
   "codemirror_mode": {
    "name": "ipython",
    "version": 3
   },
   "file_extension": ".py",
   "mimetype": "text/x-python",
   "name": "python",
   "nbconvert_exporter": "python",
   "pygments_lexer": "ipython3",
   "version": "3.8.5"
  },
  "toc": {
   "base_numbering": 1,
   "nav_menu": {},
   "number_sections": false,
   "sideBar": true,
   "skip_h1_title": false,
   "title_cell": "Table of Contents",
   "title_sidebar": "Contents",
   "toc_cell": false,
   "toc_position": {
    "height": "calc(100% - 180px)",
    "left": "10px",
    "top": "150px",
    "width": "259.422px"
   },
   "toc_section_display": true,
   "toc_window_display": true
  }
 },
 "nbformat": 4,
 "nbformat_minor": 4
}
