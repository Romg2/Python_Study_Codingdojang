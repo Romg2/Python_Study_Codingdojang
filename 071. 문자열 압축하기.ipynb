{
 "cells": [
  {
   "cell_type": "markdown",
   "metadata": {},
   "source": [
    "**코딩 도장** 사이트의 문제를 직접 풀어본 내용을 정리하여 올립니다.\n",
    "\n",
    "[코딩 도장](https://codingdojang.com/)에서 여러 문제를 확인할 수 있습니다.\n",
    "\n",
    "난이도 순으로 차근차근 풀어보려 합니다."
   ]
  },
  {
   "cell_type": "markdown",
   "metadata": {},
   "source": [
    "---"
   ]
  },
  {
   "cell_type": "markdown",
   "metadata": {},
   "source": [
    "**[문제: 문자열 압축하기] - Lv.2**"
   ]
  },
  {
   "cell_type": "markdown",
   "metadata": {},
   "source": [
    "문자열을 입력받아서, 같은 문자가 연속적으로 반복되는 경우에 그 반복 횟수를 표시하여 문자열을 압축하기.\n",
    "\n",
    "입력 예시: aaabbcccccca\n",
    "\n",
    "출력 예시: a3b2c6a1\n",
    "\n",
    "출처: <https://codingdojang.com/scode/465?answer_mode=hide>"
   ]
  },
  {
   "cell_type": "markdown",
   "metadata": {},
   "source": [
    "---"
   ]
  },
  {
   "cell_type": "markdown",
   "metadata": {},
   "source": [
    "**[풀이]**"
   ]
  },
  {
   "cell_type": "code",
   "execution_count": 1,
   "metadata": {},
   "outputs": [],
   "source": [
    "def compress(txt):\n",
    "    a = \"\"\n",
    "    c = 0\n",
    "    v = txt[0]\n",
    "    for i in range(len(txt)):\n",
    "\n",
    "        if txt[i] == v:\n",
    "            c += 1\n",
    "        else:\n",
    "            a += v + str(c)\n",
    "            v = txt[i]\n",
    "            c = 1\n",
    "\n",
    "        if i == len(txt)-1:\n",
    "            a += v + str(c)\n",
    "\n",
    "    return a\n",
    "\n",
    "txt = \"aaabbcccccca\"\n",
    "compress(txt)"
   ]
  },
  {
   "cell_type": "markdown",
   "metadata": {},
   "source": [
    "이전 값과 동일하면 카운트를 늘리고 동일하지 않으면 여태까지 쌓인 카운트를 문자열에 더해주었다.\n",
    "\n",
    "for문 작성시 초기 값이 필요해서 `v=txt[0]`로 설정하였고 이 때 카운트는 0부터 체크해야한다.\n",
    "\n",
    "마지막의 경우 다음 루프가 작동하지 않으므로 마지막일 경우는 따로 문자열에 더해주었다."
   ]
  },
  {
   "cell_type": "markdown",
   "metadata": {},
   "source": [
    "**[추천 풀이]**"
   ]
  },
  {
   "cell_type": "code",
   "execution_count": 2,
   "metadata": {},
   "outputs": [
    {
     "name": "stdout",
     "output_type": "stream",
     "text": [
      "a2b1c3a5s1\n"
     ]
    }
   ],
   "source": [
    "s = 'aabcccaaaaas'\n",
    "\n",
    "result = s[0]  # 첫번째 값을 결과에 넣는다\n",
    "count  = 0   #\n",
    "\n",
    "for st in s:\n",
    "    if st == result[-1]:  #\n",
    "        count += 1\n",
    "    else:\n",
    "        result += str(count) + st\n",
    "        count = 1\n",
    "result += str(count)\n",
    "\n",
    "print(result)"
   ]
  },
  {
   "cell_type": "markdown",
   "metadata": {},
   "source": [
    "이 분도 비슷한 방식이지만 `else`에서 달라진 문자열까지 더하는 방식을 사용하였다.\n",
    "\n",
    "마지막의 경우 루프가 작동하지 않는 건에 대해선 for문 밖에서 추가해주는 방식을 사용했다."
   ]
  }
 ],
 "metadata": {
  "interpreter": {
   "hash": "63fd5069d213b44bf678585dea6b12cceca9941eaf7f819626cde1f2670de90d"
  },
  "kernelspec": {
   "display_name": "Python 3",
   "language": "python",
   "name": "python3"
  },
  "language_info": {
   "codemirror_mode": {
    "name": "ipython",
    "version": 3
   },
   "file_extension": ".py",
   "mimetype": "text/x-python",
   "name": "python",
   "nbconvert_exporter": "python",
   "pygments_lexer": "ipython3",
   "version": "3.8.5"
  },
  "toc": {
   "base_numbering": 1,
   "nav_menu": {},
   "number_sections": false,
   "sideBar": true,
   "skip_h1_title": false,
   "title_cell": "Table of Contents",
   "title_sidebar": "Contents",
   "toc_cell": false,
   "toc_position": {
    "height": "calc(100% - 180px)",
    "left": "10px",
    "top": "150px",
    "width": "259.422px"
   },
   "toc_section_display": true,
   "toc_window_display": true
  }
 },
 "nbformat": 4,
 "nbformat_minor": 4
}
