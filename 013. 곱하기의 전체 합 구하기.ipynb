{
 "cells": [
  {
   "cell_type": "markdown",
   "metadata": {},
   "source": [
    "**코딩 도장** 사이트의 문제를 직접 풀어본 내용을 정리하여 올립니다.\n",
    "\n",
    "[코딩 도장](https://codingdojang.com/)에서 여러 문제를 확인할 수 있습니다.\n",
    "\n",
    "난이도 순으로 차근차근 풀어보려 합니다."
   ]
  },
  {
   "cell_type": "markdown",
   "metadata": {},
   "source": [
    "---"
   ]
  },
  {
   "cell_type": "markdown",
   "metadata": {},
   "source": [
    "**[문제: 곱하기의 전체 합 구하기] - Lv.1**"
   ]
  },
  {
   "cell_type": "markdown",
   "metadata": {},
   "source": [
    "10~1000까지 각 숫자 분해하여 곱하기의 전체 합 구하라.\n",
    "\n",
    "예로, 10~15까지의 각 숫자 분해하여 곱하기의 전체 합은 다음과 같다.\n",
    "\n",
    "10 = 1 * 0 = 0\n",
    "\n",
    "11 = 1 * 1 = 1\n",
    "\n",
    "12 = 1 * 2 = 2\n",
    "\n",
    "13 = 1 * 3 = 3\n",
    "\n",
    "14 = 1 * 4 = 4\n",
    "\n",
    "15 = 1 * 5 = 5\n",
    "\n",
    "그러므로, 이 경우의 답은 0+1+2+3+4+5 = 15\n",
    "\n",
    "출처: <https://codingdojang.com/scode/505?answer_mode=hide>"
   ]
  },
  {
   "cell_type": "markdown",
   "metadata": {},
   "source": [
    "---"
   ]
  },
  {
   "cell_type": "markdown",
   "metadata": {},
   "source": [
    "**[풀이]**"
   ]
  },
  {
   "cell_type": "code",
   "execution_count": 1,
   "metadata": {},
   "outputs": [
    {
     "name": "stdout",
     "output_type": "stream",
     "text": [
      "93150\n"
     ]
    }
   ],
   "source": [
    "cnt = 0\n",
    "num_lst = range(10,1001)\n",
    "for num in num_lst:\n",
    "    prod = 1\n",
    "\n",
    "    for i in str(num):\n",
    "        prod *= int(i)\n",
    "    \n",
    "    cnt += prod\n",
    "    \n",
    "print(cnt)"
   ]
  },
  {
   "cell_type": "markdown",
   "metadata": {},
   "source": [
    "for문으로 풀어보았는데 특별히 새로운 코드를 활용하기 보단 직관적으로 푼 것 같다."
   ]
  },
  {
   "cell_type": "markdown",
   "metadata": {},
   "source": [
    "---"
   ]
  },
  {
   "cell_type": "markdown",
   "metadata": {},
   "source": [
    "**[추천 풀이]**"
   ]
  },
  {
   "cell_type": "code",
   "execution_count": 2,
   "metadata": {},
   "outputs": [
    {
     "name": "stdout",
     "output_type": "stream",
     "text": [
      "93150\n"
     ]
    }
   ],
   "source": [
    "print(eval('+'.join('*'.join(str(x)) for x in range(10, 1001))))"
   ]
  },
  {
   "cell_type": "markdown",
   "metadata": {},
   "source": [
    "다른 분이 푸신 풀이 중 추천수가 많은 풀이이다.\n",
    "\n",
    "코드를 이해하기 쉽게 살짝 수정해서 과정별로 살펴보자."
   ]
  },
  {
   "cell_type": "code",
   "execution_count": 3,
   "metadata": {},
   "outputs": [
    {
     "data": {
      "text/plain": [
       "['1*0', '1*1', '1*2', '1*3', '1*4']"
      ]
     },
     "execution_count": 3,
     "metadata": {},
     "output_type": "execute_result"
    }
   ],
   "source": [
    "list((\"*\".join(str(x)) for x in range(10, 15)))"
   ]
  },
  {
   "cell_type": "markdown",
   "metadata": {},
   "source": [
    "처음 `join()`과 `str()`을 활용한 부분인데 문자열에 `join()`을 적용하면 각 문자별로 적용이 된다.\n",
    "\n",
    "문자열에 `join()`을 적용해본적이 없어서 처음 알았는데 유용한 것 같다."
   ]
  },
  {
   "cell_type": "code",
   "execution_count": 4,
   "metadata": {},
   "outputs": [
    {
     "data": {
      "text/plain": [
       "'1*0+1*1+1*2+1*3+1*4'"
      ]
     },
     "execution_count": 4,
     "metadata": {},
     "output_type": "execute_result"
    }
   ],
   "source": [
    "'+'.join( \"*\".join(str(x)) for x in range(10, 15) )"
   ]
  },
  {
   "cell_type": "markdown",
   "metadata": {},
   "source": [
    "앞서 생성한 부분을 다시 `join()`으로 더하기 기호를 추가하였다."
   ]
  },
  {
   "cell_type": "code",
   "execution_count": 5,
   "metadata": {},
   "outputs": [
    {
     "data": {
      "text/plain": [
       "10"
      ]
     },
     "execution_count": 5,
     "metadata": {},
     "output_type": "execute_result"
    }
   ],
   "source": [
    "eval( '+'.join( \"*\".join(str(x)) for x in range(10, 15) ) )"
   ]
  },
  {
   "cell_type": "markdown",
   "metadata": {},
   "source": [
    "`eval()`은 문자열로 된 산수의 연산 값을 반환해준다고 한다.\n",
    "\n",
    "앞서 완성된 수식이 문자열이므로 `eval()`을 적용하여 연산을 진행한 것이다.\n",
    "\n",
    "개인적으론 평소에 `join()`이나 `eval()`을 떠올리지 못한 것 같아 이번 기회에 잘 참고해두어야 겠다."
   ]
  }
 ],
 "metadata": {
  "interpreter": {
   "hash": "63fd5069d213b44bf678585dea6b12cceca9941eaf7f819626cde1f2670de90d"
  },
  "kernelspec": {
   "display_name": "Python 3",
   "language": "python",
   "name": "python3"
  },
  "language_info": {
   "codemirror_mode": {
    "name": "ipython",
    "version": 3
   },
   "file_extension": ".py",
   "mimetype": "text/x-python",
   "name": "python",
   "nbconvert_exporter": "python",
   "pygments_lexer": "ipython3",
   "version": "3.8.5"
  },
  "toc": {
   "base_numbering": 1,
   "nav_menu": {},
   "number_sections": false,
   "sideBar": true,
   "skip_h1_title": false,
   "title_cell": "Table of Contents",
   "title_sidebar": "Contents",
   "toc_cell": false,
   "toc_position": {},
   "toc_section_display": true,
   "toc_window_display": true
  }
 },
 "nbformat": 4,
 "nbformat_minor": 4
}
