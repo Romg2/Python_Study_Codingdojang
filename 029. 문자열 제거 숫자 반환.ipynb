{
 "cells": [
  {
   "cell_type": "markdown",
   "metadata": {},
   "source": [
    "**코딩 도장** 사이트의 문제를 직접 풀어본 내용을 정리하여 올립니다.\n",
    "\n",
    "[코딩 도장](https://codingdojang.com/)에서 여러 문제를 확인할 수 있습니다.\n",
    "\n",
    "난이도 순으로 차근차근 풀어보려 합니다."
   ]
  },
  {
   "cell_type": "markdown",
   "metadata": {},
   "source": [
    "---"
   ]
  },
  {
   "cell_type": "markdown",
   "metadata": {},
   "source": [
    "**[문제: 문자열 제거 숫자 반환] - Lv.1**"
   ]
  },
  {
   "cell_type": "markdown",
   "metadata": {},
   "source": [
    "난이도:(쉬움) 현우는 축구를보다가 우리나라선수들의몸값을 알고싶었다\n",
    "\n",
    "그래서 검색을해서 메모장에 적는데 키보드가 조그만하고 안좋은지라\n",
    "\n",
    "자꾸 숫자가아닌 문자를 같이입력해버린다\n",
    "\n",
    "ex: xxx : 1627000000 > xxx : 1w627r00o00p00 만 (특수문자제외)\n",
    "\n",
    "현우는 왜인지모르지만 뜻대로안되는것에\n",
    "\n",
    "너무화가나서 자신이수량을입력하면 문자열만 딱빼서 숫자만 반환하는 코드를 만들고싶어한다\n",
    "\n",
    "화가난 현우를위해 코드를 만들어보자!\n",
    "\n",
    "출처: <https://codingdojang.com/scode/598?answer_mode=hide>"
   ]
  },
  {
   "cell_type": "markdown",
   "metadata": {},
   "source": [
    "---"
   ]
  },
  {
   "cell_type": "markdown",
   "metadata": {},
   "source": [
    "**[풀이]**"
   ]
  },
  {
   "cell_type": "code",
   "execution_count": 1,
   "metadata": {},
   "outputs": [
    {
     "data": {
      "text/plain": [
       "1627000000"
      ]
     },
     "execution_count": 1,
     "metadata": {},
     "output_type": "execute_result"
    }
   ],
   "source": [
    "import re\n",
    "\n",
    "def to_number(x):\n",
    "    num_lst = re.findall(\"[\\d]\", x)\n",
    "    return int(\"\".join(num_lst))\n",
    "\n",
    "to_number(\"한글1w627r00o00p00\")"
   ]
  },
  {
   "cell_type": "markdown",
   "metadata": {},
   "source": [
    "우선 정규식의 `findall()`을 이용해서 숫자들을 리스트 형태로 저장하였다.\n",
    "\n",
    "그 후 `join()`을 이용해서 리스트 내의 숫자를 합쳐서 출력하였다."
   ]
  },
  {
   "cell_type": "markdown",
   "metadata": {},
   "source": [
    "---"
   ]
  },
  {
   "cell_type": "markdown",
   "metadata": {},
   "source": [
    "**[추천 풀이]**"
   ]
  },
  {
   "cell_type": "code",
   "execution_count": 2,
   "metadata": {},
   "outputs": [
    {
     "name": "stdout",
     "output_type": "stream",
     "text": [
      "한글1w627r00o00p00\n",
      "1627000000\n"
     ]
    }
   ],
   "source": [
    "print(''.join(i for i in input('') if i.isdigit()))"
   ]
  },
  {
   "cell_type": "markdown",
   "metadata": {},
   "source": [
    "어떻게 보면 비슷하게 푼 것 같다.\n",
    "\n",
    "나는 숫자를 찾기 위해 정규식을 사용했고 이 분은 `isdigit()`을 사용하였다.\n",
    "\n",
    "`isdigit()` 함수는 처음 알았는데 잘 기억해두면 좋을 것 같다."
   ]
  }
 ],
 "metadata": {
  "interpreter": {
   "hash": "63fd5069d213b44bf678585dea6b12cceca9941eaf7f819626cde1f2670de90d"
  },
  "kernelspec": {
   "display_name": "Python 3",
   "language": "python",
   "name": "python3"
  },
  "language_info": {
   "codemirror_mode": {
    "name": "ipython",
    "version": 3
   },
   "file_extension": ".py",
   "mimetype": "text/x-python",
   "name": "python",
   "nbconvert_exporter": "python",
   "pygments_lexer": "ipython3",
   "version": "3.8.5"
  },
  "toc": {
   "base_numbering": 1,
   "nav_menu": {},
   "number_sections": false,
   "sideBar": true,
   "skip_h1_title": false,
   "title_cell": "Table of Contents",
   "title_sidebar": "Contents",
   "toc_cell": false,
   "toc_position": {
    "height": "calc(100% - 180px)",
    "left": "10px",
    "top": "150px",
    "width": "259.422px"
   },
   "toc_section_display": true,
   "toc_window_display": true
  }
 },
 "nbformat": 4,
 "nbformat_minor": 4
}
