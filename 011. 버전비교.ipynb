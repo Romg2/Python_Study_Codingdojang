{
 "cells": [
  {
   "cell_type": "markdown",
   "metadata": {},
   "source": [
    "**코딩 도장** 사이트의 문제를 직접 풀어본 내용을 정리하여 올립니다.\n",
    "\n",
    "[코딩 도장](https://codingdojang.com/)에서 여러 문제를 확인할 수 있습니다.\n",
    "\n",
    "난이도 순으로 차근차근 풀어보려 합니다."
   ]
  },
  {
   "cell_type": "markdown",
   "metadata": {},
   "source": [
    "---"
   ]
  },
  {
   "cell_type": "markdown",
   "metadata": {},
   "source": [
    "**[문제: 버전비교] - Lv.1**"
   ]
  },
  {
   "cell_type": "markdown",
   "metadata": {},
   "source": [
    "A씨는 두 개의 버전을 비교하는 프로그램을 작성해야 한다.\n",
    "\n",
    "버전은 다음처럼 \".\" 으로 구분된 문자열이다.\n",
    "\n",
    "버전 예) 1.0.0, 1.0.23, 1.1\n",
    "\n",
    "두 개의 버전을 비교하는 프로그램을 작성하시오.\n",
    "\n",
    "다음은 버전 비교의 예이다.\n",
    "\n",
    "```\n",
    "0.0.2 > 0.0.1\n",
    "1.0.10 > 1.0.3\n",
    "1.2.0 > 1.1.99\n",
    "1.1 > 1.0.1\n",
    "```\n",
    "\n",
    "출처: <https://codingdojang.com/scode/493?answer_mode=hide>"
   ]
  },
  {
   "cell_type": "markdown",
   "metadata": {},
   "source": [
    "---"
   ]
  },
  {
   "cell_type": "markdown",
   "metadata": {},
   "source": [
    "**[풀이]**"
   ]
  },
  {
   "cell_type": "code",
   "execution_count": 1,
   "metadata": {},
   "outputs": [
    {
     "name": "stdout",
     "output_type": "stream",
     "text": [
      "첫 번째 버전을 입력하세요.1.1\n",
      "두 번째 버전을 입력하세요.1.0.1\n",
      "1.1 > 1.0.1\n"
     ]
    }
   ],
   "source": [
    "def version_compare():\n",
    "    input1 = input(\"첫 번째 버전을 입력하세요.\")\n",
    "    input2 = input(\"두 번째 버전을 입력하세요.\")\n",
    "    \n",
    "    ver1 = input1.replace(\".\", \"\")\n",
    "    ver2 = input2.replace(\".\", \"\")\n",
    "    \n",
    "    len_diff = len(ver1) - len(ver2)\n",
    "    \n",
    "    # 숫자 길이 맞추기\n",
    "    if len_diff > 0:\n",
    "        ver2 = ver2 + \"0\"*abs(len_diff)\n",
    "    elif len_diff <0:\n",
    "        ver1 = ver1 + \"0\"*abs(len_diff)\n",
    "    \n",
    "    # 버전 비교 출력\n",
    "    if int(ver1) > int(ver2):\n",
    "        print(input1, \">\", input2)\n",
    "    elif int(ver1) < int(ver2):\n",
    "        print(input1, \"<\", input2)\n",
    "    else:\n",
    "        print(input1, \"=\", input2)\n",
    "        \n",
    "version_compare()        "
   ]
  },
  {
   "cell_type": "markdown",
   "metadata": {},
   "source": [
    "원래는 (.)을 기준으로 `split()`을 해서 자리별로 비교할까 싶었다.\n",
    "\n",
    "다만 특정 버전은 반드시 (.)이 2개인 것이 아니어서 그런 경우 직접 (.0)을 추가 하려고 했다.\n",
    "\n",
    "어처피 추가할거면 (.)을 다 없애고 추가해서 전체 숫자 길이를 맞추고 비교해도 된다.\n",
    "\n",
    "따라서 숫자 길이가 다른 경우 작은쪽에 길이 차이 만큼 0을 추가하여 두 버전을 비교했다."
   ]
  },
  {
   "cell_type": "markdown",
   "metadata": {},
   "source": [
    "---"
   ]
  },
  {
   "cell_type": "markdown",
   "metadata": {},
   "source": [
    "**[추천 풀이]**"
   ]
  },
  {
   "cell_type": "code",
   "execution_count": 2,
   "metadata": {},
   "outputs": [
    {
     "name": "stdout",
     "output_type": "stream",
     "text": [
      "[(1, 5), (2, 6), (3, 7), (4, None)]\n",
      "[(1, 5), (2, 6), (3, 7), (4, 0)]\n"
     ]
    }
   ],
   "source": [
    "from itertools import zip_longest\n",
    "\n",
    "x = [1, 2, 3, 4]\n",
    "y = [5, 6, 7]\n",
    " \n",
    "# \n",
    "pair1 = zip_longest(x, y)\n",
    "print(list(pair1))\n",
    " \n",
    "# \n",
    "pair2 = zip_longest(x, y, fillvalue=0)\n",
    "print(list(pair2))"
   ]
  },
  {
   "cell_type": "markdown",
   "metadata": {},
   "source": [
    "먼저 추천 풀이에 나올 `zip_longest()`를 처음 봐서 먼저 정리해두고자 한다.\n",
    "\n",
    "`zip()`의 경우 두 쌍의 길이가 다르면 같은 길이까지만 쌍을 이루고 나머지는 버린다.\n",
    "\n",
    "`zip_longest()`는 두 쌍의 길이가 다르면 최대 길이까지 쌍을 이루고 없는 값은 None으로 대체된다.\n",
    "\n",
    "`fillvalue` 옵션을 이용해서 None 대신 넣을 값을 지정 가능하다."
   ]
  },
  {
   "cell_type": "code",
   "execution_count": 3,
   "metadata": {},
   "outputs": [
    {
     "name": "stdout",
     "output_type": "stream",
     "text": [
      "0.0.2 > 0.0.1\n",
      "1.0.10 > 1.0.3\n",
      "1.2.0 > 1.1.99\n",
      "1.1 > 1.0.1\n"
     ]
    }
   ],
   "source": [
    "from itertools import zip_longest\n",
    "\n",
    "def compare(left, right):\n",
    "    left_vars = map(int, left.split('.'))\n",
    "    right_vars = map(int, right.split('.'))\n",
    "    for a, b in zip_longest(left_vars, right_vars, fillvalue = 0):\n",
    "        if a > b:\n",
    "            return '>'\n",
    "        elif a < b:\n",
    "            return '<'\n",
    "    return '='\n",
    "\n",
    "CASES = [['0.0.2', '0.0.1'],\n",
    "         ['1.0.10', '1.0.3'],\n",
    "         ['1.2.0', '1.1.99'],\n",
    "         ['1.1', '1.0.1']]\n",
    "\n",
    "if __name__ == '__main__':\n",
    "    for case in CASES:\n",
    "        print('{0[0]} {1} {0[1]}'.format(case, compare(*case)))"
   ]
  },
  {
   "cell_type": "markdown",
   "metadata": {},
   "source": [
    "다른 분이 푸신 풀이 중 추천수가 많은 풀이이다.\n",
    "\n",
    "`map()`을 이용해서 버전을 `split()`한 것을 각각 숫자형으로 바꿔주었다.\n",
    "\n",
    "그리고 `zip_longest()`로 각 숫자들을 비교해 부등호를 return 하였다.\n",
    "\n",
    "`zip_longest()`를 사용한 이유는 앞서 (.)이 반드시 2개가 아닌 경우를 위해서이다."
   ]
  }
 ],
 "metadata": {
  "interpreter": {
   "hash": "63fd5069d213b44bf678585dea6b12cceca9941eaf7f819626cde1f2670de90d"
  },
  "kernelspec": {
   "display_name": "Python 3",
   "language": "python",
   "name": "python3"
  },
  "language_info": {
   "codemirror_mode": {
    "name": "ipython",
    "version": 3
   },
   "file_extension": ".py",
   "mimetype": "text/x-python",
   "name": "python",
   "nbconvert_exporter": "python",
   "pygments_lexer": "ipython3",
   "version": "3.8.5"
  },
  "toc": {
   "base_numbering": 1,
   "nav_menu": {},
   "number_sections": false,
   "sideBar": true,
   "skip_h1_title": false,
   "title_cell": "Table of Contents",
   "title_sidebar": "Contents",
   "toc_cell": false,
   "toc_position": {},
   "toc_section_display": true,
   "toc_window_display": true
  }
 },
 "nbformat": 4,
 "nbformat_minor": 4
}
