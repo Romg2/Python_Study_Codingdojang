{
 "cells": [
  {
   "cell_type": "markdown",
   "metadata": {},
   "source": [
    "**코딩 도장** 사이트의 문제를 직접 풀어본 내용을 정리하여 올립니다.\n",
    "\n",
    "[코딩 도장](https://codingdojang.com/)에서 여러 문제를 확인할 수 있습니다.\n",
    "\n",
    "난이도 순으로 차근차근 풀어보려 합니다."
   ]
  },
  {
   "cell_type": "markdown",
   "metadata": {},
   "source": [
    "---"
   ]
  },
  {
   "cell_type": "markdown",
   "metadata": {},
   "source": [
    "**[문제: 아스키코드] - Lv.1**"
   ]
  },
  {
   "cell_type": "markdown",
   "metadata": {},
   "source": [
    "철이는 아스키코드에 대해 공부하고있었습니다.\n",
    "\n",
    "하지만 기억력이 좋지않아 순서를 잊어먹게되는탓에 프로그램을 하나 만들어두려합니다.\n",
    "\n",
    "문자를 입력받으면 그 문자에 해당하는 아스키코드를 출력하는 코드를 작성해주세요.\n",
    "\n",
    "```\n",
    "출력조건\n",
    "\n",
    "a는 아스키코드로 97입니다.\n",
    "\n",
    "d는 아스키코드로 100입니다.\n",
    "\n",
    "A는 아스키코드로 65입니다.\n",
    "```\n",
    "\n",
    "출처: <https://codingdojang.com/scode/595?answer_mode=hide>"
   ]
  },
  {
   "cell_type": "markdown",
   "metadata": {},
   "source": [
    "---"
   ]
  },
  {
   "cell_type": "markdown",
   "metadata": {},
   "source": [
    "**[풀이]**"
   ]
  },
  {
   "cell_type": "code",
   "execution_count": 1,
   "metadata": {},
   "outputs": [
    {
     "name": "stdout",
     "output_type": "stream",
     "text": [
      "a는 아스키코드로 97입니다.\n"
     ]
    }
   ],
   "source": [
    "def asci(x):\n",
    "    print(f\"{x}는 아스키코드로 {ord(x)}입니다.\")\n",
    "    \n",
    "asci(\"a\")"
   ]
  },
  {
   "cell_type": "markdown",
   "metadata": {},
   "source": [
    "`ord()`로 문자를 입력하면 아스키코드를 알 수 있다.\n",
    "\n",
    "반대로 `chr()`에 아스키코드 숫자를 입력하면 문자를 알 수 있어 간단하게 작성하였다."
   ]
  },
  {
   "cell_type": "markdown",
   "metadata": {},
   "source": [
    "---"
   ]
  },
  {
   "cell_type": "markdown",
   "metadata": {},
   "source": [
    "**[추천 풀이]**"
   ]
  },
  {
   "cell_type": "code",
   "execution_count": 2,
   "metadata": {},
   "outputs": [
    {
     "name": "stdout",
     "output_type": "stream",
     "text": [
      "a는 아스키코드로 97입니다.\n",
      "d는 아스키코드로 100입니다.\n",
      "A는 아스키코드로 65입니다.\n"
     ]
    }
   ],
   "source": [
    "test = [\"a\", \"d\", \"A\"]\n",
    "for t in test:\n",
    "    print(\"{}는 아스키코드로 {}입니다.\".format(t, ord(t)))"
   ]
  },
  {
   "cell_type": "markdown",
   "metadata": {},
   "source": [
    "똑같이 `ord()`를 사용하여 작성하였다."
   ]
  }
 ],
 "metadata": {
  "interpreter": {
   "hash": "63fd5069d213b44bf678585dea6b12cceca9941eaf7f819626cde1f2670de90d"
  },
  "kernelspec": {
   "display_name": "Python 3",
   "language": "python",
   "name": "python3"
  },
  "language_info": {
   "codemirror_mode": {
    "name": "ipython",
    "version": 3
   },
   "file_extension": ".py",
   "mimetype": "text/x-python",
   "name": "python",
   "nbconvert_exporter": "python",
   "pygments_lexer": "ipython3",
   "version": "3.8.5"
  },
  "toc": {
   "base_numbering": 1,
   "nav_menu": {},
   "number_sections": false,
   "sideBar": true,
   "skip_h1_title": false,
   "title_cell": "Table of Contents",
   "title_sidebar": "Contents",
   "toc_cell": false,
   "toc_position": {
    "height": "calc(100% - 180px)",
    "left": "10px",
    "top": "150px",
    "width": "259.422px"
   },
   "toc_section_display": true,
   "toc_window_display": true
  }
 },
 "nbformat": 4,
 "nbformat_minor": 4
}
