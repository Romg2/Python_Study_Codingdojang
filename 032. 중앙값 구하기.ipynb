{
 "cells": [
  {
   "cell_type": "markdown",
   "metadata": {},
   "source": [
    "**코딩 도장** 사이트의 문제를 직접 풀어본 내용을 정리하여 올립니다.\n",
    "\n",
    "[코딩 도장](https://codingdojang.com/)에서 여러 문제를 확인할 수 있습니다.\n",
    "\n",
    "난이도 순으로 차근차근 풀어보려 합니다."
   ]
  },
  {
   "cell_type": "markdown",
   "metadata": {},
   "source": [
    "---"
   ]
  },
  {
   "cell_type": "markdown",
   "metadata": {},
   "source": [
    "**[문제: 중앙값 구하기] - Lv.1**"
   ]
  },
  {
   "cell_type": "markdown",
   "metadata": {},
   "source": [
    "리스트에 있는 숫자들의 중앙값을 구하는 프로그램을 만들어라.\n",
    "\n",
    "```\n",
    "[7, 9, 14] = 9\n",
    "[24, 31, 35, 49] = 33\n",
    "[17, 37, 37, 47, 57] = 37\n",
    "\n",
    "중앙값 : 자료를 작은 값에서부터 크기순으로 나열할 때 중앙에 위치한 값\n",
    "① 자료의 개수가 홀수이면 가운데 위치한 값이 중앙값이다.\n",
    "② 자료의 개수가 짝수이면 가운데 위치한 두 값의 평균이 중앙값이다.\n",
    "```\n",
    "\n",
    "출처: <https://codingdojang.com/scode/611?answer_mode=hide>"
   ]
  },
  {
   "cell_type": "markdown",
   "metadata": {},
   "source": [
    "---"
   ]
  },
  {
   "cell_type": "markdown",
   "metadata": {},
   "source": [
    "**[풀이]**"
   ]
  },
  {
   "cell_type": "code",
   "execution_count": 1,
   "metadata": {},
   "outputs": [
    {
     "data": {
      "text/plain": [
       "37"
      ]
     },
     "execution_count": 1,
     "metadata": {},
     "output_type": "execute_result"
    }
   ],
   "source": [
    "def median_lst(x):\n",
    "    x2 = sorted(x)\n",
    "    cen_idx = int(len(x2)/2)\n",
    "    \n",
    "    if len(x2) % 2 == 0:\n",
    "        return (x2[cen_idx-1] + x2[cen_idx]) / 2\n",
    "    else:\n",
    "        return x2[cen_idx]\n",
    "    \n",
    "x = [17, 37, 37, 47, 57]\n",
    "median_lst(x)"
   ]
  },
  {
   "cell_type": "markdown",
   "metadata": {},
   "source": [
    "사실 `numpy` 패키지에서 `np.median()`을 사용하면 더 편한데 패키지 없이 작성해보았다.\n",
    "\n",
    "리스트 정렬 후 길이가 짝수인 경우와 홀수인 경우를 분리해서 계산식을 입력하였다."
   ]
  },
  {
   "cell_type": "markdown",
   "metadata": {},
   "source": [
    "---"
   ]
  },
  {
   "cell_type": "markdown",
   "metadata": {},
   "source": [
    "**[추천 풀이]**"
   ]
  },
  {
   "cell_type": "code",
   "execution_count": 2,
   "metadata": {},
   "outputs": [
    {
     "name": "stdout",
     "output_type": "stream",
     "text": [
      "[7, 9, 14] = 9\n",
      "[24, 31, 35, 49] = 33.0\n",
      "[17, 37, 37, 47, 57] = 37\n"
     ]
    }
   ],
   "source": [
    "import statistics\n",
    "\n",
    "test =[[7,9,14],[24, 31, 35, 49],[17,37,37,47,57]]\n",
    "\n",
    "for i in range(len(test)):\n",
    "    print(test[i],'=',statistics.median(test[i]))"
   ]
  },
  {
   "cell_type": "markdown",
   "metadata": {},
   "source": [
    "이 분은 패키지를 이용해서 간단하게 푸셨다."
   ]
  }
 ],
 "metadata": {
  "interpreter": {
   "hash": "63fd5069d213b44bf678585dea6b12cceca9941eaf7f819626cde1f2670de90d"
  },
  "kernelspec": {
   "display_name": "Python 3",
   "language": "python",
   "name": "python3"
  },
  "language_info": {
   "codemirror_mode": {
    "name": "ipython",
    "version": 3
   },
   "file_extension": ".py",
   "mimetype": "text/x-python",
   "name": "python",
   "nbconvert_exporter": "python",
   "pygments_lexer": "ipython3",
   "version": "3.8.5"
  },
  "toc": {
   "base_numbering": 1,
   "nav_menu": {},
   "number_sections": false,
   "sideBar": true,
   "skip_h1_title": false,
   "title_cell": "Table of Contents",
   "title_sidebar": "Contents",
   "toc_cell": false,
   "toc_position": {
    "height": "calc(100% - 180px)",
    "left": "10px",
    "top": "150px",
    "width": "259.422px"
   },
   "toc_section_display": true,
   "toc_window_display": true
  }
 },
 "nbformat": 4,
 "nbformat_minor": 4
}
