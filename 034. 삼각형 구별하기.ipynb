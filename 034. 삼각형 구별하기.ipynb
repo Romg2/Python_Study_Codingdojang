{
 "cells": [
  {
   "cell_type": "markdown",
   "metadata": {},
   "source": [
    "**코딩 도장** 사이트의 문제를 직접 풀어본 내용을 정리하여 올립니다.\n",
    "\n",
    "[코딩 도장](https://codingdojang.com/)에서 여러 문제를 확인할 수 있습니다.\n",
    "\n",
    "난이도 순으로 차근차근 풀어보려 합니다."
   ]
  },
  {
   "cell_type": "markdown",
   "metadata": {},
   "source": [
    "---"
   ]
  },
  {
   "cell_type": "markdown",
   "metadata": {},
   "source": [
    "**[문제: 삼각형 구별하기] - Lv.1**"
   ]
  },
  {
   "cell_type": "markdown",
   "metadata": {},
   "source": [
    "3개의 각으로 삼각형의 예각, 직각, 둔각을 구별하는 프로그램을 만들어라.\n",
    "\n",
    "```\n",
    "[60, 60, 60] = 예각삼각형\n",
    "[30, 60, 90] = 직각삼각형\n",
    "[20, 40, 120] = 둔각삼각형\n",
    "[0, 90, 90] = 삼각형이 아니다\n",
    "[60, 70, 80] = 삼각형이 아니다\n",
    "[40, 40, 50, 50] = 삼각형이 아니다\n",
    "\n",
    "예각삼각형 : 3개의 각이 모두 예각인 삼각형\n",
    "직각삼각형 : 1개의 각이 직각인 삼각형\n",
    "둔각삼각형 : 1개의 각이 둔각인 삼각형\n",
    "① 각이 3개가 아닐 경우 삼각형이 아니다.\n",
    "② 3개의 각의 합이 180°가 아닐 경우 삼각형이 아니다.\n",
    "```\n",
    "\n",
    "출처: <https://codingdojang.com/scode/614?answer_mode=hide>"
   ]
  },
  {
   "cell_type": "markdown",
   "metadata": {},
   "source": [
    "---"
   ]
  },
  {
   "cell_type": "markdown",
   "metadata": {},
   "source": [
    "**[풀이]**"
   ]
  },
  {
   "cell_type": "code",
   "execution_count": 1,
   "metadata": {},
   "outputs": [
    {
     "name": "stdout",
     "output_type": "stream",
     "text": [
      "[60, 60, 60] = 예각 삼각형\n",
      "[30, 60, 90] = 직각 삼각형\n",
      "[20, 40, 120] = 둔각 삼각형\n",
      "[0, 90, 90] = 삼각형이 아니다.\n",
      "[60, 70, 80] = 삼각형이 아니다.\n",
      "[40, 40, 50, 50] = 삼각형이 아니다.\n"
     ]
    }
   ],
   "source": [
    "def triangle(x):\n",
    "    if (len(x) != 3) | (sum(x) != 180) | (min(x) <= 0):\n",
    "        print(f\"{x} = 삼각형이 아니다.\")\n",
    "    elif max(x) > 90:\n",
    "        print(f\"{x} = 둔각 삼각형\")\n",
    "    elif max(x) == 90:\n",
    "        print(f\"{x} = 직각 삼각형\")\n",
    "    elif max(x) < 90:\n",
    "        print(f\"{x} = 예각 삼각형\")\n",
    "\n",
    "lst = [[60, 60, 60], [30, 60, 90], [20, 40, 120], [0, 90, 90], [60, 70, 80], [40, 40, 50, 50]]\n",
    "\n",
    "for i in lst:\n",
    "    triangle(i)"
   ]
  },
  {
   "cell_type": "markdown",
   "metadata": {},
   "source": [
    "코드 자체는 단순히 if를 사용해서 작성하였다.\n",
    "\n",
    "삼각형이 아닌 경우를 제외하고 둔각, 직각, 예각 구분에는 가장 큰 각 하나만 비교해도 된다는 것을 이용하였다."
   ]
  },
  {
   "cell_type": "markdown",
   "metadata": {},
   "source": [
    "---"
   ]
  },
  {
   "cell_type": "markdown",
   "metadata": {},
   "source": [
    "**[추천 풀이]**"
   ]
  },
  {
   "cell_type": "code",
   "execution_count": 2,
   "metadata": {},
   "outputs": [
    {
     "name": "stdout",
     "output_type": "stream",
     "text": [
      "[60, 60, 60] = 예각삼각형\n",
      "[30, 60, 90] = 직각삼각형\n",
      "[20, 40, 120] = 둔각삼각형\n",
      "[0, 90, 90] = 삼각형이 아니다\n",
      "[60, 70, 80] = 삼각형이 아니다\n",
      "[40, 40, 50, 50] = 삼각형이 아니다\n"
     ]
    }
   ],
   "source": [
    "def testTri(l1):\n",
    "    if len(l1) != 3 or sum(l1) != 180 or min(l1) <= 0: return \"삼각형이 아니다\"\n",
    "    if 90 in l1: return \"직각삼각형\"\n",
    "    if max(l1) > 90: return \"둔각삼각형\"\n",
    "    return \"예각삼각형\"\n",
    "\n",
    "list1 = [[60, 60, 60],\n",
    "    [30, 60, 90],\n",
    "    [20, 40, 120],\n",
    "    [0, 90, 90],\n",
    "    [60, 70, 80],\n",
    "    [40, 40, 50, 50]]\n",
    "\n",
    "\n",
    "for l1 in list1:\n",
    "    print(l1, '=', testTri(l1))"
   ]
  },
  {
   "cell_type": "markdown",
   "metadata": {},
   "source": [
    "사실상 거의 완벽하게 똑같이 푼 것 같다."
   ]
  }
 ],
 "metadata": {
  "interpreter": {
   "hash": "63fd5069d213b44bf678585dea6b12cceca9941eaf7f819626cde1f2670de90d"
  },
  "kernelspec": {
   "display_name": "Python 3",
   "language": "python",
   "name": "python3"
  },
  "language_info": {
   "codemirror_mode": {
    "name": "ipython",
    "version": 3
   },
   "file_extension": ".py",
   "mimetype": "text/x-python",
   "name": "python",
   "nbconvert_exporter": "python",
   "pygments_lexer": "ipython3",
   "version": "3.8.5"
  },
  "toc": {
   "base_numbering": 1,
   "nav_menu": {},
   "number_sections": false,
   "sideBar": true,
   "skip_h1_title": false,
   "title_cell": "Table of Contents",
   "title_sidebar": "Contents",
   "toc_cell": false,
   "toc_position": {
    "height": "calc(100% - 180px)",
    "left": "10px",
    "top": "150px",
    "width": "259.422px"
   },
   "toc_section_display": true,
   "toc_window_display": true
  }
 },
 "nbformat": 4,
 "nbformat_minor": 4
}
