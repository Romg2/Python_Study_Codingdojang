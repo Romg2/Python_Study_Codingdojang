{
 "cells": [
  {
   "cell_type": "markdown",
   "metadata": {},
   "source": [
    "**코딩 도장** 사이트의 문제를 직접 풀어본 내용을 정리하여 올립니다.\n",
    "\n",
    "[코딩 도장](https://codingdojang.com/)에서 여러 문제를 확인할 수 있습니다.\n",
    "\n",
    "난이도 순으로 차근차근 풀어보려 합니다."
   ]
  },
  {
   "cell_type": "markdown",
   "metadata": {},
   "source": [
    "---"
   ]
  },
  {
   "cell_type": "markdown",
   "metadata": {},
   "source": [
    "**[문제: 사이냅소프트 면접문제] - Lv.1**"
   ]
  },
  {
   "cell_type": "markdown",
   "metadata": {},
   "source": [
    "주어진 문자열(공백 없이 쉼표로 구분되어 있음)을 가지고 아래 문제에 대한 프로그램을 작성하세요.\n",
    "\n",
    "```\n",
    "이유덕,이재영,권종표,이재영,박민호,강상희,이재영,김지완,최승혁,이성연,박영서,박민호,전경헌,송정환,김재성,이유덕,전경헌\n",
    "```\n",
    "\n",
    "1. 김씨와 이씨는 각각 몇 명 인가요?\n",
    "\n",
    "\n",
    "2. \"이재영\"이란 이름이 몇 번 반복되나요?\n",
    "\n",
    "\n",
    "3. 중복을 제거한 이름을 출력하세요.\n",
    "\n",
    "\n",
    "4. 중복을 제거한 이름을 오름차순으로 정렬하여 출력하세요.\n",
    "\n",
    "출처: <https://codingdojang.com/scode/410?answer_mode=hide>"
   ]
  },
  {
   "cell_type": "markdown",
   "metadata": {},
   "source": [
    "---"
   ]
  },
  {
   "cell_type": "markdown",
   "metadata": {},
   "source": [
    "**[풀이]**"
   ]
  },
  {
   "cell_type": "code",
   "execution_count": 1,
   "metadata": {},
   "outputs": [
    {
     "data": {
      "text/plain": [
       "{'이': 6, '권': 1, '박': 3, '강': 1, '김': 2, '최': 1, '전': 2, '송': 1}"
      ]
     },
     "execution_count": 1,
     "metadata": {},
     "output_type": "execute_result"
    }
   ],
   "source": [
    "# 1.김씨와 이씨는 각각 몇 명 인가요?\n",
    "\n",
    "data = [\"이유덕\",\"이재영\",\"권종표\",\"이재영\",\"박민호\",\"강상희\",\"이재영\",\"김지완\",\n",
    "        \"최승혁\",\"이성연\",\"박영서\",\"박민호\",\"전경헌\",\"송정환\",\"김재성\",\"이유덕\",\"전경헌\"]\n",
    "\n",
    "# \"성\" dictionary 생성\n",
    "names = {str(name)[0]:0 for name in data}\n",
    "\n",
    "# \"성\" count\n",
    "for name in data:\n",
    "    names[str(name)[0]] += 1\n",
    "\n",
    "names"
   ]
  },
  {
   "cell_type": "markdown",
   "metadata": {},
   "source": [
    "한 줄 for문으로 각 \"성\"과 초기값 0을 가지는 dictionary를 생성한다.\n",
    "\n",
    "for문으로 전체 \"성\"별 갯수를 계산한다.\n",
    "\n",
    "김씨는 2명, 이씨는 6명이다."
   ]
  },
  {
   "cell_type": "code",
   "execution_count": 2,
   "metadata": {},
   "outputs": [
    {
     "data": {
      "text/plain": [
       "이재영    3\n",
       "박민호    2\n",
       "이유덕    2\n",
       "전경헌    2\n",
       "김지완    1\n",
       "강상희    1\n",
       "송정환    1\n",
       "권종표    1\n",
       "박영서    1\n",
       "김재성    1\n",
       "이성연    1\n",
       "최승혁    1\n",
       "dtype: int64"
      ]
     },
     "execution_count": 2,
     "metadata": {},
     "output_type": "execute_result"
    }
   ],
   "source": [
    "# 2. \"이재영\"이란 이름이 몇 번 반복되나요?\n",
    "\n",
    "import pandas as pd\n",
    "\n",
    "pd.Series(data).value_counts()"
   ]
  },
  {
   "cell_type": "markdown",
   "metadata": {},
   "source": [
    "판다스 시리즈로 이름별 갯수를 계산하였다.\n",
    "\n",
    "이재영은 3번 반복되었다."
   ]
  },
  {
   "cell_type": "code",
   "execution_count": 3,
   "metadata": {},
   "outputs": [
    {
     "data": {
      "text/plain": [
       "['전경헌',\n",
       " '김재성',\n",
       " '강상희',\n",
       " '박민호',\n",
       " '최승혁',\n",
       " '이성연',\n",
       " '박영서',\n",
       " '이유덕',\n",
       " '권종표',\n",
       " '송정환',\n",
       " '김지완',\n",
       " '이재영']"
      ]
     },
     "execution_count": 3,
     "metadata": {},
     "output_type": "execute_result"
    }
   ],
   "source": [
    "# 3. 중복을 제거한 이름을 출력하세요.\n",
    "\n",
    "unique_data = list(set(data))\n",
    "unique_data"
   ]
  },
  {
   "cell_type": "markdown",
   "metadata": {},
   "source": [
    "집합은 중복을 허용하지 않는 성질을 이용한다."
   ]
  },
  {
   "cell_type": "code",
   "execution_count": 4,
   "metadata": {},
   "outputs": [
    {
     "data": {
      "text/plain": [
       "['강상희',\n",
       " '권종표',\n",
       " '김재성',\n",
       " '김지완',\n",
       " '박민호',\n",
       " '박영서',\n",
       " '송정환',\n",
       " '이성연',\n",
       " '이유덕',\n",
       " '이재영',\n",
       " '전경헌',\n",
       " '최승혁']"
      ]
     },
     "execution_count": 4,
     "metadata": {},
     "output_type": "execute_result"
    }
   ],
   "source": [
    "# 4. 중복을 제거한 이름을 오름차순으로 정렬하여 출력하세요.\n",
    "\n",
    "unique_data.sort()\n",
    "\n",
    "unique_data"
   ]
  },
  {
   "cell_type": "markdown",
   "metadata": {},
   "source": [
    "`sort`를 이용해서 정렬한다.\n",
    "\n",
    "집합은 `sort`가 불가능해서 3번에서 리스트로 설정하였다."
   ]
  },
  {
   "cell_type": "markdown",
   "metadata": {},
   "source": [
    "---"
   ]
  },
  {
   "cell_type": "markdown",
   "metadata": {},
   "source": [
    "**[추천 풀이]**"
   ]
  },
  {
   "cell_type": "code",
   "execution_count": 5,
   "metadata": {},
   "outputs": [
    {
     "name": "stdout",
     "output_type": "stream",
     "text": [
      "김씨 : 2\n",
      "이씨 : 6\n",
      "\n",
      "3\n",
      "['전경헌', '김재성', '강상희', '박민호', '최승혁', '이성연', '박영서', '이유덕', '권종표', '송정환', '김지완', '이재영']\n",
      "['강상희', '권종표', '김재성', '김지완', '박민호', '박영서', '송정환', '이성연', '이유덕', '이재영', '전경헌', '최승혁']\n"
     ]
    }
   ],
   "source": [
    "names = \"이유덕,이재영,권종표,이재영,박민호,강상희,이재영,김지완,최승혁,이성연,박영서,박민호,전경헌,송정환,김재성,이유덕,전경헌\".split(\",\")\n",
    "\n",
    "#1\n",
    "a=[ i[0] for i in names ]\n",
    "print(\"김씨 : %d\\n이씨 : %d\\n\"%(a.count(\"김\"), a.count(\"이\")))\n",
    "\n",
    "#2\n",
    "print(names.count(\"이재영\"))\n",
    "\n",
    "#3\n",
    "uniq_names = list(set(names))\n",
    "print(uniq_names)\n",
    "\n",
    "#4\n",
    "uniq_names.sort()\n",
    "print(uniq_names)"
   ]
  },
  {
   "cell_type": "markdown",
   "metadata": {},
   "source": [
    "다른 분들이 풀이한 내용 중 추천 수가 많은 풀이이다.\n",
    "\n",
    "우선 `split`으로 간단하게 원본 데이터를 만들었다.\n",
    "\n",
    "1번 2번의 경우 리스트에 `count`를 써서 간편하게 만들었다.\n",
    "\n",
    "3번 4번은 동일하다."
   ]
  }
 ],
 "metadata": {
  "interpreter": {
   "hash": "63fd5069d213b44bf678585dea6b12cceca9941eaf7f819626cde1f2670de90d"
  },
  "kernelspec": {
   "display_name": "Python 3",
   "language": "python",
   "name": "python3"
  },
  "language_info": {
   "codemirror_mode": {
    "name": "ipython",
    "version": 3
   },
   "file_extension": ".py",
   "mimetype": "text/x-python",
   "name": "python",
   "nbconvert_exporter": "python",
   "pygments_lexer": "ipython3",
   "version": "3.8.5"
  },
  "toc": {
   "base_numbering": 1,
   "nav_menu": {},
   "number_sections": false,
   "sideBar": true,
   "skip_h1_title": false,
   "title_cell": "Table of Contents",
   "title_sidebar": "Contents",
   "toc_cell": false,
   "toc_position": {},
   "toc_section_display": true,
   "toc_window_display": true
  }
 },
 "nbformat": 4,
 "nbformat_minor": 4
}
