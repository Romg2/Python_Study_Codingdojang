{
 "cells": [
  {
   "cell_type": "markdown",
   "metadata": {},
   "source": [
    "**코딩 도장** 사이트의 문제를 직접 풀어본 내용을 정리하여 올립니다.\n",
    "\n",
    "[코딩 도장](https://codingdojang.com/)에서 여러 문제를 확인할 수 있습니다.\n",
    "\n",
    "난이도 순으로 차근차근 풀어보려 합니다."
   ]
  },
  {
   "cell_type": "markdown",
   "metadata": {},
   "source": [
    "---"
   ]
  },
  {
   "cell_type": "markdown",
   "metadata": {},
   "source": [
    "**[문제: Printing OXs] - Lv.1**"
   ]
  },
  {
   "cell_type": "markdown",
   "metadata": {},
   "source": [
    "앞의 문제들 중 비슷한 알고리즘이 있던 것 같지만, 같은 건 없다고 생각해서 올립니다. \n",
    "\n",
    "문제를 푸는데 많은 approach가 있을 듯 싶습니다. \n",
    "\n",
    "이 문제의 핵심은 비트 연산을 얼마나 잘 이해하고 있냐이기 때문에 비트 연산으로 풀어주세요.\n",
    "\n",
    "input은 int n을 입력 받아 첫번째 row는 (n-1)의 O와 X, 두번째 row는 (n-2)의 O와 XX, \n",
    "\n",
    "세번째 row는 (n-3)의 0와 XXX... n번째 row는 n의 X을 출력하시오.\n",
    "\n",
    "```\n",
    "입력 예시: 6\n",
    "\n",
    "출력 예시:\n",
    "\n",
    "OOOOOX\n",
    "\n",
    "OOOOXX\n",
    "\n",
    "OOOXXX\n",
    "\n",
    "OOXXXX\n",
    "\n",
    "OXXXXX\n",
    "\n",
    "XXXXXX\n",
    "```\n",
    "\n",
    "출처: <https://codingdojang.com/scode/492?answer_mode=hide>"
   ]
  },
  {
   "cell_type": "markdown",
   "metadata": {},
   "source": [
    "---"
   ]
  },
  {
   "cell_type": "markdown",
   "metadata": {},
   "source": [
    "**[풀이]**"
   ]
  },
  {
   "cell_type": "code",
   "execution_count": 1,
   "metadata": {},
   "outputs": [
    {
     "name": "stdout",
     "output_type": "stream",
     "text": [
      "정수를 입력하세요.6\n",
      "OOOOOX\n",
      "OOOOXX\n",
      "OOOXXX\n",
      "OOXXXX\n",
      "OXXXXX\n",
      "XXXXXX\n"
     ]
    }
   ],
   "source": [
    "n = int(input(\"정수를 입력하세요.\"))\n",
    "\n",
    "for i in range(n):\n",
    "    print(\"O\" * (n-i-1) + \"X\" * (i+1))"
   ]
  },
  {
   "cell_type": "markdown",
   "metadata": {},
   "source": [
    "비트로는 못 풀겠어서 문자열의 곱으로 우선 풀어두었다.\n",
    "\n",
    "코드 자체는 간단하게 구했다."
   ]
  },
  {
   "cell_type": "markdown",
   "metadata": {},
   "source": [
    "---"
   ]
  },
  {
   "cell_type": "markdown",
   "metadata": {},
   "source": [
    "**[추천 풀이]**"
   ]
  },
  {
   "cell_type": "code",
   "execution_count": 2,
   "metadata": {},
   "outputs": [
    {
     "name": "stdout",
     "output_type": "stream",
     "text": [
      "6\n",
      "0b1111110\n",
      "OOOOOX\n",
      "0b11111100\n",
      "OOOOXX\n",
      "0b111111000\n",
      "OOOXXX\n",
      "0b1111110000\n",
      "OOXXXX\n",
      "0b11111100000\n",
      "OXXXXX\n",
      "0b111111000000\n",
      "XXXXXX\n"
     ]
    }
   ],
   "source": [
    "n = int(input())\n",
    "tmp = 2**n-1\n",
    "for i in range(n):\n",
    "    print(bin(tmp<<(i+1))) # <- 이해를 위해 추가\n",
    "    print(bin(tmp<<(i+1))[-n:].replace('1','O').replace('0','X'))"
   ]
  },
  {
   "cell_type": "markdown",
   "metadata": {},
   "source": [
    "보니까 다른 사람들도 비트로 푼 사람이 거의 없다..\n",
    "\n",
    "위 풀이는 작성자분이 남겨주신 비트를 이용한 풀이다.\n",
    "\n",
    "결과를 보면서 편하게 이해하려고 과정 코드를 추가해두었다.\n",
    "\n",
    "시프트 연산까지는 비슷하게 생각했었는데 슬라이싱을 뒤에서부터 할 생각을 못한게 아쉽다."
   ]
  }
 ],
 "metadata": {
  "interpreter": {
   "hash": "63fd5069d213b44bf678585dea6b12cceca9941eaf7f819626cde1f2670de90d"
  },
  "kernelspec": {
   "display_name": "Python 3 (ipykernel)",
   "language": "python",
   "name": "python3"
  },
  "language_info": {
   "codemirror_mode": {
    "name": "ipython",
    "version": 3
   },
   "file_extension": ".py",
   "mimetype": "text/x-python",
   "name": "python",
   "nbconvert_exporter": "python",
   "pygments_lexer": "ipython3",
   "version": "3.7.10"
  },
  "toc": {
   "base_numbering": 1,
   "nav_menu": {},
   "number_sections": false,
   "sideBar": true,
   "skip_h1_title": false,
   "title_cell": "Table of Contents",
   "title_sidebar": "Contents",
   "toc_cell": false,
   "toc_position": {},
   "toc_section_display": true,
   "toc_window_display": true
  }
 },
 "nbformat": 4,
 "nbformat_minor": 4
}
