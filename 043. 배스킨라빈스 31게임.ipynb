{
 "cells": [
  {
   "cell_type": "markdown",
   "metadata": {},
   "source": [
    "**코딩 도장** 사이트의 문제를 직접 풀어본 내용을 정리하여 올립니다.\n",
    "\n",
    "[코딩 도장](https://codingdojang.com/)에서 여러 문제를 확인할 수 있습니다.\n",
    "\n",
    "난이도 순으로 차근차근 풀어보려 합니다."
   ]
  },
  {
   "cell_type": "markdown",
   "metadata": {},
   "source": [
    "---"
   ]
  },
  {
   "cell_type": "markdown",
   "metadata": {},
   "source": [
    "**[문제: 배스킨라빈스 31게임] - Lv.1**"
   ]
  },
  {
   "cell_type": "markdown",
   "metadata": {},
   "source": [
    "**게임규칙**\n",
    "\n",
    "게임의 참여자들은 차례를 정해 1부터 31까지의 수를 순차적으로 부른다. \n",
    "\n",
    "한번에 1~3개까지 수를 연달아 부를 수 있으며, 마지막 31을 부른 사람이 진다.\n",
    "\n",
    "- 컴퓨터가 무조건 먼저 시작하고,1P는 무조건 2번째로 말한다.컴퓨터가 무조건 이기게 만들어라.\n",
    "\n",
    "\n",
    "- LEVEL1 예상\n",
    "\n",
    "\n",
    "- 힌트1:4n-2라는 공식을 사용하면 됩니다.\n",
    "\n",
    "\n",
    "- 힌트2:이 게임은 31을 부르면 지는 게임이니 30을 부르면 이깁니다.\n",
    "\n",
    "출처: <https://codingdojang.com/scode/700?answer_mode=hide>"
   ]
  },
  {
   "cell_type": "markdown",
   "metadata": {},
   "source": [
    "---"
   ]
  },
  {
   "cell_type": "markdown",
   "metadata": {},
   "source": [
    "**[풀이]**"
   ]
  },
  {
   "cell_type": "code",
   "execution_count": 1,
   "metadata": {
    "scrolled": true
   },
   "outputs": [
    {
     "name": "stdout",
     "output_type": "stream",
     "text": [
      "1P: [1, 2]\n",
      "2P: 3\n",
      "1P: [4, 5, 6]\n",
      "2P: 7, 8\n",
      "1P: [9, 10]\n",
      "2P: 11, 12, 13\n",
      "1P: [14]\n",
      "2P: 15\n",
      "1P: [16, 17, 18]\n",
      "2P: 19\n",
      "1P: [20, 21, 22]\n",
      "2P: 23\n",
      "1P: [24, 25, 26]\n",
      "2P: 27\n",
      "1P: [28, 29, 30]\n"
     ]
    }
   ],
   "source": [
    "def baskin():\n",
    "    n = 1\n",
    "    \n",
    "    while 4*n-2 < 30:\n",
    "        if n==1:\n",
    "            print(\"1P:\", [1,2])\n",
    "    \n",
    "        me = list(map(int, input(\"2P: \").split(\",\")))\n",
    "    \n",
    "        n += 1\n",
    "        print(\"1P:\", list(range(me[-1] + 1, 4*n-2+1)))\n",
    "    \n",
    "    \n",
    "baskin()"
   ]
  },
  {
   "cell_type": "markdown",
   "metadata": {},
   "source": [
    "배스킨라빈스 게임은 4n-2 공식에 따라 2, 6, 10 ... 을 먼저 말하면 질 수 없다.\n",
    "\n",
    "컴퓨터가 처음 1,2를 말하기 때문에 그 후 내가 몇 개의 숫자를 입력하던 4n-2의 숫자까지 말하게 코드를 짰다.\n",
    "\n",
    "다만 while문 조건이나 입력 시 3개 이상 숫자를 적거나 뜬금없는 숫자를 적는 등에 대한 예외 처리는 하지 않았다."
   ]
  },
  {
   "cell_type": "markdown",
   "metadata": {},
   "source": [
    "---"
   ]
  },
  {
   "cell_type": "markdown",
   "metadata": {},
   "source": [
    "**[추천 풀이]**"
   ]
  },
  {
   "cell_type": "code",
   "execution_count": 2,
   "metadata": {},
   "outputs": [
    {
     "name": "stdout",
     "output_type": "stream",
     "text": [
      "==========베스킨라빈스31 게임을 시작합니다.==========\n",
      "COM : 1!\n",
      "COM : 2!\n",
      "YOU : 3! (총 3번중 1번 말씀하셨습니다. 2번 더 말할수 있어요.) 숫자 4을(를) 말씀하시겠습니까? (y/n)ㅛ\n",
      " 답변오류, y 또는 n 을 입력하세요y\n",
      "YOU : 4! (총 3번중 2번 말씀하셨습니다. 1번 더 말할수 있어요.) 숫자 5을(를) 말씀하시겠습니까? (y/n)n\n",
      "COM : 5!\n",
      "COM : 6!\n",
      "YOU : 7! (총 3번중 1번 말씀하셨습니다. 2번 더 말할수 있어요.) 숫자 8을(를) 말씀하시겠습니까? (y/n)n\n",
      "COM : 8!\n",
      "COM : 9!\n",
      "COM : 10!\n",
      "YOU : 11! (총 3번중 1번 말씀하셨습니다. 2번 더 말할수 있어요.) 숫자 12을(를) 말씀하시겠습니까? (y/n)n\n",
      "COM : 12!\n",
      "COM : 13!\n",
      "COM : 14!\n",
      "YOU : 15! (총 3번중 1번 말씀하셨습니다. 2번 더 말할수 있어요.) 숫자 16을(를) 말씀하시겠습니까? (y/n)n\n",
      "COM : 16!\n",
      "COM : 17!\n",
      "COM : 18!\n",
      "YOU : 19! (총 3번중 1번 말씀하셨습니다. 2번 더 말할수 있어요.) 숫자 20을(를) 말씀하시겠습니까? (y/n)n\n",
      "COM : 20!\n",
      "COM : 21!\n",
      "COM : 22!\n",
      "YOU : 23! (총 3번중 1번 말씀하셨습니다. 2번 더 말할수 있어요.) 숫자 24을(를) 말씀하시겠습니까? (y/n)n\n",
      "COM : 24!\n",
      "COM : 25!\n",
      "COM : 26!\n",
      "YOU : 27! (총 3번중 1번 말씀하셨습니다. 2번 더 말할수 있어요.) 숫자 28을(를) 말씀하시겠습니까? (y/n)n\n",
      "COM : 28!\n",
      "COM : 29!\n",
      "COM : 30!\n",
      "YOU : 31! 내가졌네요.\n"
     ]
    }
   ],
   "source": [
    "print(\"==\"*5 + \"베스킨라빈스31 게임을 시작합니다.\"+\"==\"*5)\n",
    "print(\"COM : 1!\\nCOM : 2!\")\n",
    "\n",
    "num = 2\n",
    "a = 1\n",
    "\n",
    "while num <30 : \n",
    "    a = 1\n",
    "    ans = 0\n",
    "    while ans != \"n\":\n",
    "        num += 1        \n",
    "        ans = input(\"YOU : {0}! (총 3번중 {1}번 말씀하셨습니다. {2}번 더 말할수 있어요.) 숫자 {3}을(를) 말씀하시겠습니까? (y/n)\".format(num, a, 3-a, num+1))\n",
    "        while ans !=\"y\" and ans !=\"n\" :\n",
    "            ans = input(\" 답변오류, y 또는 n 을 입력하세요\")\n",
    "        a += 1\n",
    "        if a >= 3 and ans == \"y\":\n",
    "            num += 1\n",
    "            print(\"YOU : {0}! (COM 턴으로 넘어갑니다)\".format(num))\n",
    "            ans = \"n\"\n",
    "\n",
    "\n",
    "    while num % 4 !=2 : \n",
    "        num += 1\n",
    "        print(\"COM : {0}!\".format(num))\n",
    "\n",
    "print(\"YOU : 31! 내가졌네요.\")"
   ]
  },
  {
   "cell_type": "markdown",
   "metadata": {},
   "source": [
    "문제 푸는 방법이야 당연히 비슷하지만 좀 더 정성스럽게 푸신 분이 있어서 가져왔다.\n",
    "\n",
    "그리고 나는 iter의 숫자로 while문을 작성했다면 이 분처럼 말하는 숫자 자체로 작성한 것이 좋아 보인다."
   ]
  }
 ],
 "metadata": {
  "interpreter": {
   "hash": "63fd5069d213b44bf678585dea6b12cceca9941eaf7f819626cde1f2670de90d"
  },
  "kernelspec": {
   "display_name": "Python 3",
   "language": "python",
   "name": "python3"
  },
  "language_info": {
   "codemirror_mode": {
    "name": "ipython",
    "version": 3
   },
   "file_extension": ".py",
   "mimetype": "text/x-python",
   "name": "python",
   "nbconvert_exporter": "python",
   "pygments_lexer": "ipython3",
   "version": "3.8.5"
  },
  "toc": {
   "base_numbering": 1,
   "nav_menu": {},
   "number_sections": false,
   "sideBar": true,
   "skip_h1_title": false,
   "title_cell": "Table of Contents",
   "title_sidebar": "Contents",
   "toc_cell": false,
   "toc_position": {
    "height": "calc(100% - 180px)",
    "left": "10px",
    "top": "150px",
    "width": "259.422px"
   },
   "toc_section_display": true,
   "toc_window_display": true
  }
 },
 "nbformat": 4,
 "nbformat_minor": 4
}
