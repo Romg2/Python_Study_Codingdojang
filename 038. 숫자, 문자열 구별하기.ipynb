{
 "cells": [
  {
   "cell_type": "markdown",
   "metadata": {},
   "source": [
    "**코딩 도장** 사이트의 문제를 직접 풀어본 내용을 정리하여 올립니다.\n",
    "\n",
    "[코딩 도장](https://codingdojang.com/)에서 여러 문제를 확인할 수 있습니다.\n",
    "\n",
    "난이도 순으로 차근차근 풀어보려 합니다."
   ]
  },
  {
   "cell_type": "markdown",
   "metadata": {},
   "source": [
    "---"
   ]
  },
  {
   "cell_type": "markdown",
   "metadata": {},
   "source": [
    "**[문제: 숫자, 문자열 구별하기] - Lv.1**"
   ]
  },
  {
   "cell_type": "markdown",
   "metadata": {},
   "source": [
    "문자와 숫자가섞인 문자열을 입력받을때 구별하여 출력해라.\n",
    "\n",
    "```\n",
    "input:\n",
    "\n",
    "\"c910m6ia 1ho\"\n",
    "\n",
    "output:\n",
    "\n",
    "str : cmia ho\n",
    "\n",
    "int : 91061\n",
    "```\n",
    "\n",
    "출처: <https://codingdojang.com/scode/646?answer_mode=hide>"
   ]
  },
  {
   "cell_type": "markdown",
   "metadata": {},
   "source": [
    "---"
   ]
  },
  {
   "cell_type": "markdown",
   "metadata": {},
   "source": [
    "**[풀이]**"
   ]
  },
  {
   "cell_type": "code",
   "execution_count": 1,
   "metadata": {
    "scrolled": true
   },
   "outputs": [
    {
     "name": "stdout",
     "output_type": "stream",
     "text": [
      "c910m6ia 1ho\n",
      "str : cmia ho\n",
      "int : 91061\n"
     ]
    }
   ],
   "source": [
    "c = \"\"\n",
    "n = \"\"\n",
    "\n",
    "for i in input():\n",
    "    if i.isdigit() == True:\n",
    "        n += i\n",
    "    else:\n",
    "        c += i\n",
    "        \n",
    "print(f\"str : {c}\")\n",
    "print(f\"int : {n}\")"
   ]
  },
  {
   "cell_type": "markdown",
   "metadata": {},
   "source": [
    "`isdigit()`을 활용해서 숫자와 문자를 구분해 새로운 문자열을 만들었다.\n",
    "\n",
    "이전에 [문자열 제거 숫자 반환](https://romg2.github.io/codingdj/02_%EC%BD%94%EB%94%A9-%EB%8F%84%EC%9E%A5-029.-%EB%AC%B8%EC%9E%90%EC%97%B4-%EC%A0%9C%EA%B1%B0-%EC%88%AB%EC%9E%90-%EB%B0%98%ED%99%98/)에서 비슷한 유형의 문제가 있었다."
   ]
  },
  {
   "cell_type": "markdown",
   "metadata": {},
   "source": [
    "---"
   ]
  },
  {
   "cell_type": "markdown",
   "metadata": {},
   "source": [
    "**[추천 풀이]**"
   ]
  },
  {
   "cell_type": "code",
   "execution_count": 2,
   "metadata": {},
   "outputs": [
    {
     "name": "stdout",
     "output_type": "stream",
     "text": [
      "c910m6ia 1ho\n",
      "str :  cmia ho\n",
      "int :  91061\n"
     ]
    }
   ],
   "source": [
    "str_input,int_input=\"\",\"\"\n",
    "#ex:pa2th0n\n",
    "for i in input():\n",
    "    try:\n",
    "        int(i)\n",
    "        int_input+=i\n",
    "    except:\n",
    "        str_input+=i\n",
    "print(\"str : \",str_input)\n",
    "print(\"int : \",int_input)"
   ]
  },
  {
   "cell_type": "markdown",
   "metadata": {},
   "source": [
    "이 분은 예외 처리를 이용해서 `int()`시 오류가 나면 문자열에 문자를 더해주는 방법을 사용하였다."
   ]
  }
 ],
 "metadata": {
  "interpreter": {
   "hash": "63fd5069d213b44bf678585dea6b12cceca9941eaf7f819626cde1f2670de90d"
  },
  "kernelspec": {
   "display_name": "Python 3",
   "language": "python",
   "name": "python3"
  },
  "language_info": {
   "codemirror_mode": {
    "name": "ipython",
    "version": 3
   },
   "file_extension": ".py",
   "mimetype": "text/x-python",
   "name": "python",
   "nbconvert_exporter": "python",
   "pygments_lexer": "ipython3",
   "version": "3.8.5"
  },
  "toc": {
   "base_numbering": 1,
   "nav_menu": {},
   "number_sections": false,
   "sideBar": true,
   "skip_h1_title": false,
   "title_cell": "Table of Contents",
   "title_sidebar": "Contents",
   "toc_cell": false,
   "toc_position": {
    "height": "calc(100% - 180px)",
    "left": "10px",
    "top": "150px",
    "width": "259.422px"
   },
   "toc_section_display": true,
   "toc_window_display": true
  }
 },
 "nbformat": 4,
 "nbformat_minor": 4
}
