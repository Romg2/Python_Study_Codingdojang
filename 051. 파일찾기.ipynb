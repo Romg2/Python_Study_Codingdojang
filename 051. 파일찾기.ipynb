{
 "cells": [
  {
   "cell_type": "markdown",
   "metadata": {},
   "source": [
    "**코딩 도장** 사이트의 문제를 직접 풀어본 내용을 정리하여 올립니다.\n",
    "\n",
    "[코딩 도장](https://codingdojang.com/)에서 여러 문제를 확인할 수 있습니다.\n",
    "\n",
    "난이도 순으로 차근차근 풀어보려 합니다."
   ]
  },
  {
   "cell_type": "markdown",
   "metadata": {},
   "source": [
    "---"
   ]
  },
  {
   "cell_type": "markdown",
   "metadata": {},
   "source": [
    "**[문제: 파일찾기] - Lv.2**"
   ]
  },
  {
   "cell_type": "markdown",
   "metadata": {},
   "source": [
    "A라는 디렉토리 하위에 있는 텍스트 파일(*.txt) 중에서 LIFE IS TOO SHORT 라는 문자열을 포함하고 있는 파일들을 모두 찾을 수 있는 프로그램을 작성하시오.\n",
    "\n",
    "단, 하위 디렉토리도 포함해서 검색해야 함.\n",
    "\n",
    "출처: <https://codingdojang.com/scode/404?answer_mode=hide>"
   ]
  },
  {
   "cell_type": "markdown",
   "metadata": {},
   "source": [
    "---"
   ]
  },
  {
   "cell_type": "markdown",
   "metadata": {},
   "source": [
    "**[풀이]**"
   ]
  },
  {
   "cell_type": "code",
   "execution_count": 1,
   "metadata": {},
   "outputs": [
    {
     "name": "stdout",
     "output_type": "stream",
     "text": [
      "C:\\Users\\ekzm3\\Desktop\\Github_kkd\\Python_Study_코딩 도장\\A\\LIFE IS TOO SHORT - 복사본.txt\n",
      "C:\\Users\\ekzm3\\Desktop\\Github_kkd\\Python_Study_코딩 도장\\A\\LIFE IS TOO SHORT.txt\n",
      "C:\\Users\\ekzm3\\Desktop\\Github_kkd\\Python_Study_코딩 도장\\A\\새 폴더\\AALIFE IS TOO SHORT.txt\n",
      "C:\\Users\\ekzm3\\Desktop\\Github_kkd\\Python_Study_코딩 도장\\A\\새 폴더 (2)\\A_LIFE IS TOO SHORT.txt\n"
     ]
    }
   ],
   "source": [
    "import os\n",
    "import glob\n",
    "import re\n",
    "\n",
    "path = r'C:\\Users\\ekzm3\\Desktop\\Github_kkd\\Python_Study_코딩 도장\\A'\n",
    "\n",
    "def search_file(root_path, filetype = \"txt\"):\n",
    "    # 디렉토리 내의 txt 파일\n",
    "    a = []\n",
    "    a = a + glob.glob(os.path.join(root_path, f\"*.{filetype}\"))\n",
    "    \n",
    "    # 디렉토리 내의 모든 파일\n",
    "    files = os.listdir(root_path)\n",
    "    \n",
    "    # 디렉토리 내의 파일이 폴더인 경우 txt 파일 찾기\n",
    "    for file in files:\n",
    "        path2 = os.path.join(root_path, file)\n",
    "\n",
    "        if os.path.isdir(path2):\n",
    "            a = a + glob.glob(os.path.join(path2, f\"*.{filetype}\"))\n",
    "    \n",
    "    # 파일명만 저장\n",
    "    # b = [i.split(\"\\\\\")[-1] for i in a]\n",
    "    \n",
    "    # 정규식 지정\n",
    "    p = re.compile(\"LIFE IS TOO SHORT\")\n",
    "\n",
    "    for i in a:\n",
    "        m = p.search(i)\n",
    "        if m:\n",
    "            print(i)\n",
    "        \n",
    "search_file(path)"
   ]
  },
  {
   "cell_type": "markdown",
   "metadata": {},
   "source": [
    "우선 처음 경로에서 `glob.glob()`과 `os.path.join()`으로 txt파일은 모두 저장하는 방법을 선택했다.\n",
    "\n",
    "그 후 하위 디렉토리에서도 같은 방법으로 txt파일은 모두 저장하였다.\n",
    "\n",
    "마지막으로 정규식을 이용해서 LIFE IS TOO SHORT가 포함되어 있는 경우만 출력하였다."
   ]
  },
  {
   "cell_type": "code",
   "execution_count": 2,
   "metadata": {},
   "outputs": [
    {
     "name": "stdout",
     "output_type": "stream",
     "text": [
      "b.txt\n",
      "LIFE IS TOO SHORT - 복사본.txt\n",
      "LIFE IS TOO SHORT.txt\n",
      "AALIFE IS TOO SHORT.txt\n",
      "af.txt\n",
      "A_LIFE IS TOO SHORT.txt\n",
      "c.txt\n"
     ]
    }
   ],
   "source": [
    "for root, dirs, files in os.walk(path):\n",
    "    for file in files:\n",
    "        print(file)"
   ]
  },
  {
   "cell_type": "markdown",
   "metadata": {},
   "source": [
    "`os.walk()`를 사용하면 더 간단하게 모든 파일을 확인 할 수 있다.\n",
    "\n",
    "나는 txt파일만 만들어 두었는데 여러 파일이 혼합된 경우를 고려해서 조건을 추가하면 더 간단하게 만들 수 있을 것 같다."
   ]
  },
  {
   "cell_type": "markdown",
   "metadata": {},
   "source": [
    "---"
   ]
  },
  {
   "cell_type": "markdown",
   "metadata": {},
   "source": [
    "**[추천 풀이]**"
   ]
  },
  {
   "cell_type": "code",
   "execution_count": 3,
   "metadata": {
    "scrolled": true
   },
   "outputs": [],
   "source": [
    "import os\n",
    "\n",
    "def func(dirname):\n",
    "  for root, dirs, files in os.walk(dirname):\n",
    "    for name in files:\n",
    "      if '.txt' in name: \n",
    "        f = open(os.path.join(root,name),'r')\n",
    "        txt = f.read()\n",
    "        if 'LIFE IS TOO SHORT' in txt: print name\n",
    "        f.close()\n",
    "\n",
    "func('.')"
   ]
  },
  {
   "cell_type": "markdown",
   "metadata": {},
   "source": [
    "이 분은 `os.walk()`로 푸셨는데 파이썬 2.x 버전이어서 수정은 안하고 그냥 대략적인 흐름만 이해하였다."
   ]
  }
 ],
 "metadata": {
  "interpreter": {
   "hash": "63fd5069d213b44bf678585dea6b12cceca9941eaf7f819626cde1f2670de90d"
  },
  "kernelspec": {
   "display_name": "Python 3",
   "language": "python",
   "name": "python3"
  },
  "language_info": {
   "codemirror_mode": {
    "name": "ipython",
    "version": 3
   },
   "file_extension": ".py",
   "mimetype": "text/x-python",
   "name": "python",
   "nbconvert_exporter": "python",
   "pygments_lexer": "ipython3",
   "version": "3.8.5"
  },
  "toc": {
   "base_numbering": 1,
   "nav_menu": {},
   "number_sections": false,
   "sideBar": true,
   "skip_h1_title": false,
   "title_cell": "Table of Contents",
   "title_sidebar": "Contents",
   "toc_cell": false,
   "toc_position": {
    "height": "calc(100% - 180px)",
    "left": "10px",
    "top": "150px",
    "width": "259.422px"
   },
   "toc_section_display": true,
   "toc_window_display": true
  }
 },
 "nbformat": 4,
 "nbformat_minor": 4
}
