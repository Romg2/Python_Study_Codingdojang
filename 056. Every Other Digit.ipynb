{
 "cells": [
  {
   "cell_type": "markdown",
   "metadata": {},
   "source": [
    "**코딩 도장** 사이트의 문제를 직접 풀어본 내용을 정리하여 올립니다.\n",
    "\n",
    "[코딩 도장](https://codingdojang.com/)에서 여러 문제를 확인할 수 있습니다.\n",
    "\n",
    "난이도 순으로 차근차근 풀어보려 합니다."
   ]
  },
  {
   "cell_type": "markdown",
   "metadata": {},
   "source": [
    "---"
   ]
  },
  {
   "cell_type": "markdown",
   "metadata": {},
   "source": [
    "**[문제: Every Other Digit] - Lv.2**"
   ]
  },
  {
   "cell_type": "markdown",
   "metadata": {},
   "source": [
    "모든 짝수번째 숫자를 * 로 치환하시오. (홀수번째 숫자,또는 짝수번째 문자를 치환하면 안됩니다.) \n",
    "\n",
    "로직을 이용하면 쉬운데 정규식으로는 어려울거 같아요.\n",
    "\n",
    "```\n",
    "Example: a1b2cde3~g45hi6 → a*b*cde*~g4*hi6\n",
    "```\n",
    "\n",
    "출처: <https://codingdojang.com/scode/428?answer_mode=hide>"
   ]
  },
  {
   "cell_type": "markdown",
   "metadata": {},
   "source": [
    "---"
   ]
  },
  {
   "cell_type": "markdown",
   "metadata": {},
   "source": [
    "**[풀이]**"
   ]
  },
  {
   "cell_type": "code",
   "execution_count": 1,
   "metadata": {},
   "outputs": [
    {
     "data": {
      "text/plain": [
       "'a*b*cde*~g4*hi6'"
      ]
     },
     "execution_count": 1,
     "metadata": {},
     "output_type": "execute_result"
    }
   ],
   "source": [
    "txt = \"a1b2cde3~g45hi6\"\n",
    "txt_lst = list(txt)\n",
    "\n",
    "for i, v in enumerate(txt_lst):\n",
    "    if ((i+1) % 2 == 0) & (v.isdigit() == True):\n",
    "        txt_lst[i] = \"*\"\n",
    "\n",
    "\"\".join(txt_lst)"
   ]
  },
  {
   "cell_type": "markdown",
   "metadata": {},
   "source": [
    "문자열을 리스트로 만든 후 짝수 조건과 숫자 조건에 따라 리스트 값을 바꿔 주었다.\n",
    "\n",
    "짝수 조건은 index를 기준으로 설정하기 위해 (i+1) % 2, 숫자 조건은 `isdigit()`으로 확인하였다.\n",
    "\n",
    "마지막으론 `join()`을 이용해서 출력한다."
   ]
  },
  {
   "cell_type": "code",
   "execution_count": 2,
   "metadata": {},
   "outputs": [
    {
     "data": {
      "text/plain": [
       "'a*b*cde*~g**hi*'"
      ]
     },
     "execution_count": 2,
     "metadata": {},
     "output_type": "execute_result"
    }
   ],
   "source": [
    "txt = \"a1b2cde3~g45hi6\"\n",
    "logic = txt.maketrans(\"0123456789\", \"*\"*10)\n",
    "txt.translate(logic)"
   ]
  },
  {
   "cell_type": "markdown",
   "metadata": {},
   "source": [
    "처음엔 이전에 써보았던 `maketrans()`와 `translate()`를 써보려고 했는데 괜히 더 복잡할 것 같기도 하다."
   ]
  },
  {
   "cell_type": "markdown",
   "metadata": {},
   "source": [
    "---"
   ]
  },
  {
   "cell_type": "markdown",
   "metadata": {},
   "source": [
    "**[추천 풀이]**"
   ]
  },
  {
   "cell_type": "code",
   "execution_count": 3,
   "metadata": {
    "scrolled": true
   },
   "outputs": [
    {
     "data": {
      "text/plain": [
       "'a*b*cde*~g4*hi6'"
      ]
     },
     "execution_count": 3,
     "metadata": {},
     "output_type": "execute_result"
    }
   ],
   "source": [
    "def cnvt(s):\n",
    "    l = list(s)\n",
    "    for k in range(1, len(l), 2):\n",
    "        if l[k].isdigit():\n",
    "            l[k] = '*'\n",
    "    return ''.join(l)\n",
    "\n",
    "cnvt(\"a1b2cde3~g45hi6\")"
   ]
  },
  {
   "cell_type": "markdown",
   "metadata": {},
   "source": [
    "이 분은 짝수 조건은 `range()`에서 간격을 조정해 설정하였는데 훨씬 깔끔해 보인다."
   ]
  }
 ],
 "metadata": {
  "interpreter": {
   "hash": "63fd5069d213b44bf678585dea6b12cceca9941eaf7f819626cde1f2670de90d"
  },
  "kernelspec": {
   "display_name": "Python 3",
   "language": "python",
   "name": "python3"
  },
  "language_info": {
   "codemirror_mode": {
    "name": "ipython",
    "version": 3
   },
   "file_extension": ".py",
   "mimetype": "text/x-python",
   "name": "python",
   "nbconvert_exporter": "python",
   "pygments_lexer": "ipython3",
   "version": "3.8.5"
  },
  "toc": {
   "base_numbering": 1,
   "nav_menu": {},
   "number_sections": false,
   "sideBar": true,
   "skip_h1_title": false,
   "title_cell": "Table of Contents",
   "title_sidebar": "Contents",
   "toc_cell": false,
   "toc_position": {
    "height": "calc(100% - 180px)",
    "left": "10px",
    "top": "150px",
    "width": "259.422px"
   },
   "toc_section_display": true,
   "toc_window_display": true
  }
 },
 "nbformat": 4,
 "nbformat_minor": 4
}
