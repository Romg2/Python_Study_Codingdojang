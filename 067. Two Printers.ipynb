{
 "cells": [
  {
   "cell_type": "markdown",
   "metadata": {},
   "source": [
    "**코딩 도장** 사이트의 문제를 직접 풀어본 내용을 정리하여 올립니다.\n",
    "\n",
    "[코딩 도장](https://codingdojang.com/)에서 여러 문제를 확인할 수 있습니다.\n",
    "\n",
    "난이도 순으로 차근차근 풀어보려 합니다."
   ]
  },
  {
   "cell_type": "markdown",
   "metadata": {},
   "source": [
    "---"
   ]
  },
  {
   "cell_type": "markdown",
   "metadata": {},
   "source": [
    "**[문제: Two Printers] - Lv.2**"
   ]
  },
  {
   "cell_type": "markdown",
   "metadata": {},
   "source": [
    "John과 Mary는 \"J&M 출판사\"를 설립하고 낡은 프린터 2대를 구입하였다.\n",
    "\n",
    "그들이 첫번째로 성사시킨 거래는 N개의 페이지로 구성된 문서를 출력하는 일이었다.\n",
    "\n",
    "그들이 구입한 두 대의 프린터는 각기 다른 속도록 문서를 출력하고 있다고 한다. \n",
    "\n",
    "하나는 한 페이지를 출력하는 데 X초가 걸리고 다른 하나는 Y초가 소요된다고 한다.\n",
    "\n",
    "John과 Mary는 두 대의 프린터를 이용하여 전체 문서를 출력하는 데 드는 최소한의 시간이 알고 싶어졌다.\n",
    "\n",
    "입력과 출력\n",
    "\n",
    "입력데이터의 첫번 째 라인은 테스트케이스의 갯수를 뜻하고 그 갯수만큼의 라인이 추가로 입력된다. \n",
    "\n",
    "추가되는 각 라인은 세 개의 정수값 X Y N 으로 구성된다. \n",
    "\n",
    "X는 첫번째 프린터가 한 페이지를 출력하는 데 드는 소요시간, \n",
    "\n",
    "Y는 두번째 프린터가 한 페이지를 출력하는 데 드는 소요시간을 뜻하고 N은 출력할 문서의 총 페이지 수를 의미한다. \n",
    "\n",
    "(단, 출력할 문서의 총 페이지 수는 1,000,000,000개를 초과하지 않는다.)\n",
    "\n",
    "출력은 프린팅에 드는 최소한의 시간을 테스트케이스의 갯수만큼 공백으로 구분하여 출력하도록 한다.\n",
    "\n",
    "입출력의 예는 다음과 같다:\n",
    "\n",
    "```\n",
    "input data:\n",
    "2\n",
    "1 1 5\n",
    "3 5 4\n",
    "\n",
    "answer:\n",
    "3 9\n",
    "```\n",
    "\n",
    "출처: <https://codingdojang.com/scode/449?answer_mode=hide>"
   ]
  },
  {
   "cell_type": "markdown",
   "metadata": {},
   "source": [
    "---"
   ]
  },
  {
   "cell_type": "markdown",
   "metadata": {},
   "source": [
    "**[풀이]**"
   ]
  },
  {
   "cell_type": "code",
   "execution_count": 1,
   "metadata": {},
   "outputs": [
    {
     "name": "stdout",
     "output_type": "stream",
     "text": [
      "1 1 5\n"
     ]
    },
    {
     "data": {
      "text/plain": [
       "4"
      ]
     },
     "execution_count": 1,
     "metadata": {},
     "output_type": "execute_result"
    }
   ],
   "source": [
    "def TwoPrinters():\n",
    "    x, y, n = [*map(int, input().split())]\n",
    "    c=0\n",
    "    i=1\n",
    "    while c < n:\n",
    "        if (i % x == 0):\n",
    "            c +=1\n",
    "        if (i % y == 0):\n",
    "            c +=1\n",
    "        i += 1\n",
    "    return i\n",
    "\n",
    "TwoPrinters()"
   ]
  },
  {
   "cell_type": "markdown",
   "metadata": {},
   "source": [
    "x,y의 배수인 시간마다 카운트를 증가시키되 최소공배수를 고려해 조건은 각각 분리하였다."
   ]
  },
  {
   "cell_type": "markdown",
   "metadata": {},
   "source": [
    "---"
   ]
  },
  {
   "cell_type": "markdown",
   "metadata": {},
   "source": [
    "**[추천 풀이]**"
   ]
  },
  {
   "cell_type": "code",
   "execution_count": 2,
   "metadata": {},
   "outputs": [
    {
     "data": {
      "text/plain": [
       "6"
      ]
     },
     "execution_count": 2,
     "metadata": {},
     "output_type": "execute_result"
    }
   ],
   "source": [
    "import math\n",
    "\n",
    "def codingdojo449(n1, n2, n3):\n",
    "    s=n1+n2\n",
    "    d1=n2/s\n",
    "    d2=n1/s\n",
    "    w1=math.ceil(n3*d1)\n",
    "    w2=math.ceil(n3*d2)\n",
    "\n",
    "    return min(w1*n1,w2*n2)\n",
    "\n",
    "codingdojo449(3, 5, 3)"
   ]
  },
  {
   "cell_type": "markdown",
   "metadata": {},
   "source": [
    "아래는 해당 코드를 작성한 분의 설명이다.\n",
    "\n",
    "가장 효율적으로 출력하는 경우는\n",
    "\n",
    "한 장에 X시간 걸리는 프린터는 전체의 출력 양 중 Y/(X+Y) $\\cdot$ 100 %를, \n",
    "\n",
    "한 장에 Y시간 걸리는 프린터는 전체의 출력 양 중 X/(X+Y) $\\cdot$ 100 %를 출력하는 경우입니다.\n",
    "\n",
    "마지막 장은 두 프린터가 동시에 출력할 수 없으니 어떤 프린터가 마지막 장을 출력할 시 더 빠른지 모두 계산합니다.\n",
    "\n",
    "그리고 빠른 프린터가 마지막 장을 출력한 경우, 느린 프린터가 마지막 장을 출력한 경우 중 더 빨랐던 값을 반환합니다. \n",
    "\n",
    "마지막 장을 출력하지 않은 프린터의 소요시간은 마지막 장을 출력한 프린터의 소요시간보다 적기 때문에 계산에 고려하지 않습니다."
   ]
  },
  {
   "cell_type": "code",
   "execution_count": 3,
   "metadata": {},
   "outputs": [
    {
     "data": {
      "text/plain": [
       "9"
      ]
     },
     "execution_count": 3,
     "metadata": {},
     "output_type": "execute_result"
    }
   ],
   "source": [
    "import math\n",
    "\n",
    "def codingdojo449(n1, n2, n3):\n",
    "    s=n1+n2\n",
    "    d1=n2/s\n",
    "    d2=n1/s\n",
    "    w1=math.ceil(n3*d1)\n",
    "    w2=math.ceil(n3*d2)\n",
    "\n",
    "    return min(w1*n1,w2*n2)\n",
    "\n",
    "codingdojo449(3, 5, 4)"
   ]
  }
 ],
 "metadata": {
  "interpreter": {
   "hash": "63fd5069d213b44bf678585dea6b12cceca9941eaf7f819626cde1f2670de90d"
  },
  "kernelspec": {
   "display_name": "Python 3",
   "language": "python",
   "name": "python3"
  },
  "language_info": {
   "codemirror_mode": {
    "name": "ipython",
    "version": 3
   },
   "file_extension": ".py",
   "mimetype": "text/x-python",
   "name": "python",
   "nbconvert_exporter": "python",
   "pygments_lexer": "ipython3",
   "version": "3.8.5"
  },
  "toc": {
   "base_numbering": 1,
   "nav_menu": {},
   "number_sections": false,
   "sideBar": true,
   "skip_h1_title": false,
   "title_cell": "Table of Contents",
   "title_sidebar": "Contents",
   "toc_cell": false,
   "toc_position": {
    "height": "calc(100% - 180px)",
    "left": "10px",
    "top": "150px",
    "width": "259.422px"
   },
   "toc_section_display": true,
   "toc_window_display": true
  }
 },
 "nbformat": 4,
 "nbformat_minor": 4
}
