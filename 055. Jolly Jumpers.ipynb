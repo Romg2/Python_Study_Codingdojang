{
 "cells": [
  {
   "cell_type": "markdown",
   "metadata": {},
   "source": [
    "**코딩 도장** 사이트의 문제를 직접 풀어본 내용을 정리하여 올립니다.\n",
    "\n",
    "[코딩 도장](https://codingdojang.com/)에서 여러 문제를 확인할 수 있습니다.\n",
    "\n",
    "난이도 순으로 차근차근 풀어보려 합니다."
   ]
  },
  {
   "cell_type": "markdown",
   "metadata": {},
   "source": [
    "---"
   ]
  },
  {
   "cell_type": "markdown",
   "metadata": {},
   "source": [
    "**[문제: Jolly Jumpers] - Lv.2**"
   ]
  },
  {
   "cell_type": "markdown",
   "metadata": {},
   "source": [
    "n개의 정수(n>0)로 이루어진 수열에 대해 서로 인접해 있는 두 수의 차가 1에서 n-1까지의 값을 모두 가진다고 하자. \n",
    "\n",
    "이러한 수열을 유쾌한 점퍼(jolly jumper)라고 부른다. \n",
    "\n",
    "예를 들어 다음과 같은 수열에서\n",
    "\n",
    "```\n",
    "1 4 2 3\n",
    "```\n",
    "\n",
    "앞 뒤에 있는 숫자 차의 절대 값이 각각 3,2,1이므로 이 수열은 유쾌한 점퍼가 된다. \n",
    "\n",
    "어떤 수열이 유쾌한 점퍼인지 판단할 수 있는 프로그램을 작성하라.\n",
    "\n",
    "**Input**\n",
    "\n",
    "각 줄 맨 앞에는 3000 이하의 정수가 있으며 그 뒤에는 수열을 나타내는 n개의 정수가 입력된다. 맨 앞 숫자가 0이면 출력하고 종료한다.\n",
    "\n",
    "**output**\n",
    "\n",
    "입력된 각 줄에 대해 \"Jolly\" 또는 \"Not Jolly\"를 한 줄씩 출력한다\n",
    "\n",
    "**Sample Input**\n",
    "\n",
    "```\n",
    "4 1 4 2 3\n",
    "5 1 4 2 -1 6\n",
    "```\n",
    "\n",
    "※ 주의: 각 줄의 맨 앞의 숫자는 수열의 갯수이다. 첫번째 입력인 4 1 4 2 3 의 맨 앞의 4는 뒤에 4개의 숫자가 온다는 것을 의미함\n",
    "\n",
    "**Sample Output**\n",
    "\n",
    "```\n",
    "Jolly\n",
    "Not jolly\n",
    "```\n",
    "\n",
    "출처: <https://codingdojang.com/scode/424?answer_mode=hide>"
   ]
  },
  {
   "cell_type": "markdown",
   "metadata": {},
   "source": [
    "---"
   ]
  },
  {
   "cell_type": "markdown",
   "metadata": {},
   "source": [
    "**[풀이]**"
   ]
  },
  {
   "cell_type": "code",
   "execution_count": 1,
   "metadata": {},
   "outputs": [
    {
     "name": "stdout",
     "output_type": "stream",
     "text": [
      "4 1 4 2 3\n",
      "Jolly\n",
      "5 1 4 2 -1 6\n",
      "Not jolly\n"
     ]
    }
   ],
   "source": [
    "def f():\n",
    "    lst = list(map(int, input().split()))\n",
    "    a = [i for i in range(1, lst.pop(0))]\n",
    "    b = sorted([abs(i-j) for i, j in list(zip(lst[0:], lst[1:]))])\n",
    "    \n",
    "    if a==b:\n",
    "        print(\"Jolly\")\n",
    "    else:\n",
    "        print(\"Not jolly\")\n",
    "\n",
    "f()\n",
    "f()"
   ]
  },
  {
   "cell_type": "markdown",
   "metadata": {},
   "source": [
    "정수 n은 필요 없기에 `pop()`으로 제거하면서 제거 된 값이 return 됨을 이용해 1부터 n-1까지 값을 가지는 리스트를 만들었다.\n",
    "\n",
    "나머지 수열은 `zip()`을 이용해 pair를 만들어 차이값을 생성 후 정렬한 리스트를 만들었다.\n",
    "\n",
    "마지막으로 두 리스트가 완전히 일치한다면 Jolly를 반환하게 된다."
   ]
  },
  {
   "cell_type": "markdown",
   "metadata": {},
   "source": [
    "---"
   ]
  },
  {
   "cell_type": "markdown",
   "metadata": {},
   "source": [
    "**[추천 풀이]**"
   ]
  },
  {
   "cell_type": "code",
   "execution_count": 2,
   "metadata": {
    "scrolled": true
   },
   "outputs": [
    {
     "name": "stdout",
     "output_type": "stream",
     "text": [
      "5 1 4 2 -1 6\n",
      "0\n",
      "Not Jolly\n"
     ]
    }
   ],
   "source": [
    "def do(xs):\n",
    "    return {abs(x[0] - x[1]) for x in zip(xs, xs[1:])} == set(range(1, len(xs)))\n",
    "\n",
    "data = []\n",
    "while True:\n",
    "    i = [int(x) for x in input().split()]\n",
    "    if i[0] == 0:\n",
    "        break\n",
    "    data.append(i[1:])\n",
    "for d in data:\n",
    "    if do(d):\n",
    "        print(\"Jolly\")\n",
    "    else:\n",
    "        print(\"Not Jolly\")"
   ]
  },
  {
   "cell_type": "markdown",
   "metadata": {},
   "source": [
    "set을 사용한 점과 여러 입력이 가능하게 한 점 외에는 동일하다."
   ]
  }
 ],
 "metadata": {
  "interpreter": {
   "hash": "63fd5069d213b44bf678585dea6b12cceca9941eaf7f819626cde1f2670de90d"
  },
  "kernelspec": {
   "display_name": "Python 3",
   "language": "python",
   "name": "python3"
  },
  "language_info": {
   "codemirror_mode": {
    "name": "ipython",
    "version": 3
   },
   "file_extension": ".py",
   "mimetype": "text/x-python",
   "name": "python",
   "nbconvert_exporter": "python",
   "pygments_lexer": "ipython3",
   "version": "3.8.5"
  },
  "toc": {
   "base_numbering": 1,
   "nav_menu": {},
   "number_sections": false,
   "sideBar": true,
   "skip_h1_title": false,
   "title_cell": "Table of Contents",
   "title_sidebar": "Contents",
   "toc_cell": false,
   "toc_position": {
    "height": "calc(100% - 180px)",
    "left": "10px",
    "top": "150px",
    "width": "259.422px"
   },
   "toc_section_display": true,
   "toc_window_display": true
  }
 },
 "nbformat": 4,
 "nbformat_minor": 4
}
