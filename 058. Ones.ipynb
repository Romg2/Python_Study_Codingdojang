{
 "cells": [
  {
   "cell_type": "markdown",
   "metadata": {},
   "source": [
    "**코딩 도장** 사이트의 문제를 직접 풀어본 내용을 정리하여 올립니다.\n",
    "\n",
    "[코딩 도장](https://codingdojang.com/)에서 여러 문제를 확인할 수 있습니다.\n",
    "\n",
    "난이도 순으로 차근차근 풀어보려 합니다."
   ]
  },
  {
   "cell_type": "markdown",
   "metadata": {},
   "source": [
    "---"
   ]
  },
  {
   "cell_type": "markdown",
   "metadata": {},
   "source": [
    "**[문제: Ones] - Lv.2**"
   ]
  },
  {
   "cell_type": "markdown",
   "metadata": {},
   "source": [
    "2나 5로 나눌 수 없는 0 이상 10,000 이하의 정수 n이 주어졌는데, \n",
    "\n",
    "n의 배수 중에는 10진수로 표기했을 때 모든 자리 숫자가 1인 것이 있다. \n",
    "\n",
    "그러한 n의 배수 중에서 가장 작은 것은 몇 자리 수일까?\n",
    "\n",
    "**Sample Input**\n",
    "\n",
    "```\n",
    "3\n",
    "7\n",
    "9901\n",
    "```\n",
    "\n",
    "**Sample Output**\n",
    "\n",
    "```\n",
    "3\n",
    "6\n",
    "12\n",
    "```\n",
    "\n",
    "출처: <https://codingdojang.com/scode/431?answer_mode=hide>"
   ]
  },
  {
   "cell_type": "markdown",
   "metadata": {},
   "source": [
    "---"
   ]
  },
  {
   "cell_type": "markdown",
   "metadata": {},
   "source": [
    "**[풀이]**"
   ]
  },
  {
   "cell_type": "code",
   "execution_count": 1,
   "metadata": {
    "scrolled": true
   },
   "outputs": [
    {
     "name": "stdout",
     "output_type": "stream",
     "text": [
      "12\n"
     ]
    }
   ],
   "source": [
    "def Ones(n):\n",
    "    i = 2\n",
    "    while n:\n",
    "        x = sum([10**j for j in range(i)])\n",
    "        if x % n == 0:\n",
    "            print(i)\n",
    "            n = 0\n",
    "        i += 1\n",
    "        \n",
    "Ones(9901)"
   ]
  },
  {
   "cell_type": "markdown",
   "metadata": {},
   "source": [
    "모든 자리 숫자가 1인 숫자는 다음과 같이 표현 가능하다.\n",
    "\n",
    "10^0 + 10^1 + 10^2 ...\n",
    "\n",
    "이런 숫자의 자릿 수는 마지막 지수 +1로 나타나므로 지수를 증가시키며 n으로 나눠지는지 확인하였다.\n",
    "\n",
    "`range()`가 마지막 숫자는 포함하지 않기에 위와 같이 i를 바로 출력시키면 된다.\n",
    "\n",
    "그리고 코드 상 `sum()` 부분이 사실 등비수열 합이므로 $\\dfrac{a (r^n - 1)}{r - 1}$ 공식을 사용해도 된다."
   ]
  },
  {
   "cell_type": "markdown",
   "metadata": {},
   "source": [
    "---"
   ]
  },
  {
   "cell_type": "markdown",
   "metadata": {},
   "source": [
    "**[추천 풀이]**"
   ]
  },
  {
   "cell_type": "code",
   "execution_count": 2,
   "metadata": {},
   "outputs": [
    {
     "name": "stdout",
     "output_type": "stream",
     "text": [
      "12\n"
     ]
    }
   ],
   "source": [
    "def One (n,m=1,k=0,l=0):\n",
    "    k += m % n\n",
    "    l += 1\n",
    "    if k%n == 0: print(l)\n",
    "    else:One(n,m*10,k,l)\n",
    "\n",
    "One(9901)"
   ]
  },
  {
   "cell_type": "markdown",
   "metadata": {},
   "source": [
    "이 분 코드에서 k는 n으로 10^0, 10^1, 10^2, ...을 나누었을 때 나머지를 모두 합한 값이다.\n",
    "\n",
    "k가 n의 배수가 된다면 전체 숫자의 나머지가 없으므로 전체 숫자는 n의 배수가 된다.\n",
    "\n",
    "아이디어가 기발하신 것 같다.\n",
    "\n",
    "10의 아닌 다른 숫자로 적용해도 가능하다는 점과 재귀 방식을 쓴 것도 인상적이다."
   ]
  },
  {
   "cell_type": "code",
   "execution_count": 3,
   "metadata": {},
   "outputs": [
    {
     "data": {
      "text/plain": [
       "12"
      ]
     },
     "execution_count": 3,
     "metadata": {},
     "output_type": "execute_result"
    }
   ],
   "source": [
    "def a(n):\n",
    "    b = '1'\n",
    "    while int(b) % n != 0: b += '1'\n",
    "    return len(b)\n",
    "\n",
    "a(9901)"
   ]
  },
  {
   "cell_type": "markdown",
   "metadata": {},
   "source": [
    "또 다른 풀이인데 문자열 형태로 바꿔주어서 1을 계속 붙혀주는 방식으로 간편하게 풀었다."
   ]
  }
 ],
 "metadata": {
  "interpreter": {
   "hash": "63fd5069d213b44bf678585dea6b12cceca9941eaf7f819626cde1f2670de90d"
  },
  "kernelspec": {
   "display_name": "Python 3",
   "language": "python",
   "name": "python3"
  },
  "language_info": {
   "codemirror_mode": {
    "name": "ipython",
    "version": 3
   },
   "file_extension": ".py",
   "mimetype": "text/x-python",
   "name": "python",
   "nbconvert_exporter": "python",
   "pygments_lexer": "ipython3",
   "version": "3.8.5"
  },
  "toc": {
   "base_numbering": 1,
   "nav_menu": {},
   "number_sections": false,
   "sideBar": true,
   "skip_h1_title": false,
   "title_cell": "Table of Contents",
   "title_sidebar": "Contents",
   "toc_cell": false,
   "toc_position": {
    "height": "calc(100% - 180px)",
    "left": "10px",
    "top": "150px",
    "width": "259.422px"
   },
   "toc_section_display": true,
   "toc_window_display": true
  }
 },
 "nbformat": 4,
 "nbformat_minor": 4
}
