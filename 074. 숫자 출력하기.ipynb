{
 "cells": [
  {
   "cell_type": "markdown",
   "metadata": {},
   "source": [
    "**코딩 도장** 사이트의 문제를 직접 풀어본 내용을 정리하여 올립니다.\n",
    "\n",
    "[코딩 도장](https://codingdojang.com/)에서 여러 문제를 확인할 수 있습니다.\n",
    "\n",
    "난이도 순으로 차근차근 풀어보려 합니다."
   ]
  },
  {
   "cell_type": "markdown",
   "metadata": {},
   "source": [
    "---"
   ]
  },
  {
   "cell_type": "markdown",
   "metadata": {},
   "source": [
    "**[문제: 숫자 출력하기] - Lv.2**"
   ]
  },
  {
   "cell_type": "markdown",
   "metadata": {},
   "source": [
    "`20150111`을 출력합니다.\n",
    "\n",
    "4가지 기준만 만족하면 됩니다.\n",
    "\n",
    "1. 코드 내에 숫자가 없어야 합니다.\n",
    "\n",
    "\n",
    "2. 파일 이름이나 경로를 사용해서는 안됩니다.\n",
    "\n",
    "\n",
    "3. 시간, 날짜 함수를 사용해서는 안됩니다.\n",
    "\n",
    "\n",
    "4. 에러 번호 출력을 이용해서는 안됩니다.\n",
    "\n",
    "출처: <https://codingdojang.com/scode/471?answer_mode=hide>"
   ]
  },
  {
   "cell_type": "markdown",
   "metadata": {},
   "source": [
    "---"
   ]
  },
  {
   "cell_type": "markdown",
   "metadata": {},
   "source": [
    "**[풀이]**"
   ]
  },
  {
   "cell_type": "code",
   "execution_count": 1,
   "metadata": {},
   "outputs": [
    {
     "name": "stdout",
     "output_type": "stream",
     "text": [
      "20150111"
     ]
    }
   ],
   "source": [
    "lst = [\"a\", \"b\", \"c\", \"d\", \"e\", \"f\"]\n",
    "answer = \"cabfabbb\"\n",
    "\n",
    "for i in answer:\n",
    "    print(lst.index(i), end=\"\")"
   ]
  },
  {
   "cell_type": "markdown",
   "metadata": {},
   "source": [
    "사실 억지로 풀려면 어떻게든 될거 같다.\n",
    "\n",
    "답은 인덱스를 활용해서 구했으나 찝찝하긴 하다."
   ]
  },
  {
   "cell_type": "markdown",
   "metadata": {},
   "source": [
    "**[추천 풀이]**"
   ]
  },
  {
   "cell_type": "code",
   "execution_count": 2,
   "metadata": {},
   "outputs": [
    {
     "name": "stdout",
     "output_type": "stream",
     "text": [
      "20150111\n"
     ]
    }
   ],
   "source": [
    "print(int('bzvxb',ord('$')))"
   ]
  },
  {
   "cell_type": "markdown",
   "metadata": {},
   "source": [
    "이 분은 36진수를 이용해서 풀었다.\n",
    "\n",
    "\"bzvxb\"가 어떻게 나왔는지는 잘 모르겠다..\n",
    "\n",
    "아마 미리 결과를 확인하고 한 것 같은데 진수법에 대해서 검색해도 헷갈리긴 한다."
   ]
  }
 ],
 "metadata": {
  "interpreter": {
   "hash": "63fd5069d213b44bf678585dea6b12cceca9941eaf7f819626cde1f2670de90d"
  },
  "kernelspec": {
   "display_name": "Python 3",
   "language": "python",
   "name": "python3"
  },
  "language_info": {
   "codemirror_mode": {
    "name": "ipython",
    "version": 3
   },
   "file_extension": ".py",
   "mimetype": "text/x-python",
   "name": "python",
   "nbconvert_exporter": "python",
   "pygments_lexer": "ipython3",
   "version": "3.8.5"
  },
  "toc": {
   "base_numbering": 1,
   "nav_menu": {},
   "number_sections": false,
   "sideBar": true,
   "skip_h1_title": false,
   "title_cell": "Table of Contents",
   "title_sidebar": "Contents",
   "toc_cell": false,
   "toc_position": {
    "height": "calc(100% - 180px)",
    "left": "10px",
    "top": "150px",
    "width": "259.413px"
   },
   "toc_section_display": true,
   "toc_window_display": true
  }
 },
 "nbformat": 4,
 "nbformat_minor": 4
}
