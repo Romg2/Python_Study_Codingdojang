{
 "cells": [
  {
   "cell_type": "markdown",
   "metadata": {},
   "source": [
    "**코딩 도장** 사이트의 문제를 직접 풀어본 내용을 정리하여 올립니다.\n",
    "\n",
    "[코딩 도장](https://codingdojang.com/)에서 여러 문제를 확인할 수 있습니다.\n",
    "\n",
    "난이도 순으로 차근차근 풀어보려 합니다."
   ]
  },
  {
   "cell_type": "markdown",
   "metadata": {},
   "source": [
    "---"
   ]
  },
  {
   "cell_type": "markdown",
   "metadata": {},
   "source": [
    "**[문제: 뒤쪽 0의 갯수 구하기] - Lv.2**"
   ]
  },
  {
   "cell_type": "markdown",
   "metadata": {},
   "source": [
    "`N!`의 정의는 다음과 같습니다.\n",
    "\n",
    "```\n",
    "N! = 1 * 2 * 3 * 4 ... N\n",
    "```\n",
    "\n",
    "이때 `N!`를 정수로 변환 해 뒤에서 부터 연속되는 0의 갯수를 구하세요.\n",
    "\n",
    "예) \n",
    "\n",
    "```\n",
    "f(12) -> 2 # 12!은 479001600 \n",
    "\n",
    "f(25) -> 6 # 25!은 15511210043330985984000000\n",
    "```\n",
    "\n",
    "출처: <https://codingdojang.com/scode/466?answer_mode=hide>"
   ]
  },
  {
   "cell_type": "markdown",
   "metadata": {},
   "source": [
    "---"
   ]
  },
  {
   "cell_type": "markdown",
   "metadata": {},
   "source": [
    "**[풀이]**"
   ]
  },
  {
   "cell_type": "code",
   "execution_count": 1,
   "metadata": {},
   "outputs": [
    {
     "data": {
      "text/plain": [
       "6"
      ]
     },
     "execution_count": 1,
     "metadata": {},
     "output_type": "execute_result"
    }
   ],
   "source": [
    "def count_zero(n):\n",
    "    a = 1\n",
    "    cnt = 0\n",
    "    k = 1\n",
    "    for i in range(1,n+1):\n",
    "        a *= i\n",
    "\n",
    "    while True:\n",
    "        if str(a)[-k] == \"0\":\n",
    "            cnt += 1\n",
    "            k += 1\n",
    "        else:\n",
    "            break\n",
    "    return cnt\n",
    "\n",
    "count_zero(25)"
   ]
  },
  {
   "cell_type": "markdown",
   "metadata": {},
   "source": [
    "우선 `N!` 값을 구한 후 문자열로 바꿔 마지막 숫자가 0인 경우 카운트를 증가시키는 while문을 작성하였다."
   ]
  },
  {
   "cell_type": "markdown",
   "metadata": {},
   "source": [
    "**[추천 풀이]**"
   ]
  },
  {
   "cell_type": "code",
   "execution_count": 2,
   "metadata": {},
   "outputs": [
    {
     "data": {
      "text/plain": [
       "6"
      ]
     },
     "execution_count": 2,
     "metadata": {},
     "output_type": "execute_result"
    }
   ],
   "source": [
    "def zeros(n):\n",
    "    zeros = 0\n",
    "    while n > 1:\n",
    "        zeros += n // 5\n",
    "        n = n // 5\n",
    "    \n",
    "    return zeros\n",
    "\n",
    "zeros(25)"
   ]
  },
  {
   "cell_type": "markdown",
   "metadata": {},
   "source": [
    "가장 높은 추천 풀이가 파이썬이 아니어서 참고하여 작성하였다.\n",
    "\n",
    "풀이 설명에 따르면 `N!`의 뒤쪽 0의 갯수는 5의 승수이며 그 갯수는 N/5의 몫이다.\n",
    "\n",
    "또한 `N!`의 숫자 중 5의 배수인데 2번 이상 들어가는 경우 (예: 5 x 5 = 25)를 고려해서 몫을 다시 5로 나눈 몫을 더한다.\n",
    "\n",
    "0이 나오기 위해선 5와 2가 있어야하고 5전엔 항상 2의 배수들이 나오니 5의 승수를 카운트 한다고 생각했으면 좋았을 것 같다."
   ]
  }
 ],
 "metadata": {
  "interpreter": {
   "hash": "63fd5069d213b44bf678585dea6b12cceca9941eaf7f819626cde1f2670de90d"
  },
  "kernelspec": {
   "display_name": "Python 3",
   "language": "python",
   "name": "python3"
  },
  "language_info": {
   "codemirror_mode": {
    "name": "ipython",
    "version": 3
   },
   "file_extension": ".py",
   "mimetype": "text/x-python",
   "name": "python",
   "nbconvert_exporter": "python",
   "pygments_lexer": "ipython3",
   "version": "3.8.5"
  },
  "toc": {
   "base_numbering": 1,
   "nav_menu": {},
   "number_sections": false,
   "sideBar": true,
   "skip_h1_title": false,
   "title_cell": "Table of Contents",
   "title_sidebar": "Contents",
   "toc_cell": false,
   "toc_position": {
    "height": "calc(100% - 180px)",
    "left": "10px",
    "top": "150px",
    "width": "259.422px"
   },
   "toc_section_display": true,
   "toc_window_display": true
  }
 },
 "nbformat": 4,
 "nbformat_minor": 4
}
