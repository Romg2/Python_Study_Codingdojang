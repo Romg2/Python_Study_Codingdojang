{
 "cells": [
  {
   "cell_type": "markdown",
   "metadata": {},
   "source": [
    "**코딩 도장** 사이트의 문제를 직접 풀어본 내용을 정리하여 올립니다.\n",
    "\n",
    "[코딩 도장](https://codingdojang.com/)에서 여러 문제를 확인할 수 있습니다.\n",
    "\n",
    "난이도 순으로 차근차근 풀어보려 합니다."
   ]
  },
  {
   "cell_type": "markdown",
   "metadata": {},
   "source": [
    "---"
   ]
  },
  {
   "cell_type": "markdown",
   "metadata": {},
   "source": [
    "**[문제: 피보나치 수열 구하기] - Lv.1**"
   ]
  },
  {
   "cell_type": "markdown",
   "metadata": {},
   "source": [
    "피보나치 수열이란, 첫 번째 항의 값이 0이고 두 번째 항의 값이 1일 때, \n",
    "\n",
    "이후의 항들은 이전의 두 항을 더한 값으로 이루어지는 수열을 말한다.\n",
    "\n",
    "예) 0, 1, 1, 2, 3, 5, 8, 13\n",
    "\n",
    "인풋을 정수 n으로 받았을때, n 이하까지의 피보나치 수열을 출력하는 프로그램을 작성하세요.\n",
    "\n",
    "출처: <https://codingdojang.com/scode/461?answer_mode=hide>"
   ]
  },
  {
   "cell_type": "markdown",
   "metadata": {},
   "source": [
    "---"
   ]
  },
  {
   "cell_type": "markdown",
   "metadata": {},
   "source": [
    "**[풀이]**"
   ]
  },
  {
   "cell_type": "code",
   "execution_count": 1,
   "metadata": {},
   "outputs": [
    {
     "name": "stdout",
     "output_type": "stream",
     "text": [
      "정수 0: [0]\n",
      "정수 1: [0, 1]\n",
      "정수 2: [0, 1, 1, 2]\n",
      "정수 3: [0, 1, 1, 2, 3]\n",
      "정수 4: [0, 1, 1, 2, 3]\n",
      "정수 5: [0, 1, 1, 2, 3, 5]\n",
      "정수 6: [0, 1, 1, 2, 3, 5]\n",
      "정수 7: [0, 1, 1, 2, 3, 5]\n",
      "정수 8: [0, 1, 1, 2, 3, 5, 8]\n"
     ]
    }
   ],
   "source": [
    "def fibonacci(n):\n",
    "    lst = [0,1]\n",
    "    \n",
    "    if n == 1:\n",
    "        lst = [0,1]\n",
    "    else:\n",
    "        while lst[-1] < n:\n",
    "            lst.append(lst[-1] + lst[-2])\n",
    "\n",
    "        if lst[-1] > n:\n",
    "            lst = lst[:-1]\n",
    "        \n",
    "    return lst\n",
    "\n",
    "for i in range(9):\n",
    "    print(f\"정수 {i}: {fibonacci(i)}\")"
   ]
  },
  {
   "cell_type": "markdown",
   "metadata": {},
   "source": [
    "처음 리스트에 0과 1을 기본값으로 지정한다.\n",
    "\n",
    "리스트의 마지막 값이 입력한 정수 n보다 작으면 피보나치 수열을 반복한다.\n",
    "\n",
    "반복을 진행하다가 마지막 값이 입력한 정수 n보다 크면 마지막 값을 삭제한다."
   ]
  },
  {
   "cell_type": "markdown",
   "metadata": {},
   "source": [
    "---"
   ]
  },
  {
   "cell_type": "markdown",
   "metadata": {},
   "source": [
    "**[추천 풀이]**"
   ]
  },
  {
   "cell_type": "code",
   "execution_count": 2,
   "metadata": {},
   "outputs": [
    {
     "name": "stdout",
     "output_type": "stream",
     "text": [
      "0, 1, 1, 2, 3, 5, 8, 13"
     ]
    }
   ],
   "source": [
    "n=13\n",
    "a=0;b=1\n",
    "print('0', end='')\n",
    "while b<=n:\n",
    "    print(', %d'%b, end='')\n",
    "    a,b = b,a+b"
   ]
  },
  {
   "cell_type": "markdown",
   "metadata": {},
   "source": [
    "다른 분들이 풀이한 내용 중 추천 수가 많은 풀이이다.\n",
    "\n",
    "표현만 살짝 다르지 풀이 자체는 비슷하다.\n",
    "\n",
    "나는 풀 때 정수를 1로 주면 [0,1]을 출력하게끔 코드를 조금 더 수정했는데 [0,1,1]로 출력해야하는지 모르겠다."
   ]
  },
  {
   "cell_type": "code",
   "execution_count": 3,
   "metadata": {},
   "outputs": [
    {
     "name": "stdout",
     "output_type": "stream",
     "text": [
      "[0, 1, 1, 2, 3, 5, 8]\n"
     ]
    }
   ],
   "source": [
    "n=13\n",
    "\n",
    "result=[0,1]\n",
    "\n",
    "while 1:\n",
    "    temp = result[-1]+result[-2]\n",
    "    if temp < n: \n",
    "        result.append(temp)\n",
    "    else:\n",
    "        break\n",
    "\n",
    "print(result)"
   ]
  },
  {
   "cell_type": "markdown",
   "metadata": {},
   "source": [
    "또 다른 풀이인데 나랑 가장 풀이 방식이 비슷한 것 같다.\n",
    "\n",
    "보니까 temp < n에서 등호가 빠진 듯 한데, 어쨌든 똑같이 `while`을 썼다.\n",
    "\n",
    "나는 무조건 값을 추가한 후 n보다 크면 제거했는데 여기선 조건을 만족하면 값을 추가하여 좋아보인다."
   ]
  }
 ],
 "metadata": {
  "interpreter": {
   "hash": "63fd5069d213b44bf678585dea6b12cceca9941eaf7f819626cde1f2670de90d"
  },
  "kernelspec": {
   "display_name": "Python 3",
   "language": "python",
   "name": "python3"
  },
  "language_info": {
   "codemirror_mode": {
    "name": "ipython",
    "version": 3
   },
   "file_extension": ".py",
   "mimetype": "text/x-python",
   "name": "python",
   "nbconvert_exporter": "python",
   "pygments_lexer": "ipython3",
   "version": "3.8.5"
  },
  "toc": {
   "base_numbering": 1,
   "nav_menu": {},
   "number_sections": false,
   "sideBar": true,
   "skip_h1_title": false,
   "title_cell": "Table of Contents",
   "title_sidebar": "Contents",
   "toc_cell": false,
   "toc_position": {},
   "toc_section_display": true,
   "toc_window_display": true
  }
 },
 "nbformat": 4,
 "nbformat_minor": 4
}
