{
 "cells": [
  {
   "cell_type": "markdown",
   "metadata": {},
   "source": [
    "**코딩 도장** 사이트의 문제를 직접 풀어본 내용을 정리하여 올립니다.\n",
    "\n",
    "[코딩 도장](https://codingdojang.com/)에서 여러 문제를 확인할 수 있습니다.\n",
    "\n",
    "난이도 순으로 차근차근 풀어보려 합니다."
   ]
  },
  {
   "cell_type": "markdown",
   "metadata": {},
   "source": [
    "---"
   ]
  },
  {
   "cell_type": "markdown",
   "metadata": {},
   "source": [
    "**[문제: UP&Down 숫자맞추기 게임] - Lv.1**"
   ]
  },
  {
   "cell_type": "markdown",
   "metadata": {},
   "source": [
    "컴퓨터가 1~100 숫자(정수 범위) 중 하나를 랜덤으로 정합니다. (이를 알려주지 않습니다.)\n",
    "\n",
    "사용자는 이 숫자를 맞추어야 합니다.\n",
    "\n",
    "입력한 숫자보다 정답이 크면 → \"UP\" 출력,\n",
    "\n",
    "입력한 숫자보다 정답이 작으면 → \"DOWN\" 출력.\n",
    "\n",
    "정답을 맞추면 → \"정답\"을 출력하고, 지금까지 숫자를 입력한 횟수를 알려줍니다.\n",
    "\n",
    "```\n",
    "(예시)\n",
    "컴퓨터가 1~100 중 랜덤 숫자 하나를 정합니다.\n",
    "이 숫자를 맞춰주세요.\n",
    "1~100 숫자 입력:50\n",
    "DOWN\n",
    "1~100 숫자 입력:25\n",
    "UP\n",
    "1~100 숫자 입력:38\n",
    "DOWN\n",
    "1~100 숫자 입력:32\n",
    "UP\n",
    "1~100 숫자 입력:35\n",
    "UP\n",
    "1~100 숫자 입력:37\n",
    "DOWN\n",
    "1~100 숫자 입력:36\n",
    "정답입니다! 7회 만에 맞췄어요.\n",
    "```\n",
    "\n",
    "출처: <https://codingdojang.com/scode/711?answer_mode=hide>"
   ]
  },
  {
   "cell_type": "markdown",
   "metadata": {},
   "source": [
    "---"
   ]
  },
  {
   "cell_type": "markdown",
   "metadata": {},
   "source": [
    "**[풀이]**"
   ]
  },
  {
   "cell_type": "code",
   "execution_count": 1,
   "metadata": {
    "scrolled": true
   },
   "outputs": [
    {
     "name": "stdout",
     "output_type": "stream",
     "text": [
      "1~100 숫자 입력: 50\n",
      "UP\n",
      "1~100 숫자 입력: 75\n",
      "DOWN\n",
      "1~100 숫자 입력: 60\n",
      "DOWN\n",
      "1~100 숫자 입력: 55\n",
      "DOWN\n",
      "1~100 숫자 입력: 53\n",
      "DOWN\n",
      "1~100 숫자 입력: 52\n",
      "DOWN\n",
      "1~100 숫자 입력: 51\n",
      "정답입니다! 7회 만에 맞췄어요.\n"
     ]
    }
   ],
   "source": [
    "import random\n",
    "\n",
    "num = random.randint(1,100)\n",
    "i = 0\n",
    "x = 0\n",
    "\n",
    "while x != num:\n",
    "    i += 1\n",
    "    x = int(input(\"1~100 숫자 입력: \"))\n",
    "    \n",
    "    if x < num:\n",
    "        print(\"UP\")\n",
    "    elif x > num:\n",
    "        print(\"DOWN\")\n",
    "    elif x == num:\n",
    "        print(f\"정답입니다! {i}회 만에 맞췄어요.\")"
   ]
  },
  {
   "cell_type": "markdown",
   "metadata": {},
   "source": [
    "while과 if문으로 간단하게 만들 수 있는 문제인 듯 하다."
   ]
  },
  {
   "cell_type": "markdown",
   "metadata": {},
   "source": [
    "---"
   ]
  },
  {
   "cell_type": "markdown",
   "metadata": {},
   "source": [
    "**[추천 풀이]**"
   ]
  },
  {
   "cell_type": "code",
   "execution_count": 2,
   "metadata": {},
   "outputs": [
    {
     "name": "stdout",
     "output_type": "stream",
     "text": [
      "컴퓨터의 렘덤 숫자를 알아 맞혀보세요.(1~100 사이)\n",
      "1~100 숫자 입력:50\n",
      "up\n",
      "1~100 숫자 입력:75\n",
      "down\n",
      "1~100 숫자 입력:60\n",
      "up\n",
      "1~100 숫자 입력:68\n",
      "down\n",
      "1~100 숫자 입력:64\n",
      "정답입니다.\n",
      "걸린 순서: 5\n"
     ]
    }
   ],
   "source": [
    "import random\n",
    "\n",
    "a = random.randint(1,100)\n",
    "n = 0\n",
    "print(\"컴퓨터의 렘덤 숫자를 알아 맞혀보세요.(1~100 사이)\") #print(\"\") 수정\n",
    "q = 0 #추가\n",
    "while a != q:\n",
    "    q = int(input(\"1~100 숫자 입력:\")) #int( input(\"\") ) 수정\n",
    "    if q < a:\n",
    "        print(\"up\")\n",
    "    elif a < q:\n",
    "        print(\"down\")\n",
    "    n += 1\n",
    "print(\"정답입니다.\")\n",
    "print(\"걸린 순서: \"+str(n)) # n -> str(n) 수정"
   ]
  },
  {
   "cell_type": "markdown",
   "metadata": {},
   "source": [
    "딱히 추천 수가 많은 풀이가 없고 풀이 과정은 직관적으로 거의 동일하다."
   ]
  }
 ],
 "metadata": {
  "interpreter": {
   "hash": "63fd5069d213b44bf678585dea6b12cceca9941eaf7f819626cde1f2670de90d"
  },
  "kernelspec": {
   "display_name": "Python 3",
   "language": "python",
   "name": "python3"
  },
  "language_info": {
   "codemirror_mode": {
    "name": "ipython",
    "version": 3
   },
   "file_extension": ".py",
   "mimetype": "text/x-python",
   "name": "python",
   "nbconvert_exporter": "python",
   "pygments_lexer": "ipython3",
   "version": "3.8.5"
  },
  "toc": {
   "base_numbering": 1,
   "nav_menu": {},
   "number_sections": false,
   "sideBar": true,
   "skip_h1_title": false,
   "title_cell": "Table of Contents",
   "title_sidebar": "Contents",
   "toc_cell": false,
   "toc_position": {
    "height": "calc(100% - 180px)",
    "left": "10px",
    "top": "150px",
    "width": "259.422px"
   },
   "toc_section_display": true,
   "toc_window_display": true
  }
 },
 "nbformat": 4,
 "nbformat_minor": 4
}
