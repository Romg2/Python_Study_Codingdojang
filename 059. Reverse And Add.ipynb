{
 "cells": [
  {
   "cell_type": "markdown",
   "metadata": {},
   "source": [
    "**코딩 도장** 사이트의 문제를 직접 풀어본 내용을 정리하여 올립니다.\n",
    "\n",
    "[코딩 도장](https://codingdojang.com/)에서 여러 문제를 확인할 수 있습니다.\n",
    "\n",
    "난이도 순으로 차근차근 풀어보려 합니다."
   ]
  },
  {
   "cell_type": "markdown",
   "metadata": {},
   "source": [
    "---"
   ]
  },
  {
   "cell_type": "markdown",
   "metadata": {},
   "source": [
    "**[문제: Reverse And Add] - Lv.2**"
   ]
  },
  {
   "cell_type": "markdown",
   "metadata": {},
   "source": [
    "일단 어떤 수를 받아서 그 수를 뒤집은 다음 뒤집어진 수를 원래의 수에 더하는 과정을 뒤집어서 더하기라고 부르자. \n",
    "\n",
    "그 합이 회문(palindrome, 앞뒤 어느 쪽에서 읽어도 같은 말이 되는 어구)이 아니면 회문이 될 때까지 이 과정을 반복한다.\n",
    "\n",
    "예를 들어 처음에 195에서 시작해서 다음과 같이 네 번 뒤집어서 더하기를 반복하면 9339라는 회문이 만들어진다.\n",
    "\n",
    "```\n",
    " 195      786       1473      5214\n",
    "+591     +687      +3741     +4125\n",
    "----     -----     -----     -----\n",
    " 786     1473       5214      9339\n",
    " ```\n",
    " \n",
    "대부분의 정수는 이 방법을 몇 단계만 반복하면 회문이 된다(196 등 회문을 찾을 수 없는 경우도 있다).\n",
    "\n",
    "어떤 수가 주어졌을 때 회문이 있으면 출력하고, 그 회문을 찾기까지 반복한 횟수를 출력하는 프로그램을 만들어야 한다.\n",
    "\n",
    "사용되는 수는 모두 1,000번 미만 반복해서 회문을 찾을 수 있는 수고, 만들어진 회문을 4,294,967,295보다 크지 않다고 가정해도 된다.\n",
    "\n",
    "**Input**\n",
    "\n",
    "첫번째 줄에는 테스트 케이스를 나타내는 정수 N(0<N<=100)이 들어있고, \n",
    "\n",
    "그 아래로 N개의 줄에 걸쳐서 회문을 구해야 하는 정수가 한 줄에 하나씩 들어있다.\n",
    "\n",
    "**Output**\n",
    "\n",
    "N개의 각 정수에 대해 회문을 발견하는 데 필요한 최소한의 반복 횟수를 출력하고, 스페이스를 한 칸 출력한 다음, 그 회문을 출력한다.\n",
    "\n",
    "**Sample Input**\n",
    "\n",
    "```\n",
    "3\n",
    "195\n",
    "265\n",
    "750\n",
    "```\n",
    "\n",
    "**Sample Output**\n",
    "\n",
    "```\n",
    "4 9339\n",
    "5 45254\n",
    "3 6666\n",
    "```\n",
    "\n",
    "출처: <https://codingdojang.com/scode/432?answer_mode=hide>"
   ]
  },
  {
   "cell_type": "markdown",
   "metadata": {},
   "source": [
    "---"
   ]
  },
  {
   "cell_type": "markdown",
   "metadata": {},
   "source": [
    "**[풀이]**"
   ]
  },
  {
   "cell_type": "code",
   "execution_count": 1,
   "metadata": {
    "scrolled": false
   },
   "outputs": [
    {
     "name": "stdout",
     "output_type": "stream",
     "text": [
      "3\n",
      "195\n",
      "265\n",
      "750\n",
      "4 9339\n",
      "5 45254\n",
      "3 6666\n"
     ]
    }
   ],
   "source": [
    "def Reverse_And_Add(n, i=0):\n",
    "    if n == int(str(n)[::-1]):\n",
    "        print(i, n)\n",
    "    else:\n",
    "        n = n + int(str(n)[::-1])\n",
    "        Reverse_And_Add(n, i=i+1)\n",
    "        \n",
    "N = int(input())\n",
    "n_lst = [int(input()) for i in range(N)]\n",
    "    \n",
    "for n in n_lst:\n",
    "    Reverse_And_Add(n)"
   ]
  },
  {
   "cell_type": "markdown",
   "metadata": {},
   "source": [
    "회문이 될 때까지 반복 작업은 재귀 함수로 작성하였다.\n",
    "\n",
    "작업 자체는 문자열로 바꾼 후 `[::-1]`로 뒤집어서 더하는 방식을 사용했다.\n",
    "\n",
    "Input 형태와 Output 형태를 동일하게 맞추기 위해서 아래 코드를 조금 더 사용하였다."
   ]
  },
  {
   "cell_type": "markdown",
   "metadata": {},
   "source": [
    "---"
   ]
  },
  {
   "cell_type": "markdown",
   "metadata": {},
   "source": [
    "**[추천 풀이]**"
   ]
  },
  {
   "cell_type": "code",
   "execution_count": 2,
   "metadata": {},
   "outputs": [
    {
     "name": "stdout",
     "output_type": "stream",
     "text": [
      "How many numbers? 3\n",
      "Enter number: 195\n",
      "Enter number: 265\n",
      "Enter number: 750\n",
      "4 9339\n",
      "5 45254\n",
      "3 6666\n"
     ]
    }
   ],
   "source": [
    "import math\n",
    "\n",
    "\n",
    "def check_palindrome(str):\n",
    "    for i in range(math.floor(len(str) / 2)):\n",
    "        if str[i] != str[-i + -1]:\n",
    "            return False\n",
    "    return True\n",
    "\n",
    "\n",
    "def reverse_and_add(n, in_num_str):\n",
    "    try:\n",
    "        if n < 1000:\n",
    "            if check_palindrome(in_num_str):\n",
    "                return print(\"%d %s\" % (n, in_num_str))\n",
    "            else:\n",
    "                reverse_and_add(n + 1, str(int(in_num_str) + int(in_num_str[::-1])))\n",
    "    except RecursionError:\n",
    "        print(\"No palindrome within 1000 cycle\")\n",
    "\n",
    "\n",
    "how_many = int(input(\"How many numbers? \"))\n",
    "in_numbers = []\n",
    "\n",
    "for i in range(how_many):\n",
    "    in_numbers.append(input(\"Enter number: \"))\n",
    "\n",
    "for j in in_numbers:\n",
    "    reverse_and_add(0, j)"
   ]
  },
  {
   "cell_type": "markdown",
   "metadata": {},
   "source": [
    "재귀 함수를 사용한 것도 동일하고 전반적으로 비슷한데 1000 사이클 제한을 둔 것이 다르다.\n",
    "\n",
    "예외 처리를 적용하셨는데 문제에 적혀 있으니 이런 방식으로 제한을 거는게 맞는 것 같다."
   ]
  }
 ],
 "metadata": {
  "interpreter": {
   "hash": "63fd5069d213b44bf678585dea6b12cceca9941eaf7f819626cde1f2670de90d"
  },
  "kernelspec": {
   "display_name": "Python 3",
   "language": "python",
   "name": "python3"
  },
  "language_info": {
   "codemirror_mode": {
    "name": "ipython",
    "version": 3
   },
   "file_extension": ".py",
   "mimetype": "text/x-python",
   "name": "python",
   "nbconvert_exporter": "python",
   "pygments_lexer": "ipython3",
   "version": "3.8.5"
  },
  "toc": {
   "base_numbering": 1,
   "nav_menu": {},
   "number_sections": false,
   "sideBar": true,
   "skip_h1_title": false,
   "title_cell": "Table of Contents",
   "title_sidebar": "Contents",
   "toc_cell": false,
   "toc_position": {
    "height": "calc(100% - 180px)",
    "left": "10px",
    "top": "150px",
    "width": "259.422px"
   },
   "toc_section_display": true,
   "toc_window_display": true
  }
 },
 "nbformat": 4,
 "nbformat_minor": 4
}
