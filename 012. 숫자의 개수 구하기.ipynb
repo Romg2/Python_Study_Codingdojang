{
 "cells": [
  {
   "cell_type": "markdown",
   "metadata": {},
   "source": [
    "**코딩 도장** 사이트의 문제를 직접 풀어본 내용을 정리하여 올립니다.\n",
    "\n",
    "[코딩 도장](https://codingdojang.com/)에서 여러 문제를 확인할 수 있습니다.\n",
    "\n",
    "난이도 순으로 차근차근 풀어보려 합니다."
   ]
  },
  {
   "cell_type": "markdown",
   "metadata": {},
   "source": [
    "---"
   ]
  },
  {
   "cell_type": "markdown",
   "metadata": {},
   "source": [
    "**[문제: 숫자의 개수 구하기] - Lv.1**"
   ]
  },
  {
   "cell_type": "markdown",
   "metadata": {},
   "source": [
    "1~1000에서 각 숫자의 개수를 구하라.\n",
    "\n",
    "예로 10 ~ 15 까지의 각 숫자의 개수를 구해보자\n",
    "\n",
    "10 = 1, 0\n",
    "11 = 1, 1\n",
    "12 = 1, 2\n",
    "13 = 1, 3\n",
    "14 = 1, 4\n",
    "15 = 1, 5\n",
    "\n",
    "그러므로 이 경우의 답은 0:1개, 1:7개, 2:1개, 3:1개, 4:1개, 5:1개\n",
    "\n",
    "출처: <https://codingdojang.com/scode/504?answer_mode=hide>"
   ]
  },
  {
   "cell_type": "markdown",
   "metadata": {},
   "source": [
    "---"
   ]
  },
  {
   "cell_type": "markdown",
   "metadata": {},
   "source": [
    "**[풀이]**"
   ]
  },
  {
   "cell_type": "code",
   "execution_count": 1,
   "metadata": {},
   "outputs": [
    {
     "name": "stdout",
     "output_type": "stream",
     "text": [
      "{0: '192개', 1: '301개', 2: '300개', 3: '300개', 4: '300개', 5: '300개', 6: '300개', 7: '300개', 8: '300개', 9: '300개'}\n"
     ]
    }
   ],
   "source": [
    "def num_cnt(num_lst):\n",
    "    cnt = {i:0 for i in range(10)}\n",
    "    \n",
    "    for num in num_lst:\n",
    "        for i in str(num):\n",
    "            cnt[int(i)] += 1\n",
    "    \n",
    "    fin_cnt = {i:str(j) + \"개\" for i,j in cnt.items()}\n",
    "    \n",
    "    return fin_cnt\n",
    "\n",
    "num = range(1,1001)\n",
    "print(num_cnt(num))"
   ]
  },
  {
   "cell_type": "markdown",
   "metadata": {},
   "source": [
    "0부터 9의 key를 가지는 dictionary를 생성하였다.\n",
    "\n",
    "입력받은 문자로 된 숫자의 각 숫자별로 카운트를 dictionary의 values에 저장한다."
   ]
  },
  {
   "cell_type": "markdown",
   "metadata": {},
   "source": [
    "---"
   ]
  },
  {
   "cell_type": "markdown",
   "metadata": {},
   "source": [
    "**[추천 풀이]**"
   ]
  },
  {
   "cell_type": "code",
   "execution_count": 2,
   "metadata": {},
   "outputs": [
    {
     "name": "stdout",
     "output_type": "stream",
     "text": [
      "{0: 192, 1: 301, 2: 300, 3: 300, 4: 300, 5: 300, 6: 300, 7: 300, 8: 300, 9: 300}\n"
     ]
    }
   ],
   "source": [
    "count={ x:0 for x in range(0,10) }\n",
    "\n",
    "for x in range(1,1001):\n",
    "    for i in str(x):\n",
    "        count[int(i)]+=1\n",
    "\n",
    "print(count)"
   ]
  },
  {
   "cell_type": "markdown",
   "metadata": {},
   "source": [
    "다른 분이 푸신 풀이 중 추천수가 많은 풀이이다.\n",
    "\n",
    "풀이 자체가 거의 똑같은데 사실 코딩 도장 처음 문제들을 훑어 보다가 이미 본 문제이다.\n",
    "\n",
    "dictionary를 사용한 방법이 인상 깊어서 계속 기억하고 있다."
   ]
  }
 ],
 "metadata": {
  "interpreter": {
   "hash": "63fd5069d213b44bf678585dea6b12cceca9941eaf7f819626cde1f2670de90d"
  },
  "kernelspec": {
   "display_name": "Python 3",
   "language": "python",
   "name": "python3"
  },
  "language_info": {
   "codemirror_mode": {
    "name": "ipython",
    "version": 3
   },
   "file_extension": ".py",
   "mimetype": "text/x-python",
   "name": "python",
   "nbconvert_exporter": "python",
   "pygments_lexer": "ipython3",
   "version": "3.8.5"
  },
  "toc": {
   "base_numbering": 1,
   "nav_menu": {},
   "number_sections": false,
   "sideBar": true,
   "skip_h1_title": false,
   "title_cell": "Table of Contents",
   "title_sidebar": "Contents",
   "toc_cell": false,
   "toc_position": {},
   "toc_section_display": true,
   "toc_window_display": true
  }
 },
 "nbformat": 4,
 "nbformat_minor": 4
}
