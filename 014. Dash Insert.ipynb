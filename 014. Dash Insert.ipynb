{
 "cells": [
  {
   "cell_type": "markdown",
   "metadata": {},
   "source": [
    "**코딩 도장** 사이트의 문제를 직접 풀어본 내용을 정리하여 올립니다.\n",
    "\n",
    "[코딩 도장](https://codingdojang.com/)에서 여러 문제를 확인할 수 있습니다.\n",
    "\n",
    "난이도 순으로 차근차근 풀어보려 합니다."
   ]
  },
  {
   "cell_type": "markdown",
   "metadata": {},
   "source": [
    "---"
   ]
  },
  {
   "cell_type": "markdown",
   "metadata": {},
   "source": [
    "**[문제: Dash Insert] - Lv.1**"
   ]
  },
  {
   "cell_type": "markdown",
   "metadata": {},
   "source": [
    "DashInsert 함수는 숫자로 구성된 문자열을 입력받은 뒤, \n",
    "\n",
    "문자열 내에서 홀수가 연속되면 두 수 사이에 - 를 추가하고, 짝수가 연속되면 * 를 추가하는 기능을 갖고 있다. \n",
    "\n",
    "(예, 454 => 454, 4546793 => 454*67-9-3) DashInsert 함수를 완성하자.\n",
    "\n",
    "```\n",
    "입력 - 화면에서 숫자로 된 문자열을 입력받는다.\n",
    "\n",
    "\"4546793\"\n",
    "\n",
    "출력 - *, -가 적절히 추가된 문자열을 화면에 출력한다.\n",
    "\n",
    "\"454*67-9-3\"\n",
    "```\n",
    "\n",
    "출처: <https://codingdojang.com/scode/529?answer_mode=hide>"
   ]
  },
  {
   "cell_type": "markdown",
   "metadata": {},
   "source": [
    "---"
   ]
  },
  {
   "cell_type": "markdown",
   "metadata": {},
   "source": [
    "**[풀이]**"
   ]
  },
  {
   "cell_type": "code",
   "execution_count": 1,
   "metadata": {},
   "outputs": [
    {
     "name": "stdout",
     "output_type": "stream",
     "text": [
      "숫자를 입력하세요: 4546793\n",
      "454*67-9-3\n"
     ]
    }
   ],
   "source": [
    "a = input(\"숫자를 입력하세요: \")\n",
    "b = \"\"\n",
    "\n",
    "for i in range(len(a)-1):\n",
    "    if (int(a[i]) % 2 == 0) & (int(a[i+1]) % 2 == 0):\n",
    "        b = b + a[i] + \"*\"\n",
    "    elif (int(a[i]) % 2 == 1) & (int(a[i+1]) % 2 == 1):\n",
    "        b = b + a[i] + \"-\"\n",
    "    else:\n",
    "        b = b + a[i]\n",
    "        \n",
    "    if i == (len(a)-2):\n",
    "        b = b + a[i+1]\n",
    "\n",
    "print(b)"
   ]
  },
  {
   "cell_type": "markdown",
   "metadata": {},
   "source": [
    "for문으로 단순하게 직관적으로 풀었다."
   ]
  },
  {
   "cell_type": "markdown",
   "metadata": {},
   "source": [
    "---"
   ]
  },
  {
   "cell_type": "markdown",
   "metadata": {},
   "source": [
    "**[추천 풀이]**"
   ]
  },
  {
   "cell_type": "code",
   "execution_count": 2,
   "metadata": {},
   "outputs": [
    {
     "name": "stdout",
     "output_type": "stream",
     "text": [
      ":4546793\n",
      "454*67-9-3\n"
     ]
    }
   ],
   "source": [
    "import re\n",
    "print(re.sub(r'(([02468]{2,})|([13579]{2,}))', \n",
    "             lambda x:'*'.join(x.group(2)) if x.group(2) else '-'.join(x.group(3)), \n",
    "             input(\":\")))"
   ]
  },
  {
   "cell_type": "markdown",
   "metadata": {},
   "source": [
    "다른 분이 푸신 풀이 중 추천수가 많은 풀이이다.\n",
    "\n",
    "정규식을 이용해 푸셨는데 하나씩 뜯어 보았는데 사실 이해가 잘 안된다.\n",
    "\n",
    "날 잡아서 정규식을 정리해야겠다.."
   ]
  }
 ],
 "metadata": {
  "interpreter": {
   "hash": "63fd5069d213b44bf678585dea6b12cceca9941eaf7f819626cde1f2670de90d"
  },
  "kernelspec": {
   "display_name": "Python 3 (ipykernel)",
   "language": "python",
   "name": "python3"
  },
  "language_info": {
   "codemirror_mode": {
    "name": "ipython",
    "version": 3
   },
   "file_extension": ".py",
   "mimetype": "text/x-python",
   "name": "python",
   "nbconvert_exporter": "python",
   "pygments_lexer": "ipython3",
   "version": "3.7.10"
  },
  "toc": {
   "base_numbering": 1,
   "nav_menu": {},
   "number_sections": false,
   "sideBar": true,
   "skip_h1_title": false,
   "title_cell": "Table of Contents",
   "title_sidebar": "Contents",
   "toc_cell": false,
   "toc_position": {},
   "toc_section_display": true,
   "toc_window_display": true
  }
 },
 "nbformat": 4,
 "nbformat_minor": 4
}
