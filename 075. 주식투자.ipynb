{
 "cells": [
  {
   "cell_type": "markdown",
   "metadata": {},
   "source": [
    "**코딩 도장** 사이트의 문제를 직접 풀어본 내용을 정리하여 올립니다.\n",
    "\n",
    "[코딩 도장](https://codingdojang.com/)에서 여러 문제를 확인할 수 있습니다.\n",
    "\n",
    "난이도 순으로 차근차근 풀어보려 합니다."
   ]
  },
  {
   "cell_type": "markdown",
   "metadata": {},
   "source": [
    "---"
   ]
  },
  {
   "cell_type": "markdown",
   "metadata": {},
   "source": [
    "**[문제: 주식투자] - Lv.2**"
   ]
  },
  {
   "cell_type": "markdown",
   "metadata": {},
   "source": [
    "**요약**\n",
    "\n",
    "초기 투자액과 투자 기간, 그리고 투자 기간 중 날짜별 가치 변동율이 주어질 때 순이익과 이익 여부를 구합니다.\n",
    "\n",
    "**입력**\n",
    "\n",
    "첫째 줄에 투자액이 정수로 주어집니다. 두번째 줄에 투자기간이 정수로 주어집니다. \n",
    "\n",
    "세번째 줄에 투자기간 중 일별 전일 대비 가치 변동이 각각 퍼센트 단위의 정수로 주어집니다.\n",
    "\n",
    "- 투자액은 100 이상 10000 이하의 정수입니다.\n",
    "\n",
    "\n",
    "- 투자 기간은 1 이상 10 이하의 정수입니다.\n",
    "\n",
    "\n",
    "- 일별 변동폭은 -100 이상 100 이하의 정수로 주어집니다.\n",
    "\n",
    "**출력**\n",
    "\n",
    "첫째 줄에 순이익을 소수점 첫째자리에서 반올림한 값으로 나타냅니다.\n",
    "\n",
    "두번째 줄에 이익인지 손해인지 여부를 good, same, bad로 나타냅니다.\n",
    "\n",
    "이익이면 good, 손해이면 bad, 첫째줄에서 출력한 순이익이 0이면 same울 출력합니다.\n",
    "\n",
    "\n",
    "**입력 예시**\n",
    "\n",
    "```\n",
    "10000\n",
    "4\n",
    "10 -10 5 -5\n",
    "```\n",
    "\n",
    "**출력 예시**\n",
    "```\n",
    "-125\n",
    "bad\n",
    "```\n",
    "\n",
    "출처: <https://codingdojang.com/scode/476?answer_mode=hide>"
   ]
  },
  {
   "cell_type": "markdown",
   "metadata": {},
   "source": [
    "---"
   ]
  },
  {
   "cell_type": "markdown",
   "metadata": {},
   "source": [
    "**[풀이]**"
   ]
  },
  {
   "cell_type": "code",
   "execution_count": 1,
   "metadata": {},
   "outputs": [
    {
     "name": "stdout",
     "output_type": "stream",
     "text": [
      "100이상 10000이하의 정수를 입력하세요.10000\n",
      "1이상 10이하의 정수를 입력하세요.4\n",
      "-100이상 100이하의 정수를 입력하세요.10 -10 5 -5\n",
      "-125\n",
      "bad\n"
     ]
    }
   ],
   "source": [
    "def invest():\n",
    "    first_invest = int(input(\"100이상 10000이하의 정수를 입력하세요.\"))\n",
    "    invest_time = int(input(\"1이상 10이하의 정수를 입력하세요.\"))\n",
    "    change = [int(i) for i in input(\"-100이상 100이하의 정수를 입력하세요.\").split()]\n",
    "    result = first_invest\n",
    "\n",
    "    for i in range(invest_time):\n",
    "        result = result + result*change[i]/100\n",
    "        \n",
    "    final = round(result) - first_invest\n",
    "    if final > 0:\n",
    "        print(final)\n",
    "        print(\"good\")\n",
    "    elif final == 0:\n",
    "        print(final)\n",
    "        print(\"same\")\n",
    "    else:\n",
    "        print(final)\n",
    "        print(\"bad\")\n",
    "        \n",
    "invest()"
   ]
  },
  {
   "cell_type": "markdown",
   "metadata": {},
   "source": [
    "일별 변동폭을 고려한 최종 금액을 구하는 공식을 적어두었다.\n",
    "\n",
    "정수 조건에 대한 예외 처리 등은 사용하지 않았다."
   ]
  },
  {
   "cell_type": "markdown",
   "metadata": {},
   "source": [
    "**[추천 풀이]**"
   ]
  },
  {
   "cell_type": "markdown",
   "metadata": {},
   "source": [
    "이 문제 자체가 사실 Lv에 비해 쉬운 것 같고 풀이 역시 대부분 비슷하다.\n",
    "\n",
    "특별히 색다른 방식은 없어서 추천 풀이는 생략하였다."
   ]
  }
 ],
 "metadata": {
  "interpreter": {
   "hash": "63fd5069d213b44bf678585dea6b12cceca9941eaf7f819626cde1f2670de90d"
  },
  "kernelspec": {
   "display_name": "Python 3",
   "language": "python",
   "name": "python3"
  },
  "language_info": {
   "codemirror_mode": {
    "name": "ipython",
    "version": 3
   },
   "file_extension": ".py",
   "mimetype": "text/x-python",
   "name": "python",
   "nbconvert_exporter": "python",
   "pygments_lexer": "ipython3",
   "version": "3.8.5"
  },
  "toc": {
   "base_numbering": 1,
   "nav_menu": {},
   "number_sections": false,
   "sideBar": true,
   "skip_h1_title": false,
   "title_cell": "Table of Contents",
   "title_sidebar": "Contents",
   "toc_cell": false,
   "toc_position": {
    "height": "calc(100% - 180px)",
    "left": "10px",
    "top": "150px",
    "width": "259.413px"
   },
   "toc_section_display": true,
   "toc_window_display": true
  }
 },
 "nbformat": 4,
 "nbformat_minor": 4
}
