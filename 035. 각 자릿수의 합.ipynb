{
 "cells": [
  {
   "cell_type": "markdown",
   "metadata": {},
   "source": [
    "**코딩 도장** 사이트의 문제를 직접 풀어본 내용을 정리하여 올립니다.\n",
    "\n",
    "[코딩 도장](https://codingdojang.com/)에서 여러 문제를 확인할 수 있습니다.\n",
    "\n",
    "난이도 순으로 차근차근 풀어보려 합니다."
   ]
  },
  {
   "cell_type": "markdown",
   "metadata": {},
   "source": [
    "---"
   ]
  },
  {
   "cell_type": "markdown",
   "metadata": {},
   "source": [
    "**[문제: 각 자릿수의 합] - Lv.1**"
   ]
  },
  {
   "cell_type": "markdown",
   "metadata": {},
   "source": [
    "초보자 프로그래머 홍길동은 사용자가 입력한 양의정수(범위는 int)각 자리수를 더해 출력하는 프로그램을 만들고 싶어한다. \n",
    "\n",
    "ex) 5923의 결과는 5+9+2+3인 19이다 \n",
    "\n",
    "ex) 200의 결과는 2+0+0인 2이다 \n",
    "\n",
    "ex) 6719283의 결과는 6+7+1+9+2+8+3인 36이다.\n",
    "\n",
    "출처: <https://codingdojang.com/scode/639?answer_mode=hide>"
   ]
  },
  {
   "cell_type": "markdown",
   "metadata": {},
   "source": [
    "---"
   ]
  },
  {
   "cell_type": "markdown",
   "metadata": {},
   "source": [
    "**[풀이]**"
   ]
  },
  {
   "cell_type": "code",
   "execution_count": 1,
   "metadata": {},
   "outputs": [
    {
     "name": "stdout",
     "output_type": "stream",
     "text": [
      "19\n",
      "2\n",
      "36\n"
     ]
    }
   ],
   "source": [
    "def f(x):\n",
    "    return eval(\"+\".join(str(x)))\n",
    "\n",
    "print(f(5923))\n",
    "print(f(200))\n",
    "print(f(6719283))"
   ]
  },
  {
   "cell_type": "markdown",
   "metadata": {},
   "source": [
    "입력받은 양의 정수를 문자열로 바꾼후 `join()`으로 더하기 식을 만들어 주었다.\n",
    "\n",
    "마지막으로 `eval()`을 이용해서 문자열로 된 식을 계산하였다.\n",
    "\n",
    "이전에 코딩 도장에서 [곱하기의 전체 합 구하기](https://romg2.github.io/codingdj/02_%EC%BD%94%EB%94%A9-%EB%8F%84%EC%9E%A5-013.-%EA%B3%B1%ED%95%98%EA%B8%B0%EC%9D%98-%EC%A0%84%EC%B2%B4-%ED%95%A9-%EA%B5%AC%ED%95%98%EA%B8%B0/) 문제를 풀 때 다른 분의 풀이로 배웠던 방법이다."
   ]
  },
  {
   "cell_type": "markdown",
   "metadata": {},
   "source": [
    "---"
   ]
  },
  {
   "cell_type": "markdown",
   "metadata": {},
   "source": [
    "**[추천 풀이]**"
   ]
  },
  {
   "cell_type": "code",
   "execution_count": 2,
   "metadata": {},
   "outputs": [
    {
     "name": "stdout",
     "output_type": "stream",
     "text": [
      "6719283\n",
      "36\n"
     ]
    }
   ],
   "source": [
    "print(eval('+'.join(input())))"
   ]
  },
  {
   "cell_type": "markdown",
   "metadata": {},
   "source": [
    "동일한 풀이가 가장 추천수가 많은데 배웠던 것을 써먹어서 좋다."
   ]
  }
 ],
 "metadata": {
  "interpreter": {
   "hash": "63fd5069d213b44bf678585dea6b12cceca9941eaf7f819626cde1f2670de90d"
  },
  "kernelspec": {
   "display_name": "Python 3",
   "language": "python",
   "name": "python3"
  },
  "language_info": {
   "codemirror_mode": {
    "name": "ipython",
    "version": 3
   },
   "file_extension": ".py",
   "mimetype": "text/x-python",
   "name": "python",
   "nbconvert_exporter": "python",
   "pygments_lexer": "ipython3",
   "version": "3.8.5"
  },
  "toc": {
   "base_numbering": 1,
   "nav_menu": {},
   "number_sections": false,
   "sideBar": true,
   "skip_h1_title": false,
   "title_cell": "Table of Contents",
   "title_sidebar": "Contents",
   "toc_cell": false,
   "toc_position": {
    "height": "calc(100% - 180px)",
    "left": "10px",
    "top": "150px",
    "width": "259.422px"
   },
   "toc_section_display": true,
   "toc_window_display": true
  }
 },
 "nbformat": 4,
 "nbformat_minor": 4
}
