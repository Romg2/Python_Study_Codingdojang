{
 "cells": [
  {
   "cell_type": "markdown",
   "metadata": {},
   "source": [
    "**코딩 도장** 사이트의 문제를 직접 풀어본 내용을 정리하여 올립니다.\n",
    "\n",
    "[코딩 도장](https://codingdojang.com/)에서 여러 문제를 확인할 수 있습니다.\n",
    "\n",
    "난이도 순으로 차근차근 풀어보려 합니다."
   ]
  },
  {
   "cell_type": "markdown",
   "metadata": {},
   "source": [
    "---"
   ]
  },
  {
   "cell_type": "markdown",
   "metadata": {},
   "source": [
    "**[문제: 자릿수 출력 프로그램] - Lv.1**"
   ]
  },
  {
   "cell_type": "markdown",
   "metadata": {},
   "source": [
    "양의 정수만 입력으로 받고 그 수의 자릿수를 출력해보자. \n",
    "\n",
    "ex1) 3 > 1자리수, ex2) 649 > 3자리수 ....\n",
    "\n",
    "출처: <https://codingdojang.com/scode/588?answer_mode=hide>"
   ]
  },
  {
   "cell_type": "markdown",
   "metadata": {},
   "source": [
    "---"
   ]
  },
  {
   "cell_type": "markdown",
   "metadata": {},
   "source": [
    "**[풀이]**"
   ]
  },
  {
   "cell_type": "code",
   "execution_count": 1,
   "metadata": {},
   "outputs": [
    {
     "name": "stdout",
     "output_type": "stream",
     "text": [
      "양의 정수를 입력하세요: 3548\n",
      "4자리수\n"
     ]
    }
   ],
   "source": [
    "class small_number_error(Exception):\n",
    "    pass\n",
    "\n",
    "def positional_number():\n",
    "    try:\n",
    "        n = input(\"양의 정수를 입력하세요: \")\n",
    "        if int(n) <= 0:\n",
    "            raise small_number_error\n",
    "        if int(n) > 0:\n",
    "            print(f\"{len(n)}자리수\")\n",
    "            \n",
    "    except ValueError:\n",
    "        print(\"양의 정수를 입력하여야 합니다.\")\n",
    "        \n",
    "    except small_number_error:\n",
    "        print(\"양의 정수를 입력하여야 합니다.\")\n",
    "    \n",
    "\n",
    "positional_number()"
   ]
  },
  {
   "cell_type": "markdown",
   "metadata": {},
   "source": [
    "자리수 추출은 어렵지 않은데 양의 정수만 입력으로 받으라고 명시되어 있다.\n",
    "\n",
    "문자나 소수점이 있는 경우 등은 `ValueError` 처리하고 정수지만 0 또는 음의 정수이면 정의한 예외 처리를 발생시켰다."
   ]
  },
  {
   "cell_type": "markdown",
   "metadata": {},
   "source": [
    "---"
   ]
  },
  {
   "cell_type": "markdown",
   "metadata": {},
   "source": [
    "**[추천 풀이]**"
   ]
  },
  {
   "cell_type": "code",
   "execution_count": 2,
   "metadata": {},
   "outputs": [
    {
     "name": "stdout",
     "output_type": "stream",
     "text": [
      "양의정수만 입력하세요\n",
      "3548\n",
      "자릿수는 4 입니다.\n"
     ]
    }
   ],
   "source": [
    "#자릿수구하기\n",
    "\n",
    "print(\"양의정수만 입력하세요\")\n",
    "n = int(input())\n",
    "a = 0\n",
    "while n >= 1:\n",
    "    n = n / 10\n",
    "    a = a + 1\n",
    "\n",
    "print(\"자릿수는\", a, \"입니다.\")"
   ]
  },
  {
   "cell_type": "markdown",
   "metadata": {},
   "source": [
    "추천 수가 많은 풀이가 딱히 없다.\n",
    "\n",
    "양의 정수에 대한 제한을 줄 필요가 없는 건지 잘 모르겠는데 난이도가 1이니 굳이 안그래도 될수도..?"
   ]
  }
 ],
 "metadata": {
  "interpreter": {
   "hash": "63fd5069d213b44bf678585dea6b12cceca9941eaf7f819626cde1f2670de90d"
  },
  "kernelspec": {
   "display_name": "Python 3",
   "language": "python",
   "name": "python3"
  },
  "language_info": {
   "codemirror_mode": {
    "name": "ipython",
    "version": 3
   },
   "file_extension": ".py",
   "mimetype": "text/x-python",
   "name": "python",
   "nbconvert_exporter": "python",
   "pygments_lexer": "ipython3",
   "version": "3.8.5"
  },
  "toc": {
   "base_numbering": 1,
   "nav_menu": {},
   "number_sections": false,
   "sideBar": true,
   "skip_h1_title": false,
   "title_cell": "Table of Contents",
   "title_sidebar": "Contents",
   "toc_cell": false,
   "toc_position": {
    "height": "calc(100% - 180px)",
    "left": "10px",
    "top": "150px",
    "width": "259.422px"
   },
   "toc_section_display": true,
   "toc_window_display": true
  }
 },
 "nbformat": 4,
 "nbformat_minor": 4
}
