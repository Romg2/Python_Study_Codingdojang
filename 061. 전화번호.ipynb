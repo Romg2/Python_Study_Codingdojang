{
 "cells": [
  {
   "cell_type": "markdown",
   "metadata": {},
   "source": [
    "**코딩 도장** 사이트의 문제를 직접 풀어본 내용을 정리하여 올립니다.\n",
    "\n",
    "[코딩 도장](https://codingdojang.com/)에서 여러 문제를 확인할 수 있습니다.\n",
    "\n",
    "난이도 순으로 차근차근 풀어보려 합니다."
   ]
  },
  {
   "cell_type": "markdown",
   "metadata": {},
   "source": [
    "---"
   ]
  },
  {
   "cell_type": "markdown",
   "metadata": {},
   "source": [
    "**[문제: 전화번호] - Lv.2**"
   ]
  },
  {
   "cell_type": "markdown",
   "metadata": {},
   "source": [
    "회사원들은 외우기 좋은 전화번호를 갖고 싶어한다. \n",
    "\n",
    "전화번호를 외우기 쉽도록 만드는 한 방법은 기억하기 좋은 단어나 구절이 되도록 하는 것이다. \n",
    "\n",
    "예를 들어, 워털루 대학의 전화는 TUT-GLOP으로 전화를 걸 수 있다. 때때로 번호의 일부만이 단어를 쓰기 위해 사용될 수 있다. \n",
    "\n",
    "Gino에서 피자를 주문하기 위해 310-GINO로 전화를 거는 식이다. \n",
    "\n",
    "전화번호를 외우기 좋도록 하는 또다른 방법은 숫자들을 기억하기 좋은 방법으로 묶는 것이다. \n",
    "\n",
    "3-10-10-10 (Three-tens)으로 전화를 걸면 피자헛에 주문을 할 수 있다.\n",
    "\n",
    "전화번호의 표준형은 세 번째 번호와 네 번째 번호 사이에 하이픈(-)을 삽입한 7개의 숫자로 구성되어 있다. (예: 888-1200). \n",
    "\n",
    "전화기의 키패드는 다음과 같은 글자 대 숫자의 대응을 지닌다.\n",
    "\n",
    "```\n",
    "A, B, C -> 2\n",
    "D, E, F -> 3\n",
    "G, H, I -> 4\n",
    "J, K, L -> 5\n",
    "M, N, O -> 6\n",
    "P, R, S -> 7\n",
    "T, U, V -> 8\n",
    "W, X, Y -> 9\n",
    "```\n",
    "\n",
    "Q와 Z에 대한 대응관계는 존재하지 않는다. \n",
    "\n",
    "하이픈은 전화기에 입력되지 않으며 필요에 따라 추가되거나 빠질 수 있다. \n",
    "\n",
    "TUT-GLOP의 표준형은 888-4567이고, 310-GINO의 표준형은 310-4466, 3-10-10-10의 표준형은 310-1010이다.\n",
    "\n",
    "만약 어떤 두 전화번호가 같은 표준형을 지니면 그들은 같은 번호이다.\n",
    "\n",
    "여러분의 회사는 지역 회사원들의 전화번호를 정리하고 있다. \n",
    "\n",
    "품질 관리 과정의 일환으로, 여러분은 정리된 전화번호부의 번호 중에 같은 것이 둘 이상 있지 않은지 확인하고 싶다.\n",
    "\n",
    "**Input**\n",
    "\n",
    "입력은 하나의 테스트 케이스로 구성된다. \n",
    "\n",
    "입력의 첫 줄은 전화번호의 갯수(<=100,000)로 이뤄져 있다. \n",
    "\n",
    "남은 줄들은 전화번호부 내의 전화번호들이 한 줄에 하나씩 들어 있다. \n",
    "\n",
    "각 전화번호는 십진 숫자들과 대문자(Q,Z 제외), 하이픈으로 구성된 문자열로 이뤄져 있다. \n",
    "\n",
    "문자열 내에서 정확히 7개의 문자들이 숫자 또는 알파벳 문자이다.\n",
    "\n",
    "**Output**\n",
    "\n",
    "한 번 이상 등장한 전화번호들이 출력을 구성한다. \n",
    "\n",
    "각 줄은 표준형으로 표현된 전화번호와 출현 횟수가 하나의 공백 문자로 구분되어 있다. \n",
    "\n",
    "출력되는 전화 번호들은 증가하는 사전식 순서로 되어 있어야 한다. \n",
    "\n",
    "만약 입력으로 들어온 전화번호 중에 중복이 없다면 \"No duplicates.\"를 출력한다.\n",
    "\n",
    "**Sample Input**\n",
    "\n",
    "```\n",
    "12\n",
    "4873279\n",
    "ITS-EASY\n",
    "888-4567\n",
    "3-10-10-10\n",
    "888-GLOP\n",
    "TUT-GLOP\n",
    "967-11-11\n",
    "310-GINO\n",
    "F101010\n",
    "888-1200\n",
    "-4-8-7-3-2-7-9-\n",
    "487-3279\n",
    "```\n",
    "\n",
    "**Sample Output**\n",
    "\n",
    "```\n",
    "310-1010 2\n",
    "487-3279 4\n",
    "888-4567 3\n",
    "```\n",
    "\n",
    "출처: <https://codingdojang.com/scode/441?answer_mode=hide>"
   ]
  },
  {
   "cell_type": "markdown",
   "metadata": {},
   "source": [
    "---"
   ]
  },
  {
   "cell_type": "markdown",
   "metadata": {},
   "source": [
    "**[풀이]**"
   ]
  },
  {
   "cell_type": "code",
   "execution_count": 1,
   "metadata": {
    "scrolled": false
   },
   "outputs": [
    {
     "name": "stdout",
     "output_type": "stream",
     "text": [
      "12\n",
      "4873279\n",
      "ITS-EASY\n",
      "888-4567\n",
      "3-10-10-10\n",
      "888-GLOP\n",
      "TUT-GLOP\n",
      "967-11-11\n",
      "310-GINO\n",
      "F101010\n",
      "888-1200\n",
      "-4-8-7-3-2-7-9-\n",
      "487-3279\n",
      "------------------------------\n",
      "310-1010 2\n",
      "310-4466 No duplicates.\n",
      "487-3279 4\n",
      "888-1200 No duplicates.\n",
      "888-4567 3\n",
      "967-1111 No duplicates.\n"
     ]
    }
   ],
   "source": [
    "txt = \"ABCDEFGHIJKLMNOPRSTUVWXY\"\n",
    "a = txt.maketrans(\"ABCDEFGHIJKLMNOPRSTUVWXY\", \"222333444555666777888999\")\n",
    "\n",
    "N = input()\n",
    "telephone = [input().translate(a).replace(\"-\",\"\") for i in range(int(N))]\n",
    "telephone = sorted(telephone, key=lambda x: int(x))\n",
    "\n",
    "telephone2 = {x[:3] + \"-\" + x[3:]:0 for x in telephone}\n",
    "\n",
    "for i in telephone:\n",
    "    key = str(i)[:3] + \"-\" + str(i)[3:]\n",
    "    telephone2[key] += 1\n",
    "\n",
    "print(\"-\"*30)\n",
    "for key, value in telephone2.items():\n",
    "    if value == 1:\n",
    "        value = \"No duplicates.\"\n",
    "    print(key, value)"
   ]
  },
  {
   "cell_type": "markdown",
   "metadata": {},
   "source": [
    "알파벳을 숫자로 변경하는 방법은 `translate()`를 사용하였다.\n",
    "\n",
    "그리고 입력받은 문자열을 하이폰을 제거하고 리스트 형태로 정렬하였다.\n",
    "\n",
    "그 후 사전을 만들어서 해당 값의 갯수를 확인하는 방식을 사용했다."
   ]
  },
  {
   "cell_type": "markdown",
   "metadata": {},
   "source": [
    "---"
   ]
  },
  {
   "cell_type": "markdown",
   "metadata": {},
   "source": [
    "**[추천 풀이]**"
   ]
  },
  {
   "cell_type": "code",
   "execution_count": 2,
   "metadata": {},
   "outputs": [
    {
     "name": "stdout",
     "output_type": "stream",
     "text": [
      "310-1010 2\n",
      "310-4466 1\n",
      "487-3279 4\n",
      "888-1200 1\n",
      "888-4567 3\n",
      "967-1111 1\n"
     ]
    }
   ],
   "source": [
    "def main(input):\n",
    "    AZ = \"ABCDEFGHIJKLMNOPRSTUVWXY\"\n",
    "    table = {}\n",
    "    for a in range(0, 8):\n",
    "        for c in AZ[a*3:a*3+3]:\n",
    "            table[c] = str(a+2)\n",
    "\n",
    "    result = {}\n",
    "    for line in input.split()[1:]:\n",
    "        source = line.strip().replace(\"-\", \"\")\n",
    "        transformed = \"\".join(([table.get(x, x) for x in list(source)]))\n",
    "        result[transformed] = result.get(transformed, 0) + 1\n",
    "\n",
    "    for print_line in sorted(result.keys()):\n",
    "        print( print_line[:3]+\"-\"+print_line[3:],\\\n",
    "            (result[print_line] if result[print_line] else \"No duplicates.\"))\n",
    "    \n",
    "main(\"12 4873279 ITS-EASY 888-4567 3-10-10-10 888-GLOP TUT-GLOP 967-11-11 310-GINO F101010 888-1200 -4-8-7-3-2-7-9- 487-3279\")"
   ]
  },
  {
   "cell_type": "markdown",
   "metadata": {},
   "source": [
    "큰 맥락은 비슷한데 알파벳을 바꾸는 방법을 이 분은 사전을 사용하였다.\n",
    "\n",
    "그리고 여기서 `get()`함수로 값이 없을 경우 반환하는 값을 지정해서 조금 더 간편하게 사용한 것 같다.\n",
    "\n",
    "나의 코드에서도 key만 가지고 있는 사전을 만든 후 값을 추가해주었는데 이렇게 짜면 훨씬 줄일 수 있겠다."
   ]
  }
 ],
 "metadata": {
  "interpreter": {
   "hash": "63fd5069d213b44bf678585dea6b12cceca9941eaf7f819626cde1f2670de90d"
  },
  "kernelspec": {
   "display_name": "Python 3",
   "language": "python",
   "name": "python3"
  },
  "language_info": {
   "codemirror_mode": {
    "name": "ipython",
    "version": 3
   },
   "file_extension": ".py",
   "mimetype": "text/x-python",
   "name": "python",
   "nbconvert_exporter": "python",
   "pygments_lexer": "ipython3",
   "version": "3.8.5"
  },
  "toc": {
   "base_numbering": 1,
   "nav_menu": {},
   "number_sections": false,
   "sideBar": true,
   "skip_h1_title": false,
   "title_cell": "Table of Contents",
   "title_sidebar": "Contents",
   "toc_cell": false,
   "toc_position": {
    "height": "calc(100% - 180px)",
    "left": "10px",
    "top": "150px",
    "width": "259.422px"
   },
   "toc_section_display": true,
   "toc_window_display": true
  }
 },
 "nbformat": 4,
 "nbformat_minor": 4
}
