{
 "cells": [
  {
   "cell_type": "markdown",
   "metadata": {},
   "source": [
    "**코딩 도장** 사이트의 문제를 직접 풀어본 내용을 정리하여 올립니다.\n",
    "\n",
    "[코딩 도장](https://codingdojang.com/)에서 여러 문제를 확인할 수 있습니다.\n",
    "\n",
    "난이도 순으로 차근차근 풀어보려 합니다."
   ]
  },
  {
   "cell_type": "markdown",
   "metadata": {},
   "source": [
    "---"
   ]
  },
  {
   "cell_type": "markdown",
   "metadata": {},
   "source": [
    "**[문제: 남은퇴근시간 계산기] - Lv.1**"
   ]
  },
  {
   "cell_type": "markdown",
   "metadata": {},
   "source": [
    "현우는 성인이되어 회사에입사했다.\n",
    "\n",
    "하지만 들어간기업이 하필 할일없는 중소기업이라\n",
    "\n",
    "퇴근시간까지 놀다가 퇴근시간에 퇴근하는것이 일상화가되어버렸다..\n",
    "\n",
    "현우는 심심한지라 좀더효율적으로놀기위해\n",
    "\n",
    "현재부터 퇴근시간까지 남은시간을 알려주는 계산기를 만들어\n",
    "\n",
    "계산적으로놀고싶었다 우리가현우를 도와주자!!\n",
    "\n",
    "(참고로 현우의퇴근시간은 17시30분이다)\n",
    "\n",
    "input: 현재시간\n",
    "\n",
    "output: 남은시간 : hh:mm:ss\n",
    "\n",
    "or\n",
    "\n",
    "남은시간 : s\n",
    "\n",
    "심화버젼 : 이쁘게꾸며보자!\n",
    "\n",
    "출처: <https://codingdojang.com/scode/645?answer_mode=hide>"
   ]
  },
  {
   "cell_type": "markdown",
   "metadata": {},
   "source": [
    "---"
   ]
  },
  {
   "cell_type": "markdown",
   "metadata": {},
   "source": [
    "**[풀이]**"
   ]
  },
  {
   "cell_type": "code",
   "execution_count": 1,
   "metadata": {},
   "outputs": [
    {
     "name": "stdout",
     "output_type": "stream",
     "text": [
      "남은 시간: 00:14:36\n"
     ]
    }
   ],
   "source": [
    "current_time = \"17:15:24\"\n",
    "out_time = \"17:30:00\"\n",
    "\n",
    "current_s = list(map(int, current_time.split(\":\")))\n",
    "current_s = current_s[0]*60*60 + current_s[1]*60 + current_s[2]\n",
    "\n",
    "out_s = list(map(int, out_time.split(\":\")))\n",
    "out_s = out_s[0]*60*60 + out_s[1]*60 + out_s[2]\n",
    "\n",
    "ans = out_s - current_s\n",
    "\n",
    "t = str(ans // (60*60)).zfill(2)\n",
    "h = str((ans % (60*60)) // 60).zfill(2)\n",
    "s = str((ans % (60*60)) % 60).zfill(2)\n",
    "\n",
    "print(f\"남은 시간: {t}:{h}:{s}\")"
   ]
  },
  {
   "cell_type": "markdown",
   "metadata": {},
   "source": [
    "패키지 없이 코드를 작성해보았는데 너무 번잡하게 만든 것 같다.\n",
    "\n",
    "입력된 시간을 초 단위로 바꿔 남은 시간을 초로 계산한 뒤 다시 시:분:초 형태로 만들어주었다."
   ]
  },
  {
   "cell_type": "markdown",
   "metadata": {},
   "source": [
    "---"
   ]
  },
  {
   "cell_type": "markdown",
   "metadata": {},
   "source": [
    "**[추천 풀이]**"
   ]
  },
  {
   "cell_type": "code",
   "execution_count": 2,
   "metadata": {},
   "outputs": [
    {
     "name": "stdout",
     "output_type": "stream",
     "text": [
      "다음 퇴근시간까지는 0:43:20(2,600초) 남았습니다.\n"
     ]
    }
   ],
   "source": [
    "import datetime as dt\n",
    "\n",
    "cur_time = dt.datetime.today()  # 현재시간\n",
    "leave_time = cur_time.replace(hour=17, minute=30, second=0)  # 퇴근시간\n",
    "\n",
    "# 남은 시간 계산 (퇴근 시간이 지난 경우 익일 퇴근까지의 시간)\n",
    "diffsec = (leave_time - cur_time).total_seconds()\n",
    "diffsec = diffsec + 60 * 60 * 24 if diffsec < 0 else diffsec\n",
    "\n",
    "print(f\"다음 퇴근시간까지는 {dt.timedelta(seconds=diffsec)}({diffsec:,.0f}초) 남았습니다.\")"
   ]
  },
  {
   "cell_type": "markdown",
   "metadata": {},
   "source": [
    "이 분은 `datetime` 패키지를 이용해서 푸셨는데 아마 문제 의도도 날짜 패키지를 사용하는 게 아닐까?"
   ]
  }
 ],
 "metadata": {
  "interpreter": {
   "hash": "63fd5069d213b44bf678585dea6b12cceca9941eaf7f819626cde1f2670de90d"
  },
  "kernelspec": {
   "display_name": "Python 3",
   "language": "python",
   "name": "python3"
  },
  "language_info": {
   "codemirror_mode": {
    "name": "ipython",
    "version": 3
   },
   "file_extension": ".py",
   "mimetype": "text/x-python",
   "name": "python",
   "nbconvert_exporter": "python",
   "pygments_lexer": "ipython3",
   "version": "3.8.5"
  },
  "toc": {
   "base_numbering": 1,
   "nav_menu": {},
   "number_sections": false,
   "sideBar": true,
   "skip_h1_title": false,
   "title_cell": "Table of Contents",
   "title_sidebar": "Contents",
   "toc_cell": false,
   "toc_position": {
    "height": "calc(100% - 180px)",
    "left": "10px",
    "top": "150px",
    "width": "259.422px"
   },
   "toc_section_display": true,
   "toc_window_display": true
  }
 },
 "nbformat": 4,
 "nbformat_minor": 4
}
