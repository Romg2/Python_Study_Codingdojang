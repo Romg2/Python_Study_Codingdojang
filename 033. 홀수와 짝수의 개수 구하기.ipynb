{
 "cells": [
  {
   "cell_type": "markdown",
   "metadata": {},
   "source": [
    "**코딩 도장** 사이트의 문제를 직접 풀어본 내용을 정리하여 올립니다.\n",
    "\n",
    "[코딩 도장](https://codingdojang.com/)에서 여러 문제를 확인할 수 있습니다.\n",
    "\n",
    "난이도 순으로 차근차근 풀어보려 합니다."
   ]
  },
  {
   "cell_type": "markdown",
   "metadata": {},
   "source": [
    "---"
   ]
  },
  {
   "cell_type": "markdown",
   "metadata": {},
   "source": [
    "**[문제: 홀수와 짝수의 개수 구하기] - Lv.1**"
   ]
  },
  {
   "cell_type": "markdown",
   "metadata": {},
   "source": [
    "홀수와 짝수의 개수를 구하는 프로그램을 만들어라.\n",
    "\n",
    "```\n",
    "[3, 4, 5, 6, 7]\n",
    "= 홀수 3개, 짝수 2개\n",
    "[12, 16, 22, 24, 29]\n",
    "= 홀수 1개, 짝수 4개 \n",
    "[41, 43, 45, 47, 49]\n",
    "= 홀수 5개, 짝수 0개\n",
    "\n",
    "홀수 : 2로 나누어 떨어지지 않는 정수\n",
    "짝수 : 2로 나누어 떨어지는 정수\n",
    "```\n",
    "\n",
    "출처: <https://codingdojang.com/scode/613?answer_mode=hide>"
   ]
  },
  {
   "cell_type": "markdown",
   "metadata": {},
   "source": [
    "---"
   ]
  },
  {
   "cell_type": "markdown",
   "metadata": {},
   "source": [
    "**[풀이]**"
   ]
  },
  {
   "cell_type": "code",
   "execution_count": 1,
   "metadata": {},
   "outputs": [],
   "source": [
    "def f(x):\n",
    "    return x % 2\n",
    "\n",
    "def odd_even(x):\n",
    "    x2 = list(map(f,x))\n",
    "    odd = sum(x2)\n",
    "    even = len(x2) - sum(x2)\n",
    "    \n",
    "    print(f\"{x} = 홀수 {odd}개 짝수 {even}개\")\n",
    "    \n",
    "x = [12, 16, 22, 24, 29]\n",
    "\n",
    "odd_even(x)"
   ]
  },
  {
   "cell_type": "markdown",
   "metadata": {},
   "source": [
    "우선 `map()`을 이용해서 기존 리스트를 2로 나누었을 때 나머지 값을 리스트로 생성하였다.\n",
    "\n",
    "나머지 값을 더한 값은 홀수의 갯수가 될 것이고 전체 길이에서 홀수의 갯수를 빼 짝수의 갯수를 구하였다."
   ]
  },
  {
   "cell_type": "markdown",
   "metadata": {},
   "source": [
    "---"
   ]
  },
  {
   "cell_type": "markdown",
   "metadata": {},
   "source": [
    "**[추천 풀이]**"
   ]
  },
  {
   "cell_type": "code",
   "execution_count": 2,
   "metadata": {},
   "outputs": [],
   "source": [
    "def count_odd_n_even(lst):\n",
    "    odd = len([x for x in lst if x % 2 == 1])\n",
    "    return (odd, len(lst) - odd)\n",
    "\n"
   ]
  },
  {
   "cell_type": "markdown",
   "metadata": {},
   "source": [
    "내가 `map()`을 써서 나누었다면 이 분은 한줄 for문을 이용해서 동일한 작업을 해주었다."
   ]
  }
 ],
 "metadata": {
  "interpreter": {
   "hash": "63fd5069d213b44bf678585dea6b12cceca9941eaf7f819626cde1f2670de90d"
  },
  "kernelspec": {
   "display_name": "Python 3",
   "language": "python",
   "name": "python3"
  },
  "language_info": {
   "codemirror_mode": {
    "name": "ipython",
    "version": 3
   },
   "file_extension": ".py",
   "mimetype": "text/x-python",
   "name": "python",
   "nbconvert_exporter": "python",
   "pygments_lexer": "ipython3",
   "version": "3.8.5"
  },
  "toc": {
   "base_numbering": 1,
   "nav_menu": {},
   "number_sections": false,
   "sideBar": true,
   "skip_h1_title": false,
   "title_cell": "Table of Contents",
   "title_sidebar": "Contents",
   "toc_cell": false,
   "toc_position": {
    "height": "calc(100% - 180px)",
    "left": "10px",
    "top": "150px",
    "width": "259.422px"
   },
   "toc_section_display": true,
   "toc_window_display": true
  }
 },
 "nbformat": 4,
 "nbformat_minor": 4
}
