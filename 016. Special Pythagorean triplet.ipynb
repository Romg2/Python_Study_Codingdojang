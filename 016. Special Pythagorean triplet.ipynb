{
 "cells": [
  {
   "cell_type": "markdown",
   "metadata": {},
   "source": [
    "**코딩 도장** 사이트의 문제를 직접 풀어본 내용을 정리하여 올립니다.\n",
    "\n",
    "[코딩 도장](https://codingdojang.com/)에서 여러 문제를 확인할 수 있습니다.\n",
    "\n",
    "난이도 순으로 차근차근 풀어보려 합니다."
   ]
  },
  {
   "cell_type": "markdown",
   "metadata": {},
   "source": [
    "---"
   ]
  },
  {
   "cell_type": "markdown",
   "metadata": {},
   "source": [
    "**[문제: Special Pythagorean triplet] - Lv.1**"
   ]
  },
  {
   "cell_type": "markdown",
   "metadata": {},
   "source": [
    "세 자연수 a, b, c 가 피타고라스 정리 a^2 + b^2 = c^2 를 만족하면 피타고라스 수라고 부릅니다 (여기서 a < b < c ). \n",
    "\n",
    "예를 들면 3^2 + 4^2 = 9 + 16 = 25 = 5^2 이므로 3, 4, 5는 피타고라스 수입니다.\n",
    "\n",
    "a + b + c = 1000 인 피타고라스 수 a, b, c는 한 가지 뿐입니다. 이 때, a × b × c 는 얼마입니까?\n",
    "\n",
    "출처: <https://codingdojang.com/scode/545?answer_mode=hide>"
   ]
  },
  {
   "cell_type": "markdown",
   "metadata": {},
   "source": [
    "---"
   ]
  },
  {
   "cell_type": "markdown",
   "metadata": {},
   "source": [
    "**[풀이]**"
   ]
  },
  {
   "cell_type": "code",
   "execution_count": 15,
   "metadata": {},
   "outputs": [
    {
     "name": "stdout",
     "output_type": "stream",
     "text": [
      "200 375 425\n",
      "31,875,000\n"
     ]
    }
   ],
   "source": [
    "for a in range(1,501):\n",
    "    for b in range(1,501):\n",
    "        # a + b + c = 1000\n",
    "        c = 1000 - a - b\n",
    "        \n",
    "        # a < b < c\n",
    "        if a > b:\n",
    "            continue\n",
    "        \n",
    "        # a^2 + b^2 = c^2\n",
    "        if (a**2 + b**2 == c**2):\n",
    "            print(a,b,c)\n",
    "            print(f\"{a*b*c:,}\")"
   ]
  },
  {
   "cell_type": "markdown",
   "metadata": {},
   "source": [
    "미지수는 3개이고 식은 2개이므로 for문을 사용하였다."
   ]
  },
  {
   "cell_type": "markdown",
   "metadata": {},
   "source": [
    "---"
   ]
  },
  {
   "cell_type": "markdown",
   "metadata": {},
   "source": [
    "**[추천 풀이]**"
   ]
  },
  {
   "cell_type": "markdown",
   "metadata": {},
   "source": [
    "식을 정리하는 방법에 따라 for문 사용법이 다르겠지만 대부분 비슷하게 푸신거 같아 생략하였다."
   ]
  }
 ],
 "metadata": {
  "interpreter": {
   "hash": "63fd5069d213b44bf678585dea6b12cceca9941eaf7f819626cde1f2670de90d"
  },
  "kernelspec": {
   "display_name": "Python 3 (ipykernel)",
   "language": "python",
   "name": "python3"
  },
  "language_info": {
   "codemirror_mode": {
    "name": "ipython",
    "version": 3
   },
   "file_extension": ".py",
   "mimetype": "text/x-python",
   "name": "python",
   "nbconvert_exporter": "python",
   "pygments_lexer": "ipython3",
   "version": "3.7.10"
  },
  "toc": {
   "base_numbering": 1,
   "nav_menu": {},
   "number_sections": false,
   "sideBar": true,
   "skip_h1_title": false,
   "title_cell": "Table of Contents",
   "title_sidebar": "Contents",
   "toc_cell": false,
   "toc_position": {},
   "toc_section_display": true,
   "toc_window_display": true
  }
 },
 "nbformat": 4,
 "nbformat_minor": 4
}
