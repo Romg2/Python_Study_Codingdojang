{
 "cells": [
  {
   "cell_type": "markdown",
   "metadata": {},
   "source": [
    "**코딩 도장** 사이트의 문제를 직접 풀어본 내용을 정리하여 올립니다.\n",
    "\n",
    "[코딩 도장](https://codingdojang.com/)에서 여러 문제를 확인할 수 있습니다.\n",
    "\n",
    "난이도 순으로 차근차근 풀어보려 합니다."
   ]
  },
  {
   "cell_type": "markdown",
   "metadata": {},
   "source": [
    "---"
   ]
  },
  {
   "cell_type": "markdown",
   "metadata": {},
   "source": [
    "**[문제: 게시판 페이징] - Lv.1**"
   ]
  },
  {
   "cell_type": "markdown",
   "metadata": {},
   "source": [
    "A씨는 게시판 프로그램을 작성하고 있다.\n",
    "\n",
    "A씨는 게시물의 총 건수와 한 페이지에 보여줄 게시물수를 입력으로 주었을 때 총 페이지수를 리턴하는 프로그램이 필요하다고 한다.\n",
    "\n",
    "```\n",
    "입력 : 총건수(m), 한페이지에 보여줄 게시물수(n) (단 n은 1보다 크거나 같다. n >= 1)\n",
    "출력 : 총페이지수\n",
    "```\n",
    "\n",
    "A씨가 필요한 프로그램을 작성하시오.\n",
    "\n",
    "예) 프로그램 수행 시 다음과 같은 결과값이 나와야 함.\n",
    "\n",
    "|m|n|출력|\n",
    "|-|-|-|\n",
    "|0|1|0|\n",
    "|1|1|1|\n",
    "|2|1|2|\n",
    "|1|10|1|\n",
    "|10|10|1|\n",
    "|11|10|2|\n",
    "\n",
    "출처: <https://codingdojang.com/scode/406?answer_mode=hide>"
   ]
  },
  {
   "cell_type": "markdown",
   "metadata": {},
   "source": [
    "---"
   ]
  },
  {
   "cell_type": "markdown",
   "metadata": {},
   "source": [
    "**[풀이]**"
   ]
  },
  {
   "cell_type": "code",
   "execution_count": 1,
   "metadata": {},
   "outputs": [
    {
     "name": "stdout",
     "output_type": "stream",
     "text": [
      "m: 0, n: 1, 출력: 0\n",
      "m: 1, n: 1, 출력: 1\n",
      "m: 2, n: 1, 출력: 2\n",
      "m: 1, n: 10, 출력: 1\n",
      "m: 10, n: 10, 출력: 1\n",
      "m: 11, n: 10, 출력: 2\n"
     ]
    }
   ],
   "source": [
    "def total_page(m,n):\n",
    "    if (m % n > 0):\n",
    "        return (m // n) + 1\n",
    "    return (m // n)\n",
    "\n",
    "m = [0 ,1, 2, 1, 10, 11]\n",
    "n = [1, 1, 1, 10, 10, 10]\n",
    "\n",
    "for i,j in zip(m,n):\n",
    "    print(f\"m: {i}, n: {j}, 출력: {total_page(i,j)}\")"
   ]
  },
  {
   "cell_type": "markdown",
   "metadata": {},
   "source": [
    "총 건수(m)이 한 페이지에 표시할 게시물 수(n)으로 나누어 몫을 반환한다.\n",
    "\n",
    "만약 나머지가 존재하면 몫에 1을 더해준다."
   ]
  },
  {
   "cell_type": "markdown",
   "metadata": {},
   "source": [
    "---"
   ]
  },
  {
   "cell_type": "markdown",
   "metadata": {},
   "source": [
    "**[추천 풀이]**"
   ]
  },
  {
   "cell_type": "code",
   "execution_count": 2,
   "metadata": {},
   "outputs": [
    {
     "name": "stdout",
     "output_type": "stream",
     "text": [
      "총건수: 0\n",
      "한페이지에 보여줄 게시물수: 1\n",
      "0\n"
     ]
    }
   ],
   "source": [
    "import math\n",
    "\n",
    "m = int(input('총건수: '))\n",
    "n = int(input('한페이지에 보여줄 게시물수: '))\n",
    "\n",
    "print(math.ceil(m/n))"
   ]
  },
  {
   "cell_type": "markdown",
   "metadata": {},
   "source": [
    "다른 분들이 풀이한 내용 중 추천 수가 많은 풀이이다.\n",
    "\n",
    "`math`의 `ceil`을 이용해서 간단하게 올림으로 계산한다."
   ]
  }
 ],
 "metadata": {
  "kernelspec": {
   "display_name": "Python 3",
   "language": "python",
   "name": "python3"
  },
  "language_info": {
   "codemirror_mode": {
    "name": "ipython",
    "version": 3
   },
   "file_extension": ".py",
   "mimetype": "text/x-python",
   "name": "python",
   "nbconvert_exporter": "python",
   "pygments_lexer": "ipython3",
   "version": "3.8.5"
  },
  "toc": {
   "base_numbering": 1,
   "nav_menu": {},
   "number_sections": false,
   "sideBar": true,
   "skip_h1_title": false,
   "title_cell": "Table of Contents",
   "title_sidebar": "Contents",
   "toc_cell": false,
   "toc_position": {},
   "toc_section_display": true,
   "toc_window_display": true
  }
 },
 "nbformat": 4,
 "nbformat_minor": 4
}
