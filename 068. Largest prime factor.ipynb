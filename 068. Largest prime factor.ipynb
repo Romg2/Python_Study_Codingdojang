{
 "cells": [
  {
   "cell_type": "markdown",
   "metadata": {},
   "source": [
    "**코딩 도장** 사이트의 문제를 직접 풀어본 내용을 정리하여 올립니다.\n",
    "\n",
    "[코딩 도장](https://codingdojang.com/)에서 여러 문제를 확인할 수 있습니다.\n",
    "\n",
    "난이도 순으로 차근차근 풀어보려 합니다."
   ]
  },
  {
   "cell_type": "markdown",
   "metadata": {},
   "source": [
    "---"
   ]
  },
  {
   "cell_type": "markdown",
   "metadata": {},
   "source": [
    "**[문제: Largest prime factor] - Lv.2**"
   ]
  },
  {
   "cell_type": "markdown",
   "metadata": {},
   "source": [
    "어떤 수를 소수의 곱으로만 나타내는 것을 소인수분해라 하고, 이 소수들을 그 수의 소인수라고 한다.\n",
    "\n",
    "예를 들면 13195의 소인수는 5, 7, 13, 29 이다.\n",
    "\n",
    "600851475143의 소인수 중에서 가장 큰 수를 구하시오.\n",
    "\n",
    "출처: <https://codingdojang.com/scode/450?answer_mode=hide>"
   ]
  },
  {
   "cell_type": "markdown",
   "metadata": {},
   "source": [
    "---"
   ]
  },
  {
   "cell_type": "markdown",
   "metadata": {},
   "source": [
    "**[풀이]**"
   ]
  },
  {
   "cell_type": "code",
   "execution_count": 1,
   "metadata": {},
   "outputs": [
    {
     "name": "stdout",
     "output_type": "stream",
     "text": [
      "6857 {71: 1, 839: 1, 1471: 1, 6857: 1}\n"
     ]
    }
   ],
   "source": [
    "def Largestprimefactor(n):\n",
    "    i = 2\n",
    "    a= {}\n",
    "    while n != 1:\n",
    "        j=0\n",
    "        while n % i == 0:\n",
    "            n = int(n/i)\n",
    "            j += 1\n",
    "        if j != 0:\n",
    "            a[i] = j\n",
    "        i += 1\n",
    "    return print(max(a.keys()), a)\n",
    "\n",
    "Largestprimefactor(600851475143)"
   ]
  },
  {
   "cell_type": "markdown",
   "metadata": {},
   "source": [
    "전체적인 방법으로 모든 소인수로 n을 나누면 1이 되므로 n이 1이 될 때까지 while문을 사용하였다.\n",
    "\n",
    "두 번째 while문은 처음엔 2로 나누되 더 이상 2로 나눠지지 않을 때까지 반복하면서 n을 갱신해준다.\n",
    "\n",
    "이러면 2의 배수 즉, 소수가 아닌 수에 대해선 두 번째 while문은 실행되지 않을 것이다.\n",
    "\n",
    "다음은 3에 대해 실행 4는 패스, 5는 실행, 6은 패스, 7은 실행 등 소수에 대해서만 작동된다."
   ]
  },
  {
   "cell_type": "markdown",
   "metadata": {},
   "source": [
    "---"
   ]
  },
  {
   "cell_type": "markdown",
   "metadata": {},
   "source": [
    "**[추천 풀이]**"
   ]
  },
  {
   "cell_type": "code",
   "execution_count": 2,
   "metadata": {},
   "outputs": [
    {
     "name": "stdout",
     "output_type": "stream",
     "text": [
      "6857.0\n"
     ]
    },
    {
     "data": {
      "text/plain": [
       "0"
      ]
     },
     "execution_count": 2,
     "metadata": {},
     "output_type": "execute_result"
    }
   ],
   "source": [
    "def Largest_prime(n):\n",
    "    cnt = 2\n",
    "    while cnt < n:\n",
    "        if n % cnt  ==  0:\n",
    "            Largest_prime(n/cnt)\n",
    "            return 0\n",
    "        cnt += 1\n",
    "    print(n)\n",
    "\n",
    "Largest_prime(600851475143)"
   ]
  },
  {
   "cell_type": "markdown",
   "metadata": {},
   "source": [
    "이 분도 비슷하지만 나와 달리 while을 하나만 사용하고 재귀 방식을 사용하였다."
   ]
  }
 ],
 "metadata": {
  "interpreter": {
   "hash": "63fd5069d213b44bf678585dea6b12cceca9941eaf7f819626cde1f2670de90d"
  },
  "kernelspec": {
   "display_name": "Python 3",
   "language": "python",
   "name": "python3"
  },
  "language_info": {
   "codemirror_mode": {
    "name": "ipython",
    "version": 3
   },
   "file_extension": ".py",
   "mimetype": "text/x-python",
   "name": "python",
   "nbconvert_exporter": "python",
   "pygments_lexer": "ipython3",
   "version": "3.8.5"
  },
  "toc": {
   "base_numbering": 1,
   "nav_menu": {},
   "number_sections": false,
   "sideBar": true,
   "skip_h1_title": false,
   "title_cell": "Table of Contents",
   "title_sidebar": "Contents",
   "toc_cell": false,
   "toc_position": {
    "height": "calc(100% - 180px)",
    "left": "10px",
    "top": "150px",
    "width": "259.422px"
   },
   "toc_section_display": true,
   "toc_window_display": true
  }
 },
 "nbformat": 4,
 "nbformat_minor": 4
}
