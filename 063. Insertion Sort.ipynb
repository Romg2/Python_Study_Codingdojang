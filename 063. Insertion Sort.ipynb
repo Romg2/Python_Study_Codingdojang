{
 "cells": [
  {
   "cell_type": "markdown",
   "metadata": {},
   "source": [
    "**코딩 도장** 사이트의 문제를 직접 풀어본 내용을 정리하여 올립니다.\n",
    "\n",
    "[코딩 도장](https://codingdojang.com/)에서 여러 문제를 확인할 수 있습니다.\n",
    "\n",
    "난이도 순으로 차근차근 풀어보려 합니다."
   ]
  },
  {
   "cell_type": "markdown",
   "metadata": {},
   "source": [
    "---"
   ]
  },
  {
   "cell_type": "markdown",
   "metadata": {},
   "source": [
    "**[문제: Insertion Sort] - Lv.2**"
   ]
  },
  {
   "cell_type": "markdown",
   "metadata": {},
   "source": [
    "![](http://dl.dropboxusercontent.com/s/lagq57a9mw87u3c/s.png)\n",
    "\n",
    "\n",
    "위 그림은 `{5,2,4,6,1,3}` 이라는 배열을 소트하는 방법을 보여준다.\n",
    "\n",
    "배열의 두번째 인덱스부터 시작하여 시작한 인덱스(검정색 블록) 좌측의 항목 중 자신이 들어가야 할 위치를 판단(소트되도록)하여 이동 한다.\n",
    "\n",
    "좌측의 배열 요소들은 본인보다 좌측에 값이 삽입되어 들어올 경우 한칸씩 우측으로 이동한다. \n",
    "\n",
    "단, 삽입되어 들어오는 요소(그림에서 검정색 블록)가 있던 인덱스(원래의 위치)까지만 이동한다.\n",
    "\n",
    "마지막 인덱스까지 위 과정을 반복한다.\n",
    "\n",
    "이와 같은 기능을 하는 소트 프로그램을 작성하시오.\n",
    "\n",
    "출처: <https://codingdojang.com/scode/443?answer_mode=hide>"
   ]
  },
  {
   "cell_type": "markdown",
   "metadata": {},
   "source": [
    "---"
   ]
  },
  {
   "cell_type": "markdown",
   "metadata": {},
   "source": [
    "**[풀이]**"
   ]
  },
  {
   "cell_type": "code",
   "execution_count": 1,
   "metadata": {
    "scrolled": false
   },
   "outputs": [
    {
     "name": "stdout",
     "output_type": "stream",
     "text": [
      "1 : [5, 2, 4, 6, 1, 3]\n",
      "2 : [2, 5, 4, 6, 1, 3]\n",
      "3 : [2, 4, 5, 6, 1, 3]\n",
      "4 : [2, 4, 5, 6, 1, 3]\n",
      "5 : [1, 2, 4, 5, 6, 3]\n",
      "6 : [1, 2, 3, 4, 5, 6]\n"
     ]
    }
   ],
   "source": [
    "def Insertion_Sort(a):\n",
    "    for k in range(1,len(a)+1):\n",
    "        if k==1:\n",
    "            print(k, \":\", a)\n",
    "            continue\n",
    "\n",
    "        idx = [a.index(i) for i in sorted(a[:k])] + [a.index(i) for i in a[k:]]\n",
    "        a = [a[i] for i in idx]\n",
    "        print(k, \":\", a)\n",
    "\n",
    "a = [5, 2, 4, 6, 1, 3]\n",
    "Insertion_Sort(a)"
   ]
  },
  {
   "cell_type": "markdown",
   "metadata": {},
   "source": [
    "이 프로그램은 두 번째 인덱스부터 좌측의 모든 값들을 sort하고 뒤의 값은 그대로 출력된다.\n",
    "\n",
    "그 후 인덱스를 세 번째, 네 번째로 이동하는 방식을 반복한다.\n",
    "\n",
    "그래서 기존 배열의 앞에 2개의 값을 sort시 인덱스와 나머지 원래 인덱스를 합쳐 인덱스 순서로 배열을 재생성하였다.\n",
    "\n",
    "이를 앞의 2개의 값에서 3개, 4개로 증가시켜 마지막까지 반복하였다.\n",
    "\n",
    "코드 상으로는 `index()`가 주이며 `sorted()`를 사용한게 조금 걸리긴 한다."
   ]
  },
  {
   "cell_type": "markdown",
   "metadata": {},
   "source": [
    "---"
   ]
  },
  {
   "cell_type": "markdown",
   "metadata": {},
   "source": [
    "**[추천 풀이]**"
   ]
  },
  {
   "cell_type": "code",
   "execution_count": 2,
   "metadata": {},
   "outputs": [
    {
     "name": "stdout",
     "output_type": "stream",
     "text": [
      "[1, 2, 3, 4, 5, 6]\n"
     ]
    }
   ],
   "source": [
    "t0 = [5,2,4,6,1,3]\n",
    "for i in range( 1, len(t0) ):\n",
    "    for j in range( i ):\n",
    "        while t0[i] < t0[j]:\n",
    "            t0[i], t0[j] = t0[j], t0[i]\n",
    "            \n",
    "print(t0)"
   ]
  },
  {
   "cell_type": "markdown",
   "metadata": {},
   "source": [
    "우선 원래 풀이로 이렇게 올라왔는데 결과는 잘 정렬되었다.\n",
    "\n",
    "이를 과정별로 살펴보자."
   ]
  },
  {
   "cell_type": "code",
   "execution_count": 3,
   "metadata": {},
   "outputs": [
    {
     "name": "stdout",
     "output_type": "stream",
     "text": [
      "[2, 5, 4, 6, 1, 3]\n",
      "[2, 4, 5, 6, 1, 3]\n",
      "[2, 4, 5, 6, 1, 3]\n",
      "[1, 2, 4, 5, 6, 3]\n",
      "[1, 2, 3, 4, 5, 6]\n"
     ]
    }
   ],
   "source": [
    "t0 = [5,2,4,6,1,3]\n",
    "for i in range( 1, len(t0) ):\n",
    "    for j in range( i ):\n",
    "        while t0[i] < t0[j]:\n",
    "            t0[i], t0[j] = t0[j], t0[i]\n",
    "            \n",
    "    print(t0)"
   ]
  },
  {
   "cell_type": "markdown",
   "metadata": {},
   "source": [
    "과정별로 보았을 때 (여기선 i 루프 별) 의도한 과정 순서대로 잘 나타난다.\n",
    "\n",
    "어떻게 정렬이 되는지 자세히 알아보자."
   ]
  },
  {
   "cell_type": "code",
   "execution_count": 4,
   "metadata": {},
   "outputs": [
    {
     "name": "stdout",
     "output_type": "stream",
     "text": [
      "[2, 5, 4, 6, 1, 3]\n",
      "[2, 5, 4, 6, 1, 3]\n",
      "[2, 4, 5, 6, 1, 3]\n",
      "[2, 4, 5, 6, 1, 3]\n",
      "[2, 4, 5, 6, 1, 3]\n",
      "[2, 4, 5, 6, 1, 3]\n",
      "[1, 4, 5, 6, 2, 3]\n",
      "[1, 2, 5, 6, 4, 3]\n",
      "[1, 2, 4, 6, 5, 3]\n",
      "[1, 2, 4, 5, 6, 3]\n",
      "[1, 2, 4, 5, 6, 3]\n",
      "[1, 2, 4, 5, 6, 3]\n",
      "[1, 2, 3, 5, 6, 4]\n",
      "[1, 2, 3, 4, 6, 5]\n",
      "[1, 2, 3, 4, 5, 6]\n"
     ]
    }
   ],
   "source": [
    "t0 = [5,2,4,6,1,3]\n",
    "for i in range( 1, len(t0) ):\n",
    "    for j in range( i ):\n",
    "        while t0[i] < t0[j]:\n",
    "            t0[i], t0[j] = t0[j], t0[i]\n",
    "            \n",
    "        print(t0)"
   ]
  },
  {
   "cell_type": "markdown",
   "metadata": {},
   "source": [
    "while 문에도 나와 있지만 결국 i번째 인덱스의 값이 i번째 인덱스 앞에 값보다 작다면 계속 교환을 하는 형태이다.\n",
    "\n",
    "나는 `sorted()`를 사용해서 조금 걸렸는데 이런 방식으로 푸는게 더 좋아보이긴 한다."
   ]
  }
 ],
 "metadata": {
  "interpreter": {
   "hash": "63fd5069d213b44bf678585dea6b12cceca9941eaf7f819626cde1f2670de90d"
  },
  "kernelspec": {
   "display_name": "Python 3",
   "language": "python",
   "name": "python3"
  },
  "language_info": {
   "codemirror_mode": {
    "name": "ipython",
    "version": 3
   },
   "file_extension": ".py",
   "mimetype": "text/x-python",
   "name": "python",
   "nbconvert_exporter": "python",
   "pygments_lexer": "ipython3",
   "version": "3.8.5"
  },
  "toc": {
   "base_numbering": 1,
   "nav_menu": {},
   "number_sections": false,
   "sideBar": true,
   "skip_h1_title": false,
   "title_cell": "Table of Contents",
   "title_sidebar": "Contents",
   "toc_cell": false,
   "toc_position": {
    "height": "calc(100% - 180px)",
    "left": "10px",
    "top": "150px",
    "width": "259.422px"
   },
   "toc_section_display": true,
   "toc_window_display": true
  }
 },
 "nbformat": 4,
 "nbformat_minor": 4
}
