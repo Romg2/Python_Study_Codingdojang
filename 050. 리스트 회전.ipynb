{
 "cells": [
  {
   "cell_type": "markdown",
   "metadata": {},
   "source": [
    "**코딩 도장** 사이트의 문제를 직접 풀어본 내용을 정리하여 올립니다.\n",
    "\n",
    "[코딩 도장](https://codingdojang.com/)에서 여러 문제를 확인할 수 있습니다.\n",
    "\n",
    "난이도 순으로 차근차근 풀어보려 합니다."
   ]
  },
  {
   "cell_type": "markdown",
   "metadata": {},
   "source": [
    "---"
   ]
  },
  {
   "cell_type": "markdown",
   "metadata": {},
   "source": [
    "**[문제: 리스트 회전] - Lv.2**"
   ]
  },
  {
   "cell_type": "markdown",
   "metadata": {},
   "source": [
    "아래 조건에 따라 리스트를 회전하는 프로그램을 작성하시오.\n",
    "\n",
    "**조건**\n",
    "\n",
    "- 입력값은 한 행의 문자열로 주어지며, 각 값은 공백으로 구분된다.\n",
    "\n",
    "\n",
    "- 첫 번째 값은 리스트를 회전하는 양과 방향(음수의 경우 좌측으로, 양수의 경우 우측으로 회전)이다.\n",
    "\n",
    "\n",
    "- 첫 번째 값을 제외한 나머지 값은 리스트의 각 항목의 값이다.\n",
    "\n",
    "\n",
    "- 회전된 리스트를 문자열로 출력한다.\n",
    "\n",
    "\n",
    "- 구현에 이용할 자료구조에 대한 조건이나 제약은 없다.\n",
    "\n",
    "\n",
    "- 입력되는 리스트의 항목의 개수는 유한한다.\n",
    "\n",
    "**입출력예**\n",
    "\n",
    "```\n",
    "예 1)\n",
    "\n",
    "입력: 1 10 20 30 40 50\n",
    "\n",
    "출력: 50 10 20 30 40\n",
    "\n",
    "예 2)\n",
    "\n",
    "입력: 4 가 나 다 라 마 바 사\n",
    "\n",
    "출력: 라 마 바 사 가 나 다\n",
    "\n",
    "예 3)\n",
    "\n",
    "입력: -2 A B C D E F G\n",
    "\n",
    "출력: C D E F G A B\n",
    "\n",
    "예 4)\n",
    "\n",
    "입력: 0 똘기 떵이 호치 새초미\n",
    "\n",
    "출력: 똘기 떵이 호치 새초미\n",
    "```\n",
    "\n",
    "출처: <https://codingdojang.com/scode/400?answer_mode=hide>"
   ]
  },
  {
   "cell_type": "markdown",
   "metadata": {},
   "source": [
    "---"
   ]
  },
  {
   "cell_type": "markdown",
   "metadata": {},
   "source": [
    "**[풀이]**"
   ]
  },
  {
   "cell_type": "code",
   "execution_count": 1,
   "metadata": {},
   "outputs": [
    {
     "name": "stdout",
     "output_type": "stream",
     "text": [
      "1 10 20 30 40 50\n",
      "['50', '10', '20', '30', '40']\n",
      "4 가 나 다 라 마 바 사\n",
      "['라', '마', '바', '사', '가', '나', '다']\n",
      "8 가 나 다 라 마 바 사\n",
      "['사', '가', '나', '다', '라', '마', '바']\n",
      "0 똘기 떵이 호치 새초미\n",
      "['똘기', '떵이', '호치', '새초미']\n"
     ]
    }
   ],
   "source": [
    "def list_rot():\n",
    "    lst = input().split()\n",
    "\n",
    "    # 첫 번째 값 저장 후 제거 (반대부호로 적용하여 index로 사용: minus index)\n",
    "    str_idx = - int( int(lst[0]) % (len(lst)-1) )\n",
    "    lst.pop(0)\n",
    "\n",
    "    # minus index의 plus index를 계산\n",
    "    end_idx = lst.index(lst[str_idx]) # len(lst) + str_idx\n",
    "\n",
    "    # 출력\n",
    "    print(lst[str_idx:] + lst[:end_idx])\n",
    "\n",
    "for i in range(0,4): list_rot()"
   ]
  },
  {
   "cell_type": "markdown",
   "metadata": {},
   "source": [
    "입력 첫 번째 값이 양수면 출력은 그 값만큼 뒤에서의 index로, 음수면 그 값에서 1을 더한만큼 앞에서의 index로 시작한다.\n",
    "\n",
    "예를 들어, 2인 경우 -2부터 시작하고 -2인 경우 3부터 시작한다.\n",
    "\n",
    "어처피 출력에선 첫 번째 값이 필요 없으므로 지워주어 양수건 음수건 반대부호로 설정하면 시작 index를 찾을 수 있다.\n",
    "\n",
    "회전 수가 원래 길이를 초과할 수 있으므로 index는 원래 길이로 나누었을 때 나머지로 계산한다.\n",
    "\n",
    "위 과정이 끝난 후 출력은 슬라이싱으로 완성하였다."
   ]
  },
  {
   "cell_type": "markdown",
   "metadata": {},
   "source": [
    "---"
   ]
  },
  {
   "cell_type": "markdown",
   "metadata": {},
   "source": [
    "**[추천 풀이]**"
   ]
  },
  {
   "cell_type": "code",
   "execution_count": 2,
   "metadata": {
    "scrolled": true
   },
   "outputs": [
    {
     "name": "stdout",
     "output_type": "stream",
     "text": [
      "회전수와 문자열을 입력하세요. : 8 가 나 다 라 마 바 사\n",
      "사 가 나 다 라 마 바\n"
     ]
    }
   ],
   "source": [
    "data = input('회전수와 문자열을 입력하세요. : ').split()\n",
    "rn = int(data.pop(0)) % len(data)\n",
    "print(' '.join([(data*3)[len(data) + i - rn] for i in range(len(data))]))"
   ]
  },
  {
   "cell_type": "markdown",
   "metadata": {},
   "source": [
    "이분이 구한 rn이 내가 구한 str_idx와 같은데 리스트에서 `pop()`으로 index를 넣으면 그 값이 반환된다. \n",
    "\n",
    "뒤의 `len()`도 하나의 값이 제거된 길이를 구하므로 내가 작성한 코드보다 간결하다.\n",
    "\n",
    "이 후 내가 슬라이싱을 사용했다면 이 분은 인덱싱 후 `join()`을 사용하였다.\n",
    "\n",
    "(인덱싱을 위해서 리스트를 연장시켜두었다.)"
   ]
  }
 ],
 "metadata": {
  "interpreter": {
   "hash": "63fd5069d213b44bf678585dea6b12cceca9941eaf7f819626cde1f2670de90d"
  },
  "kernelspec": {
   "display_name": "Python 3",
   "language": "python",
   "name": "python3"
  },
  "language_info": {
   "codemirror_mode": {
    "name": "ipython",
    "version": 3
   },
   "file_extension": ".py",
   "mimetype": "text/x-python",
   "name": "python",
   "nbconvert_exporter": "python",
   "pygments_lexer": "ipython3",
   "version": "3.8.5"
  },
  "toc": {
   "base_numbering": 1,
   "nav_menu": {},
   "number_sections": false,
   "sideBar": true,
   "skip_h1_title": false,
   "title_cell": "Table of Contents",
   "title_sidebar": "Contents",
   "toc_cell": false,
   "toc_position": {
    "height": "calc(100% - 180px)",
    "left": "10px",
    "top": "150px",
    "width": "259.422px"
   },
   "toc_section_display": true,
   "toc_window_display": true
  }
 },
 "nbformat": 4,
 "nbformat_minor": 4
}
