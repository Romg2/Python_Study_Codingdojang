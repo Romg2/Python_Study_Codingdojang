{
 "cells": [
  {
   "cell_type": "markdown",
   "metadata": {},
   "source": [
    "**코딩 도장** 사이트의 문제를 직접 풀어본 내용을 정리하여 올립니다.\n",
    "\n",
    "[코딩 도장](https://codingdojang.com/)에서 여러 문제를 확인할 수 있습니다.\n",
    "\n",
    "난이도 순으로 차근차근 풀어보려 합니다."
   ]
  },
  {
   "cell_type": "markdown",
   "metadata": {},
   "source": [
    "---"
   ]
  },
  {
   "cell_type": "markdown",
   "metadata": {},
   "source": [
    "**[문제: 넥슨 입사문제] - Lv.1**"
   ]
  },
  {
   "cell_type": "markdown",
   "metadata": {},
   "source": [
    "어떤 자연수 n이 있을 때, d(n)을 n의 각 자릿수 숫자들과 n 자신을 더한 숫자라고 정의하자.\n",
    "\n",
    "예를 들어\n",
    "\n",
    "```\n",
    "d(91) = 9 + 1 + 91 = 101\n",
    "```\n",
    "\n",
    "이 때, n을 d(n)의 제네레이터(generator)라고 한다. 위의 예에서 91은 101의 제네레이터이다.\n",
    "\n",
    "어떤 숫자들은 하나 이상의 제네레이터를 가지고 있는데, 101의 제네레이터는 91 뿐 아니라 100도 있다. \n",
    "\n",
    "그런데 반대로, 제네레이터가 없는 숫자들도 있으며, 이런 숫자를 인도의 수학자 Kaprekar가 셀프 넘버(self-number)라 이름 붙였다. \n",
    "\n",
    "예를 들어 1,3,5,7,9,20,31 은 셀프 넘버 들이다.\n",
    "\n",
    "1 이상이고 5000 보다 작은 모든 셀프 넘버들의 합을 구하라.\n",
    "\n",
    "출처: <https://codingdojang.com/scode/365?answer_mode=hide>"
   ]
  },
  {
   "cell_type": "markdown",
   "metadata": {},
   "source": [
    "---"
   ]
  },
  {
   "cell_type": "markdown",
   "metadata": {},
   "source": [
    "**[풀이]**"
   ]
  },
  {
   "cell_type": "code",
   "execution_count": 1,
   "metadata": {
    "scrolled": true
   },
   "outputs": [
    {
     "name": "stdout",
     "output_type": "stream",
     "text": [
      "1227365\n"
     ]
    }
   ],
   "source": [
    "def d(n):\n",
    "    return n + sum([int(i) for i in str(n)])\n",
    "\n",
    "a = {i:[] for i in range(1, 5001)}\n",
    "\n",
    "for n in range(2, 5001):\n",
    "    for i in range(1, n):\n",
    "        if d(i) == n:\n",
    "            a[n].append(i)\n",
    "\n",
    "lst = []\n",
    "for i in a.keys():\n",
    "    if sum(a[i]) == 0:\n",
    "        lst.append(i)\n",
    "        \n",
    "print(sum(lst))"
   ]
  },
  {
   "cell_type": "markdown",
   "metadata": {},
   "source": [
    "우선 d(n)을 정의하였고 제너레이터 n은 d(n)보다 클 수 없다.\n",
    "\n",
    "즉, d(n)이 5이면 n은 5보다는 작아야 하므로 이를 이용해서 2부터 5000까지 각 숫자의 제너레이터를 구하였다.\n",
    "\n",
    "각 숫자를 dictionary의 key로, 각 숫자의 제너레이터를 value로 생성하여 value의 합이 0인 self-number 리스트를 만들었다.\n",
    "\n",
    "다만 이 방법은 반복이 너무 많아 수행 시간이 오래걸린다."
   ]
  },
  {
   "cell_type": "markdown",
   "metadata": {},
   "source": [
    "---"
   ]
  },
  {
   "cell_type": "markdown",
   "metadata": {},
   "source": [
    "**[추천 풀이]**"
   ]
  },
  {
   "cell_type": "code",
   "execution_count": 2,
   "metadata": {},
   "outputs": [
    {
     "data": {
      "text/plain": [
       "1227365"
      ]
     },
     "execution_count": 2,
     "metadata": {},
     "output_type": "execute_result"
    }
   ],
   "source": [
    "sum(set(range(1, 5000)) - {x + sum([int(a) for a in str(x)]) for x in range(1, 5000)})"
   ]
  },
  {
   "cell_type": "markdown",
   "metadata": {},
   "source": [
    "이 풀이를 보고 느낀 것이 n < d(n) 임을 알았는데 왜 굳이 복잡하게 풀었나 싶다.\n",
    "\n",
    "1부터 4999까지의 n과 d(n)을 생성해서 차집합으로 간단하게 풀어버렸다.\n",
    "\n",
    "물론 내가 푼 방식은 각 숫자의 제너레이터가 무엇인지도 알 수 있지만 문제의 요점이 그게 아닌데 비효율적으로 구했다."
   ]
  }
 ],
 "metadata": {
  "interpreter": {
   "hash": "63fd5069d213b44bf678585dea6b12cceca9941eaf7f819626cde1f2670de90d"
  },
  "kernelspec": {
   "display_name": "Python 3",
   "language": "python",
   "name": "python3"
  },
  "language_info": {
   "codemirror_mode": {
    "name": "ipython",
    "version": 3
   },
   "file_extension": ".py",
   "mimetype": "text/x-python",
   "name": "python",
   "nbconvert_exporter": "python",
   "pygments_lexer": "ipython3",
   "version": "3.8.5"
  },
  "toc": {
   "base_numbering": 1,
   "nav_menu": {},
   "number_sections": false,
   "sideBar": true,
   "skip_h1_title": false,
   "title_cell": "Table of Contents",
   "title_sidebar": "Contents",
   "toc_cell": false,
   "toc_position": {
    "height": "calc(100% - 180px)",
    "left": "10px",
    "top": "150px",
    "width": "259.422px"
   },
   "toc_section_display": true,
   "toc_window_display": true
  }
 },
 "nbformat": 4,
 "nbformat_minor": 4
}
