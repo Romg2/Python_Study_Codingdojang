{
 "cells": [
  {
   "cell_type": "markdown",
   "metadata": {},
   "source": [
    "**코딩 도장** 사이트의 문제를 직접 풀어본 내용을 정리하여 올립니다.\n",
    "\n",
    "[코딩 도장](https://codingdojang.com/)에서 여러 문제를 확인할 수 있습니다.\n",
    "\n",
    "난이도 순으로 차근차근 풀어보려 합니다."
   ]
  },
  {
   "cell_type": "markdown",
   "metadata": {},
   "source": [
    "---"
   ]
  },
  {
   "cell_type": "markdown",
   "metadata": {},
   "source": [
    "**[문제: 10진수를 n진수로 변환하기] - Lv.2**"
   ]
  },
  {
   "cell_type": "markdown",
   "metadata": {},
   "source": [
    "다음은 233 이란 10진수를 2진수로 변환하는 과정을 나타낸 그림이다.\n",
    "\n",
    "![](http://interactivepython.org/courselib/static/pythonds/_images/dectobin.png)\n",
    "\n",
    "위 그림을 참조하여 라이브러리를 사용하지 말고 10진수를 n진수로 변환하는 프로그램을 작성하시오.. (단, n의 범위는 2 <= n <= 16)\n",
    "\n",
    "예)\n",
    "\n",
    "- 2진수로 변환 : 233 --> 11101001\n",
    "\n",
    "\n",
    "- 8진수로 변환 : 233 --> 351\n",
    "\n",
    "\n",
    "- 16진수로 변환 : 233 --> E9\n",
    "\n",
    "출처: <https://codingdojang.com/scode/458?answer_mode=hide>"
   ]
  },
  {
   "cell_type": "markdown",
   "metadata": {},
   "source": [
    "---"
   ]
  },
  {
   "cell_type": "markdown",
   "metadata": {},
   "source": [
    "**[풀이]**"
   ]
  },
  {
   "cell_type": "code",
   "execution_count": 1,
   "metadata": {},
   "outputs": [
    {
     "name": "stdout",
     "output_type": "stream",
     "text": [
      "11101001\n",
      "351\n",
      "E9\n"
     ]
    }
   ],
   "source": [
    "def f(k,n):\n",
    "    a = []\n",
    "    while k >= n:\n",
    "        a.append(k % n)\n",
    "        k = k // n\n",
    "    a.append(k)\n",
    "\n",
    "    b = [\"A\", \"B\", \"C\", \"D\", \"E\"]\n",
    "\n",
    "    for i in range(len(a)):\n",
    "        idx = a[i] - 10\n",
    "        if idx >=0:\n",
    "            a[i] = b[idx]\n",
    "        else:\n",
    "            a[i] = str(a[i])\n",
    "\n",
    "    return print(\"\".join(a[::-1]))\n",
    "\n",
    "f(233,2)\n",
    "f(233,8)\n",
    "f(233,16)"
   ]
  },
  {
   "cell_type": "markdown",
   "metadata": {},
   "source": [
    "몫이 0이 될 때까지 나머지를 구하는게 중요하고 그 후 나머지를 역순으로 결합하였다.\n",
    "\n",
    "다만 10진수 이상은 나머지가 두 자리 이상이 될 수 있고 이 경우 알파벳으로 변환하여야 한다.\n",
    "\n",
    "난 A~E까지 리스트를 만들고 나머지 - 10을 인덱스로 사용해 값을 변환하였다."
   ]
  },
  {
   "cell_type": "markdown",
   "metadata": {},
   "source": [
    "**[추천 풀이]**"
   ]
  },
  {
   "cell_type": "code",
   "execution_count": 2,
   "metadata": {},
   "outputs": [
    {
     "name": "stdout",
     "output_type": "stream",
     "text": [
      "11101001\n",
      "351\n",
      "E9\n"
     ]
    }
   ],
   "source": [
    "def convert(n, base):\n",
    "    T = \"0123456789ABCDEF\"\n",
    "    q, r = divmod(n, base)\n",
    "    if q == 0:\n",
    "        return T[r]\n",
    "    else:\n",
    "        return convert(q, base) + T[r]\n",
    "\n",
    "\n",
    "print(convert(233, 2))\n",
    "print(convert(233, 8))\n",
    "print(convert(233, 16))"
   ]
  },
  {
   "cell_type": "markdown",
   "metadata": {},
   "source": [
    "이 분은 재귀 방식을 사용하였고 처음부터 T라는 값의 경우의 수를 전체로 만들어 두셨다.\n",
    "\n",
    "이를 이용해서 나머지를 인덱스로 사용해서 변환하는 방식을 사용했다."
   ]
  }
 ],
 "metadata": {
  "interpreter": {
   "hash": "63fd5069d213b44bf678585dea6b12cceca9941eaf7f819626cde1f2670de90d"
  },
  "kernelspec": {
   "display_name": "Python 3",
   "language": "python",
   "name": "python3"
  },
  "language_info": {
   "codemirror_mode": {
    "name": "ipython",
    "version": 3
   },
   "file_extension": ".py",
   "mimetype": "text/x-python",
   "name": "python",
   "nbconvert_exporter": "python",
   "pygments_lexer": "ipython3",
   "version": "3.8.5"
  },
  "toc": {
   "base_numbering": 1,
   "nav_menu": {},
   "number_sections": false,
   "sideBar": true,
   "skip_h1_title": false,
   "title_cell": "Table of Contents",
   "title_sidebar": "Contents",
   "toc_cell": false,
   "toc_position": {
    "height": "calc(100% - 180px)",
    "left": "10px",
    "top": "150px",
    "width": "259.422px"
   },
   "toc_section_display": true,
   "toc_window_display": true
  }
 },
 "nbformat": 4,
 "nbformat_minor": 4
}
