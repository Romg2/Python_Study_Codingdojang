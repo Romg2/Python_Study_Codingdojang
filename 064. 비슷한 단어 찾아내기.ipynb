{
 "cells": [
  {
   "cell_type": "markdown",
   "metadata": {},
   "source": [
    "**코딩 도장** 사이트의 문제를 직접 풀어본 내용을 정리하여 올립니다.\n",
    "\n",
    "[코딩 도장](https://codingdojang.com/)에서 여러 문제를 확인할 수 있습니다.\n",
    "\n",
    "난이도 순으로 차근차근 풀어보려 합니다."
   ]
  },
  {
   "cell_type": "markdown",
   "metadata": {},
   "source": [
    "---"
   ]
  },
  {
   "cell_type": "markdown",
   "metadata": {},
   "source": [
    "**[문제: 비슷한 단어 찾아내기] - Lv.2**"
   ]
  },
  {
   "cell_type": "markdown",
   "metadata": {},
   "source": [
    "아래와 같은 결과를 출력하는 function을 구현하라\n",
    "\n",
    "bool OneEditApart(string s1, string s2)\n",
    "\n",
    "```\n",
    "OneEditApart(\"cat\", \"dog\") = false\n",
    "OneEditApart(\"cat\", \"cats\") = true \n",
    "OneEditApart(\"cat\", \"cut\") = true \n",
    "OneEditApart(\"cat\", \"cast\") = true \n",
    "OneEditApart(\"cat\", \"at\") = true\n",
    "OneEditApart(\"cat\", \"acts\") = false \n",
    "```\n",
    "\n",
    "한개의 문자를 삽입, 제거, 변환을 했을때 s1, s2가 동일한지를 판별하는 OneEditApart 함수를 작성하시오.\n",
    "\n",
    "출처: <https://codingdojang.com/scode/445?answer_mode=hide>"
   ]
  },
  {
   "cell_type": "markdown",
   "metadata": {},
   "source": [
    "---"
   ]
  },
  {
   "cell_type": "markdown",
   "metadata": {},
   "source": [
    "**[풀이]**"
   ]
  },
  {
   "cell_type": "code",
   "execution_count": 1,
   "metadata": {
    "scrolled": false
   },
   "outputs": [
    {
     "name": "stdout",
     "output_type": "stream",
     "text": [
      "false\n",
      "true\n",
      "true\n",
      "true\n",
      "true\n",
      "false\n"
     ]
    }
   ],
   "source": [
    "def OneEditApart(s1,s2):\n",
    "    l1 = len(s1)\n",
    "    l2 = len(s2)\n",
    "           \n",
    "    # 길이가 다를 때 제거 (삽입과 동일)\n",
    "    if l1 != l2:\n",
    "        if max(l1,l2) == l1:\n",
    "            s1, s2 = s2, s1\n",
    "        answer = sum([s2.replace(s2[i],\"\") == s1 for i in range(l2)])\n",
    "    # 길이가 같을 때 변환\n",
    "    else:\n",
    "        answer = l1 - sum([s1[i] == s2[i] for i in range(l1)])\n",
    "        if s1 == s2:\n",
    "            answer = 1\n",
    "\n",
    "    if answer == 1:\n",
    "        return \"true\"\n",
    "    else:\n",
    "        return \"false\"\n",
    "\n",
    "print(OneEditApart(\"cat\", \"dog\"))\n",
    "print(OneEditApart(\"cat\", \"cats\"))\n",
    "print(OneEditApart(\"cat\", \"cut\"))\n",
    "print(OneEditApart(\"cat\", \"cast\"))\n",
    "print(OneEditApart(\"cat\", \"at\"))\n",
    "print(OneEditApart(\"cat\", \"acts\"))"
   ]
  },
  {
   "cell_type": "markdown",
   "metadata": {},
   "source": [
    "길이가 다른 경우에 `max(l1,l2) == l1` 조건으로 `s1, s2 = s2, s1`를 설정하였다.\n",
    "\n",
    "이렇게 되면 무조건 s2가 더 큰 길이가 될 것이다.\n",
    "\n",
    "`[s2.replace(s2[i],\"\") == s1 for i in range(l2)]`으로 한 개 문자 제거시 s1과 같으면 true를 생성한다.\n",
    "\n",
    "이를 `sum()`하면 s1과 같은 경우가 있으면 1 아닐 경우 무조건 0이다.\n",
    "\n",
    "길이가 같은 경우에는 처음부터 두 문자가 같거나 한 개만 달라야 변환으로 동일하게 만들 수 있다.\n",
    "\n",
    "`l1 - sum([s1[i] == s2[i] for i in range(l1)])`으로 1 또는 0이 나오면 동일하게 만들 수 있는 경우이다.\n",
    "\n",
    "0인 경우는 1로 바꿔서 최종적으론 1이면 true, 0이면 false로 반환하였다."
   ]
  },
  {
   "cell_type": "markdown",
   "metadata": {},
   "source": [
    "---"
   ]
  },
  {
   "cell_type": "markdown",
   "metadata": {},
   "source": [
    "**[추천 풀이]**"
   ]
  },
  {
   "cell_type": "code",
   "execution_count": 2,
   "metadata": {},
   "outputs": [
    {
     "name": "stdout",
     "output_type": "stream",
     "text": [
      "False\n",
      "True\n",
      "True\n",
      "True\n",
      "True\n",
      "False\n"
     ]
    }
   ],
   "source": [
    "def checkRemoval(s1, s2):\n",
    "    for i in range(len(s1)):\n",
    "        t = s1[:i]+s1[i+1:]\n",
    "        if s2==t: return True\n",
    "    return False\n",
    "\n",
    "def checkReplace(s1, s2):\n",
    "    for i in range(len(s1)):\n",
    "        t1 = s1[:i]+s1[i+1:]\n",
    "        t2 = s2[:i]+s2[i+1:]\n",
    "        if t1==t2: return True\n",
    "    return False\n",
    "\n",
    "def OneEditApart(s1, s2):\n",
    "    if len(s1) > len(s2):\n",
    "        return checkRemoval(s1, s2)\n",
    "    elif len(s1) < len(s2):\n",
    "        return checkRemoval(s2, s1)\n",
    "    else:\n",
    "        return checkReplace(s1, s2)\n",
    "\n",
    "\n",
    "print(OneEditApart(\"cat\", \"dog\"))\n",
    "print(OneEditApart(\"cat\", \"cats\"))\n",
    "print(OneEditApart(\"cat\", \"cut\"))\n",
    "print(OneEditApart(\"cat\", \"cast\"))\n",
    "print(OneEditApart(\"cat\", \"at\"))\n",
    "print(OneEditApart(\"cat\", \"acts\"))"
   ]
  },
  {
   "cell_type": "markdown",
   "metadata": {},
   "source": [
    "이 분은 두 문자열의 길이가 다른 경우는 큰 문자열에서 하나씩 문자를 제거 해 보았을 때 같은지 체크하였다.\n",
    "\n",
    "두 문자열의 길이가 같은 경우에는 한 개의 문자를 제외한 나머지 문자열이 같은지 체크한 방식이다."
   ]
  }
 ],
 "metadata": {
  "interpreter": {
   "hash": "63fd5069d213b44bf678585dea6b12cceca9941eaf7f819626cde1f2670de90d"
  },
  "kernelspec": {
   "display_name": "Python 3",
   "language": "python",
   "name": "python3"
  },
  "language_info": {
   "codemirror_mode": {
    "name": "ipython",
    "version": 3
   },
   "file_extension": ".py",
   "mimetype": "text/x-python",
   "name": "python",
   "nbconvert_exporter": "python",
   "pygments_lexer": "ipython3",
   "version": "3.8.5"
  },
  "toc": {
   "base_numbering": 1,
   "nav_menu": {},
   "number_sections": false,
   "sideBar": true,
   "skip_h1_title": false,
   "title_cell": "Table of Contents",
   "title_sidebar": "Contents",
   "toc_cell": false,
   "toc_position": {
    "height": "calc(100% - 180px)",
    "left": "10px",
    "top": "150px",
    "width": "259.422px"
   },
   "toc_section_display": true,
   "toc_window_display": true
  }
 },
 "nbformat": 4,
 "nbformat_minor": 4
}
