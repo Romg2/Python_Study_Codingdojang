{
 "cells": [
  {
   "cell_type": "markdown",
   "metadata": {},
   "source": [
    "**코딩 도장** 사이트의 문제를 직접 풀어본 내용을 정리하여 올립니다.\n",
    "\n",
    "[코딩 도장](https://codingdojang.com/)에서 여러 문제를 확인할 수 있습니다.\n",
    "\n",
    "난이도 순으로 차근차근 풀어보려 합니다."
   ]
  },
  {
   "cell_type": "markdown",
   "metadata": {},
   "source": [
    "---"
   ]
  },
  {
   "cell_type": "markdown",
   "metadata": {},
   "source": [
    "**[문제: 이차방정식] - Lv.1**"
   ]
  },
  {
   "cell_type": "markdown",
   "metadata": {},
   "source": [
    "A씨는 학교숙제로 이차방정식 문제를 풀어야 한다. \n",
    "\n",
    "하지만 시간이 얼마 없다. \n",
    "\n",
    "이 A씨를 도와주기 위한 이차방정식 풀이 프로그램을 작성해라.\n",
    "\n",
    "단, 이차방정식은 ax^2 + bx + c = 0의 꼴에서 a, b와 c를 입력받아 해를 구하고 해를 구하기 위해 근의 공식을 사용해야 한다. \n",
    "\n",
    "또, 해는 정수로 반올림한 값을 구하고 해가 없거나 여러개인 경우도 모두 구해야 한다.\n",
    "\n",
    "출처: <https://codingdojang.com/scode/577?answer_mode=hide>"
   ]
  },
  {
   "cell_type": "markdown",
   "metadata": {},
   "source": [
    "---"
   ]
  },
  {
   "cell_type": "markdown",
   "metadata": {},
   "source": [
    "**[풀이]**"
   ]
  },
  {
   "cell_type": "code",
   "execution_count": 1,
   "metadata": {
    "scrolled": false
   },
   "outputs": [
    {
     "name": "stdout",
     "output_type": "stream",
     "text": [
      "-3 -4\n",
      "1\n",
      "해가 없습니다.\n",
      "a는 0이 아닌 수를 입력하세요.\n"
     ]
    }
   ],
   "source": [
    "import math\n",
    "\n",
    "class quadratic_error(Exception):\n",
    "    pass\n",
    "\n",
    "def solution(a,b,c):    \n",
    "    try:\n",
    "        # a가 0 인 경우\n",
    "        if a == 0:\n",
    "            raise quadratic_error\n",
    "            \n",
    "        # 해가 2개인 경우\n",
    "        if b**2 - 4*a*c > 0:\n",
    "            x1 = (-b + math.sqrt(b**2 - 4*a*c)) / 2*a\n",
    "            x2 = (-b - math.sqrt(b**2 - 4*a*c)) / 2*a\n",
    "            print( round(x1), round(x2))\n",
    "        \n",
    "        # 해가 1개인 경우\n",
    "        elif b**2 - 4*a*c == 0:\n",
    "            x1 = (-b + math.sqrt(b**2 - 4*a*c)) / 2*a\n",
    "            print(round(x1))\n",
    "        \n",
    "        # 해가 없는 경우\n",
    "        elif b**2 - 4*a*c < 0:\n",
    "            raise ValueError\n",
    "    except ValueError:\n",
    "        print(\"해가 없습니다.\")\n",
    "    except quadratic_error:\n",
    "        print(\"a는 0이 아닌 수를 입력하세요.\")\n",
    "    \n",
    "solution(1,7,12)\n",
    "solution(1,-2,1)\n",
    "solution(2,3,12)\n",
    "solution(0,3,12)"
   ]
  },
  {
   "cell_type": "markdown",
   "metadata": {},
   "source": [
    " 해는 근의 공식으로 간단하게 구할 수 있다.\n",
    " \n",
    " `try`, `except`를 이용해서 해가 없는 경우와 이차 방정식이 아닌 경우 메시지를 출력하는 방법으로 코드를 짰다.\n",
    " \n",
    " a,b,c가 숫자가 아닌 경우 예외 처리도 작성하려다가 어처피 에러가 발생하니 그냥 두었다."
   ]
  },
  {
   "cell_type": "markdown",
   "metadata": {},
   "source": [
    "---"
   ]
  },
  {
   "cell_type": "markdown",
   "metadata": {},
   "source": [
    "**[추천 풀이]**"
   ]
  },
  {
   "cell_type": "code",
   "execution_count": 2,
   "metadata": {},
   "outputs": [
    {
     "name": "stdout",
     "output_type": "stream",
     "text": [
      "a를 입력해 주세요.0\n",
      "b를 입력해 주세요.7\n",
      "c를 입력해 주세요.12\n",
      "x = 0 , 0\n"
     ]
    }
   ],
   "source": [
    "def fun(a,b,c):\n",
    "    D=b*b-4*a*c\n",
    "    if D>0:\n",
    "        x1=round((-b-D**0.5)/2*a)\n",
    "        x2=round((-b+D**0.5)/2*a)\n",
    "        print(\"x\",\"=\",x1,\",\",x2)\n",
    "    elif D==0:\n",
    "        x=round(-b/2*a)\n",
    "        print(\"중근입니다\")\n",
    "        print(\"x\",\"=\",x)\n",
    "    else:\n",
    "        print(\"허근입니다\")\n",
    "a=int(input(\"a를 입력해 주세요.\"))\n",
    "b=int(input(\"b를 입력해 주세요.\"))\n",
    "c=int(input(\"c를 입력해 주세요.\"))\n",
    "fun(a,b,c)"
   ]
  },
  {
   "cell_type": "markdown",
   "metadata": {},
   "source": [
    "다른 분이 푸신 풀이 중 추천 수가 많은 풀이이다.\n",
    "\n",
    "풀이는 거의 비슷한데 예외 처리 사용 유무의 차이만 있다.\n",
    "\n",
    "이 분 코드로는 a가 0인 경우는 답이 안나오는데 문제가 이차 방정식인데 고려하기 애매하기도 하고..\n",
    "\n",
    "그리고 나는 `math`의 `sqrt()`를 사용했는데 위 코드처럼 최대한 패키지를 안쓰는 게 좋아보이긴 한다."
   ]
  }
 ],
 "metadata": {
  "interpreter": {
   "hash": "63fd5069d213b44bf678585dea6b12cceca9941eaf7f819626cde1f2670de90d"
  },
  "kernelspec": {
   "display_name": "Python 3",
   "language": "python",
   "name": "python3"
  },
  "language_info": {
   "codemirror_mode": {
    "name": "ipython",
    "version": 3
   },
   "file_extension": ".py",
   "mimetype": "text/x-python",
   "name": "python",
   "nbconvert_exporter": "python",
   "pygments_lexer": "ipython3",
   "version": "3.8.5"
  },
  "toc": {
   "base_numbering": 1,
   "nav_menu": {},
   "number_sections": false,
   "sideBar": true,
   "skip_h1_title": false,
   "title_cell": "Table of Contents",
   "title_sidebar": "Contents",
   "toc_cell": false,
   "toc_position": {},
   "toc_section_display": true,
   "toc_window_display": true
  }
 },
 "nbformat": 4,
 "nbformat_minor": 4
}
