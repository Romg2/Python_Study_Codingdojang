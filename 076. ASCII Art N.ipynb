{
 "cells": [
  {
   "cell_type": "markdown",
   "metadata": {},
   "source": [
    "**코딩 도장** 사이트의 문제를 직접 풀어본 내용을 정리하여 올립니다.\n",
    "\n",
    "[코딩 도장](https://codingdojang.com/)에서 여러 문제를 확인할 수 있습니다.\n",
    "\n",
    "난이도 순으로 차근차근 풀어보려 합니다."
   ]
  },
  {
   "cell_type": "markdown",
   "metadata": {},
   "source": [
    "---"
   ]
  },
  {
   "cell_type": "markdown",
   "metadata": {},
   "source": [
    "**[문제: ASCII Art N] - Lv.2**"
   ]
  },
  {
   "cell_type": "markdown",
   "metadata": {},
   "source": [
    "Write a program that lets the user enter in an odd positive integer (you may assume the input is always valid), and prints out an ASCII art letter N made using the character N.\n",
    "\n",
    "If the input is 1, the output is:\n",
    "\n",
    "```\n",
    "N\n",
    "```\n",
    "\n",
    "If the input is 3, the output is:\n",
    "\n",
    "```\n",
    "N N\n",
    "NNN\n",
    "N N\n",
    "```\n",
    "\n",
    "If the input is 5, the output is:\n",
    "\n",
    "```\n",
    "N   N\n",
    "NN  N\n",
    "N N N\n",
    "N  NN\n",
    "N   N\n",
    "```\n",
    "\n",
    "If the input is 7, the output is:\n",
    "\n",
    "```\n",
    "N     N\n",
    "NN    N\n",
    "N N   N\n",
    "N  N  N\n",
    "N   N N\n",
    "N    NN\n",
    "N     N\n",
    "```\n",
    "\n",
    "The pattern continues on like this. The output may contain trailing spaces.\n",
    "\n",
    "출처: <https://codingdojang.com/scode/480?answer_mode=hide>"
   ]
  },
  {
   "cell_type": "markdown",
   "metadata": {},
   "source": [
    "---"
   ]
  },
  {
   "cell_type": "markdown",
   "metadata": {},
   "source": [
    "**[풀이]**"
   ]
  },
  {
   "cell_type": "code",
   "execution_count": 1,
   "metadata": {},
   "outputs": [],
   "source": [
    "def ASCII_Art_N(n):\n",
    "    for i in range(n):\n",
    "        a = [\" \"]*n\n",
    "        a[0]=\"N\" ; a[-1]=\"N\" ; a[i] = \"N\"\n",
    "        print(\"\".join(a))\n",
    "        \n",
    "ASCII_Art_N(1)"
   ]
  },
  {
   "cell_type": "code",
   "execution_count": 2,
   "metadata": {},
   "outputs": [
    {
     "name": "stdout",
     "output_type": "stream",
     "text": [
      "N N\n",
      "NNN\n",
      "N N\n"
     ]
    }
   ],
   "source": [
    "ASCII_Art_N(3)"
   ]
  },
  {
   "cell_type": "code",
   "execution_count": 3,
   "metadata": {},
   "outputs": [
    {
     "name": "stdout",
     "output_type": "stream",
     "text": [
      "N   N\n",
      "NN  N\n",
      "N N N\n",
      "N  NN\n",
      "N   N\n"
     ]
    }
   ],
   "source": [
    "ASCII_Art_N(5)"
   ]
  },
  {
   "cell_type": "code",
   "execution_count": 4,
   "metadata": {},
   "outputs": [
    {
     "name": "stdout",
     "output_type": "stream",
     "text": [
      "N     N\n",
      "NN    N\n",
      "N N   N\n",
      "N  N  N\n",
      "N   N N\n",
      "N    NN\n",
      "N     N\n"
     ]
    }
   ],
   "source": [
    "ASCII_Art_N(7)"
   ]
  },
  {
   "cell_type": "markdown",
   "metadata": {},
   "source": [
    "우선 입력한 n 길이의 공백 값을 가지는 리스트를 만들어 양쪽 끝을 N으로 변환한다.\n",
    "\n",
    "그 후 첫 번째 부터 N으로 변환해 출력하는 방식을 사용하였다.\n",
    "\n",
    "N이 1인 경우도 같은 로직으로 출력이 가능하다."
   ]
  },
  {
   "cell_type": "markdown",
   "metadata": {},
   "source": [
    "**[추천 풀이]**"
   ]
  },
  {
   "cell_type": "code",
   "execution_count": 5,
   "metadata": {},
   "outputs": [
    {
     "name": "stdout",
     "output_type": "stream",
     "text": [
      "N   N\n",
      "NN  N\n",
      "N N N\n",
      "N  NN\n",
      "N   N\n"
     ]
    }
   ],
   "source": [
    "def NN(n):\n",
    "    for i in range(n):\n",
    "        print(''.join([\"N\" if j in [0,i,n-1] else \" \" for j in range(n)]))\n",
    "NN(5)"
   ]
  },
  {
   "cell_type": "markdown",
   "metadata": {},
   "source": [
    "이 분도 리스트를 `join()`해서 출력하는 방식은 동일하지만 리스트 생성 방법에 if 문을 사용하였다."
   ]
  }
 ],
 "metadata": {
  "interpreter": {
   "hash": "63fd5069d213b44bf678585dea6b12cceca9941eaf7f819626cde1f2670de90d"
  },
  "kernelspec": {
   "display_name": "Python 3",
   "language": "python",
   "name": "python3"
  },
  "language_info": {
   "codemirror_mode": {
    "name": "ipython",
    "version": 3
   },
   "file_extension": ".py",
   "mimetype": "text/x-python",
   "name": "python",
   "nbconvert_exporter": "python",
   "pygments_lexer": "ipython3",
   "version": "3.8.5"
  },
  "toc": {
   "base_numbering": 1,
   "nav_menu": {},
   "number_sections": false,
   "sideBar": true,
   "skip_h1_title": false,
   "title_cell": "Table of Contents",
   "title_sidebar": "Contents",
   "toc_cell": false,
   "toc_position": {
    "height": "calc(100% - 180px)",
    "left": "10px",
    "top": "150px",
    "width": "259.413px"
   },
   "toc_section_display": true,
   "toc_window_display": true
  }
 },
 "nbformat": 4,
 "nbformat_minor": 4
}
