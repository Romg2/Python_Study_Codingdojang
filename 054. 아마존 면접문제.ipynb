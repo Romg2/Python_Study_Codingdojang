{
 "cells": [
  {
   "cell_type": "markdown",
   "metadata": {},
   "source": [
    "**코딩 도장** 사이트의 문제를 직접 풀어본 내용을 정리하여 올립니다.\n",
    "\n",
    "[코딩 도장](https://codingdojang.com/)에서 여러 문제를 확인할 수 있습니다.\n",
    "\n",
    "난이도 순으로 차근차근 풀어보려 합니다."
   ]
  },
  {
   "cell_type": "markdown",
   "metadata": {},
   "source": [
    "---"
   ]
  },
  {
   "cell_type": "markdown",
   "metadata": {},
   "source": [
    "**[문제: 아마존 면접문제] - Lv.2**"
   ]
  },
  {
   "cell_type": "markdown",
   "metadata": {},
   "source": [
    "**그 시간 사무실에 몇 명이 있었는가?**\n",
    "\n",
    "A사무실에는 특정일자의 출퇴근 시간이 기록된 거대한 로그파일이 있다고 한다.\n",
    "\n",
    "파일의 형식은 다음과 같다. (한 라인에서 앞부분은 출근시간(HH:MM:SS), 뒷부분은 퇴근시간이다)\n",
    "\n",
    "```\n",
    "09:12:23 11:14:35\n",
    "10:34:01 13:23:40\n",
    "10:34:31 11:20:10\n",
    "```\n",
    "\n",
    "특정시간을 입력(예:11:05:20)으로 주었을 때 그 시간에 총 몇 명이 사무실에 있었는지 알려주는 함수를 작성하시오.\n",
    "\n",
    "출처: <https://codingdojang.com/scode/418?answer_mode=hide>"
   ]
  },
  {
   "cell_type": "markdown",
   "metadata": {},
   "source": [
    "---"
   ]
  },
  {
   "cell_type": "markdown",
   "metadata": {},
   "source": [
    "**[풀이]**"
   ]
  },
  {
   "cell_type": "code",
   "execution_count": 1,
   "metadata": {},
   "outputs": [
    {
     "name": "stdout",
     "output_type": "stream",
     "text": [
      "09:50:00\n"
     ]
    },
    {
     "data": {
      "text/plain": [
       "1"
      ]
     },
     "execution_count": 1,
     "metadata": {},
     "output_type": "execute_result"
    }
   ],
   "source": [
    "import datetime as dt\n",
    "\n",
    "logs = [['09:12:23', '11:14:35'], \n",
    "        ['10:34:01', '13:23:40'], \n",
    "        ['10:34:31', '11:20:10']]\n",
    "\n",
    "def f():\n",
    "    temp = dt.datetime.today()\n",
    "    i = list(map(int, input().split(\":\")))\n",
    "    input_time = temp.replace(hour=i[0], minute=i[1], second=i[2])\n",
    "    cnt = 0\n",
    "    \n",
    "    for log in logs:\n",
    "        s = list(map(int, log[0].split(\":\")))\n",
    "        e = list(map(int, log[1].split(\":\")))\n",
    "\n",
    "        start_time = temp.replace(hour=s[0], minute=s[1], second=s[2])\n",
    "        end_time = temp.replace(hour=e[0], minute=e[1], second=e[2])\n",
    "\n",
    "        d1 = (input_time - start_time).total_seconds()\n",
    "        d2 = (end_time - input_time).total_seconds()\n",
    "\n",
    "        if (d1 > 0) & (d2 > 0):\n",
    "            cnt += 1\n",
    "            \n",
    "    return cnt\n",
    "f()"
   ]
  },
  {
   "cell_type": "markdown",
   "metadata": {},
   "source": [
    "출퇴근 시간 로그파일의 형식이 정해져 있지 않아서 리스트 형태로 만들어 두었다.\n",
    "\n",
    "만약 (입력시간 - 출근시간), (퇴근시간 - 입력시간)이 모두 양수면 남아있는 사람일 것이다.\n",
    "\n",
    "`datetime` 패키지를 이용해서 `datetime.timedelta()`로 그 차이를 계산하였다.\n",
    "\n",
    "패키지를 사용 못한다면 [코딩도장 - 남은퇴근시간 계산기](https://romg2.github.io/codingdj/01_%EC%BD%94%EB%94%A9-%EB%8F%84%EC%9E%A5-037.-%EB%82%A8%EC%9D%80%ED%87%B4%EA%B7%BC%EC%8B%9C%EA%B0%84-%EA%B3%84%EC%82%B0%EA%B8%B0/) 풀이처럼 직접 단위를 변경 시키면 될 듯 하다."
   ]
  },
  {
   "cell_type": "markdown",
   "metadata": {},
   "source": [
    "---"
   ]
  },
  {
   "cell_type": "markdown",
   "metadata": {},
   "source": [
    "**[추천 풀이]**"
   ]
  },
  {
   "cell_type": "code",
   "execution_count": 2,
   "metadata": {
    "scrolled": true
   },
   "outputs": [
    {
     "name": "stdout",
     "output_type": "stream",
     "text": [
      "09:50:00 1\n"
     ]
    }
   ],
   "source": [
    "timesheet = [0]*24*60*60\n",
    "manysheet = [0]*24*60*60\n",
    "\n",
    "def time2sec(t):\n",
    "    h, m, s = map(int, t.split(\":\"))\n",
    "    return h*60*60+m*60+s\n",
    "\n",
    "def load(inputs):\n",
    "    for input in inputs:\n",
    "        s, e = input.split(' ')\n",
    "        s = time2sec(s)\n",
    "        e = time2sec(e)\n",
    "        timesheet[s] += 1\n",
    "        timesheet[e] -= 1\n",
    "\n",
    "    manysheet[0] = timesheet[0]\n",
    "    for i in range(1, 24*60*60):\n",
    "        manysheet[i] = manysheet[i-1] + timesheet[i]\n",
    "\n",
    "def howmany(time):\n",
    "    sec = time2sec(time)\n",
    "    print(time, manysheet[sec])\n",
    "\n",
    "input = [\n",
    "'09:12:23 11:14:35',\n",
    "'10:34:01 13:23:40',\n",
    "'10:34:31 11:20:10'\n",
    "]\n",
    "\n",
    "if __name__ == \"__main__\":\n",
    "    load(input)\n",
    "    howmany('09:50:00')"
   ]
  },
  {
   "cell_type": "markdown",
   "metadata": {},
   "source": [
    "24시간을 초 단위 인덱스로 만든 후 초 단위로 몇 명이 있는지 누적합 형태로 나타낸 것 같다.\n",
    "\n",
    "솔직히 효율적인 방법인지는 판단이 안서는데 이런 아이디어를 생각한 것이 대단해 보인다."
   ]
  }
 ],
 "metadata": {
  "interpreter": {
   "hash": "63fd5069d213b44bf678585dea6b12cceca9941eaf7f819626cde1f2670de90d"
  },
  "kernelspec": {
   "display_name": "Python 3",
   "language": "python",
   "name": "python3"
  },
  "language_info": {
   "codemirror_mode": {
    "name": "ipython",
    "version": 3
   },
   "file_extension": ".py",
   "mimetype": "text/x-python",
   "name": "python",
   "nbconvert_exporter": "python",
   "pygments_lexer": "ipython3",
   "version": "3.8.5"
  },
  "toc": {
   "base_numbering": 1,
   "nav_menu": {},
   "number_sections": false,
   "sideBar": true,
   "skip_h1_title": false,
   "title_cell": "Table of Contents",
   "title_sidebar": "Contents",
   "toc_cell": false,
   "toc_position": {
    "height": "calc(100% - 180px)",
    "left": "10px",
    "top": "150px",
    "width": "259.422px"
   },
   "toc_section_display": true,
   "toc_window_display": true
  }
 },
 "nbformat": 4,
 "nbformat_minor": 4
}
