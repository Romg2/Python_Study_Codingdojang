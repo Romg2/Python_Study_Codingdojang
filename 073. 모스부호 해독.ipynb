{
 "cells": [
  {
   "cell_type": "markdown",
   "metadata": {},
   "source": [
    "**코딩 도장** 사이트의 문제를 직접 풀어본 내용을 정리하여 올립니다.\n",
    "\n",
    "[코딩 도장](https://codingdojang.com/)에서 여러 문제를 확인할 수 있습니다.\n",
    "\n",
    "난이도 순으로 차근차근 풀어보려 합니다."
   ]
  },
  {
   "cell_type": "markdown",
   "metadata": {},
   "source": [
    "---"
   ]
  },
  {
   "cell_type": "markdown",
   "metadata": {},
   "source": [
    "**[문제: 모스부호 해독] - Lv.2**"
   ]
  },
  {
   "cell_type": "markdown",
   "metadata": {},
   "source": [
    "문자열 형식으로 입력 받은 모스코드(dot: . dash:-)를 해독하여 영어 문장으로 출력하는 프로그램을 작성하시오.\n",
    "\n",
    "글자와 글자 사이는 공백 하나, 단어와 단어 사이는 공백 두개로 구분한다.\n",
    "\n",
    "예를 들어 다음 모스부호는 \"he sleeps early\"로 해석해야 한다.\n",
    "\n",
    "```\n",
    ".... .  ... .-.. . . .--. ...  . .- .-. .-.. -.--\n",
    "```\n",
    "\n",
    "모스부호 규칙 표\n",
    "\n",
    "|문자|부호|문자|부호|\n",
    "|-|-|-|-|\n",
    "|A|.-|N|-.|\n",
    "|B|-...|O|---|\n",
    "|C|-.-.|P|.--.|\n",
    "|D|-..|Q|--.-|\n",
    "|E|.|R|.-.|\n",
    "|F|..-.|S|...|\n",
    "|G|--.|T|-|\n",
    "|H|....|U|..-|\n",
    "|I|..|V|...-|\n",
    "|J|.---|W|.--|\n",
    "|K|-.-|X|-..-|\n",
    "|L|.-..|Y|-.--|\n",
    "|M|--|Z|--..|\n",
    "\n",
    "출처: <https://codingdojang.com/scode/469?answer_mode=hide>"
   ]
  },
  {
   "cell_type": "markdown",
   "metadata": {},
   "source": [
    "---"
   ]
  },
  {
   "cell_type": "markdown",
   "metadata": {},
   "source": [
    "**[풀이]**"
   ]
  },
  {
   "cell_type": "code",
   "execution_count": 1,
   "metadata": {},
   "outputs": [
    {
     "name": "stdout",
     "output_type": "stream",
     "text": [
      ".... .  ... .-.. . . .--. ...  . .- .-. .-.. -.--\n",
      "he sleeps early\n"
     ]
    }
   ],
   "source": [
    "mos_dict = {\n",
    "    '.-': 'a',\n",
    "    '-...': 'b',\n",
    "    '-.-.': 'c',\n",
    "    '-..': 'd',\n",
    "    '.': 'e',\n",
    "    '..-.': 'f',\n",
    "    '--.': 'g',\n",
    "    '....': 'h',\n",
    "    '..': 'i',\n",
    "    '.---': 'j',\n",
    "    '-.-': 'k',\n",
    "    '.-..': 'l',\n",
    "    '--': 'm',\n",
    "    '-.': 'n',\n",
    "    '---': 'o',\n",
    "    '.--.': 'p',\n",
    "    '--.-': 'q',\n",
    "    '.-.': 'r',\n",
    "    '...': 's',\n",
    "    '-': 't',\n",
    "    '..-': 'u',\n",
    "    '...-': 'v',\n",
    "    '.--': 'w',\n",
    "    '-..-': 'x',\n",
    "    '-.--': 'y',\n",
    "    '--..': 'z'\n",
    "}\n",
    "\n",
    "def mos():\n",
    "    a = input().split(\" \")\n",
    "    c = \"\"\n",
    "    for i in a:\n",
    "        try:\n",
    "            c += mos_dict[i]\n",
    "        except:\n",
    "            c += \" \"\n",
    "    return print(c)\n",
    "\n",
    "mos()"
   ]
  },
  {
   "cell_type": "markdown",
   "metadata": {},
   "source": [
    "모스부호 규칙 표를 사전 형태로 만들어 두어 입력한 모스부호에 따라 변환하였다.\n",
    "\n",
    "글자와 글자 사이는 공백 하나이므로 `split()`에서 공백 하나를 사용하였다.\n",
    "\n",
    "이 경우 공백 2개인 경우가 같이 분리되므로 변환 시 예외 처리로 공백을 더해주었다."
   ]
  },
  {
   "cell_type": "markdown",
   "metadata": {},
   "source": [
    "**[추천 풀이]**"
   ]
  },
  {
   "cell_type": "code",
   "execution_count": 2,
   "metadata": {},
   "outputs": [
    {
     "name": "stdout",
     "output_type": "stream",
     "text": [
      "HE SLEEPS EARLY \n"
     ]
    }
   ],
   "source": [
    "dic = {\n",
    "    '.-':'A','-...':'B','-.-.':'C','-..':'D','.':'E','..-.':'F',\n",
    "    '--.':'G','....':'H','..':'I','.---':'J','-.-':'K','.-..':'L',\n",
    "    '--':'M','-.':'N','---':'O','.--.':'P','--.-':'Q','.-.':'R',\n",
    "    '...':'S','-':'T','..-':'U','...-':'V','.--':'W','-..-':'X',\n",
    "    '-.--':'Y','--..':'Z'\n",
    "}\n",
    "\n",
    "def morse(src):\n",
    "    result = []\n",
    "    for word in src.split(\"  \"):\n",
    "        for char in word.split(\" \"):\n",
    "            result.append(dic[char])\n",
    "        result.append(\" \")\n",
    "    return \"\".join(result)\n",
    "\n",
    "\n",
    "print(morse('.... .  ... .-.. . . .--. ...  . .- .-. .-.. -.--'))"
   ]
  },
  {
   "cell_type": "markdown",
   "metadata": {},
   "source": [
    "이 분은 공백 2개인 경우와 한 개인 경우를 분리해서 for문 처리하는 방식을 사용했다."
   ]
  }
 ],
 "metadata": {
  "interpreter": {
   "hash": "63fd5069d213b44bf678585dea6b12cceca9941eaf7f819626cde1f2670de90d"
  },
  "kernelspec": {
   "display_name": "Python 3",
   "language": "python",
   "name": "python3"
  },
  "language_info": {
   "codemirror_mode": {
    "name": "ipython",
    "version": 3
   },
   "file_extension": ".py",
   "mimetype": "text/x-python",
   "name": "python",
   "nbconvert_exporter": "python",
   "pygments_lexer": "ipython3",
   "version": "3.8.5"
  },
  "toc": {
   "base_numbering": 1,
   "nav_menu": {},
   "number_sections": false,
   "sideBar": true,
   "skip_h1_title": false,
   "title_cell": "Table of Contents",
   "title_sidebar": "Contents",
   "toc_cell": false,
   "toc_position": {
    "height": "calc(100% - 180px)",
    "left": "10px",
    "top": "150px",
    "width": "259.413px"
   },
   "toc_section_display": true,
   "toc_window_display": true
  }
 },
 "nbformat": 4,
 "nbformat_minor": 4
}
