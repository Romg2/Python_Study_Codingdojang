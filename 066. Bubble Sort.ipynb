{
 "cells": [
  {
   "cell_type": "markdown",
   "metadata": {},
   "source": [
    "**코딩 도장** 사이트의 문제를 직접 풀어본 내용을 정리하여 올립니다.\n",
    "\n",
    "[코딩 도장](https://codingdojang.com/)에서 여러 문제를 확인할 수 있습니다.\n",
    "\n",
    "난이도 순으로 차근차근 풀어보려 합니다."
   ]
  },
  {
   "cell_type": "markdown",
   "metadata": {},
   "source": [
    "---"
   ]
  },
  {
   "cell_type": "markdown",
   "metadata": {},
   "source": [
    "**[문제: Bubble Sort] - Lv.2**"
   ]
  },
  {
   "cell_type": "markdown",
   "metadata": {},
   "source": [
    "배열을 소팅하는 것은 초보 프로그래머에게 유명한 문제이며 전문적인 프로그래밍에서도 매우 중요하게 다루어 진다.\n",
    "\n",
    "소팅은 비교에 기반을 두어 배열을 재 정렬하는 방법이다. 다음의 배열을 생각해 보자.\n",
    "\n",
    "```\n",
    "a = [3, 1, 4, 1, 5, 9, 2, 6]\n",
    "```\n",
    "\n",
    "우리는 이 배열을 크기 순서대로 정렬하고 싶다. (좌측의 요소는 우측의 요소보다 작거나 같아야 한다.)\n",
    "\n",
    "수학적으로 표현하자면 다음과 같다.\n",
    "\n",
    "```\n",
    "i < j, a[i] <= a[j]\n",
    "```\n",
    "\n",
    "인덱스 i가 j보다 작은 경우 배열의 값인 a[i]는 a[j]값보다 작거나 같아야 한다.\n",
    "\n",
    "버블소트(Bubble Sort)는 이러한 소팅을 하기 위한 가장 간단한 방법 중 하나이다.\n",
    "\n",
    "1. 배열을 따라가며 인접한 쌍을 찾는다. (N개의 배열이 있을 경우 N-1개의 쌍이 존재하게 된다)\n",
    "\n",
    "\n",
    "2. 만약 a[i] <= a[i+1] 을 만족하지 않는 쌍을 찾게 되면 두 개의 값을 서로 바꾸어준다. (Swap)\n",
    "\n",
    "\n",
    "3. 더 이상 바꾸어야 할 쌍이 존재하지 않을 때까지 1번, 2번을 반복한다. (Loop)\n",
    "\n",
    "i와 j라는 인덱스를 가진 두 개의 값을 서로 바꾸기(Swap) 위해서는 몇가지 방법이 있는데 임시 변수를 사용하는 예는 다음과 같다:\n",
    "\n",
    "```\n",
    "t = a[i]\n",
    "a[i] = a[j]\n",
    "a[j] = t\n",
    "```\n",
    "\n",
    "**입력과 출력**\n",
    "\n",
    "입력 데이터의 첫번째 라인은 배열의 갯수를 의미하며 두번째 라인은 배열의 요소값을 의미한다.\n",
    "\n",
    "출력 데이터는 두개의 값으로 이루어진다.\n",
    "\n",
    "첫번째 값은 배열을 따라 진행(Loop)한 횟수이며 두번째 값은 Swap이 발생한 총 횟수이다.\n",
    "\n",
    "다음은 입출력 예제이다:\n",
    "\n",
    "```\n",
    "input data:\n",
    "8\n",
    "3 1 4 1 5 9 2 6\n",
    "\n",
    "answer:\n",
    "5 8\n",
    "```\n",
    "\n",
    "출처: <https://codingdojang.com/scode/448?answer_mode=hide>"
   ]
  },
  {
   "cell_type": "markdown",
   "metadata": {},
   "source": [
    "---"
   ]
  },
  {
   "cell_type": "markdown",
   "metadata": {},
   "source": [
    "**[풀이]**"
   ]
  },
  {
   "cell_type": "code",
   "execution_count": 1,
   "metadata": {},
   "outputs": [
    {
     "name": "stdout",
     "output_type": "stream",
     "text": [
      "5 8\n"
     ]
    }
   ],
   "source": [
    "def BubbleSort(a):\n",
    "    loop = 0\n",
    "    swap = 0\n",
    "\n",
    "    while True:\n",
    "        b = a.copy()\n",
    "        for i in range(len(a)-1):\n",
    "            if a[i] > a[i+1]:\n",
    "                a[i], a[i+1] = a[i+1], a[i]\n",
    "                swap += 1\n",
    "        loop += 1\n",
    "        \n",
    "        if b == a:\n",
    "            break\n",
    "        \n",
    "    return print(loop, swap)\n",
    "\n",
    "a = [3, 1, 4, 1, 5, 9, 2, 6]\n",
    "BubbleSort(a)"
   ]
  },
  {
   "cell_type": "markdown",
   "metadata": {},
   "source": [
    "이 문제는 다른 점보다 loop가 결국 최종 완성된 배열도 읽어야 배열이 정렬되었는지 확인 한다는 것이다."
   ]
  },
  {
   "cell_type": "code",
   "execution_count": 2,
   "metadata": {},
   "outputs": [
    {
     "name": "stdout",
     "output_type": "stream",
     "text": [
      "[3, 1, 4, 1, 5, 9, 2, 6] [1, 3, 1, 4, 5, 2, 6, 9]\n",
      "[1, 3, 1, 4, 5, 2, 6, 9] [1, 1, 3, 4, 2, 5, 6, 9]\n",
      "[1, 1, 3, 4, 2, 5, 6, 9] [1, 1, 3, 2, 4, 5, 6, 9]\n",
      "[1, 1, 3, 2, 4, 5, 6, 9] [1, 1, 2, 3, 4, 5, 6, 9]\n",
      "[1, 1, 2, 3, 4, 5, 6, 9] [1, 1, 2, 3, 4, 5, 6, 9]\n",
      "5 8\n"
     ]
    }
   ],
   "source": [
    "def BubbleSort(a):\n",
    "    loop = 0\n",
    "    swap = 0\n",
    "\n",
    "    while True:\n",
    "        b = a.copy()\n",
    "        for i in range(len(a)-1):\n",
    "            if a[i] > a[i+1]:\n",
    "                a[i], a[i+1] = a[i+1], a[i]\n",
    "                swap += 1\n",
    "        loop += 1\n",
    "        \n",
    "        print(b, a)\n",
    "        if b == a:\n",
    "            break\n",
    "        \n",
    "    return print(loop, swap)\n",
    "\n",
    "a = [3, 1, 4, 1, 5, 9, 2, 6]\n",
    "BubbleSort(a)"
   ]
  },
  {
   "cell_type": "markdown",
   "metadata": {},
   "source": [
    "위와 같이 전 후 비교를 위해선 다 정렬이 되어도 한번 더 읽어야하므로 loop가 1 늘어난다."
   ]
  },
  {
   "cell_type": "markdown",
   "metadata": {},
   "source": [
    "---"
   ]
  },
  {
   "cell_type": "markdown",
   "metadata": {},
   "source": [
    "**[추천 풀이]**"
   ]
  },
  {
   "cell_type": "code",
   "execution_count": 3,
   "metadata": {},
   "outputs": [
    {
     "name": "stdout",
     "output_type": "stream",
     "text": [
      "(5, 8, [1, 1, 2, 3, 4, 5, 6, 9])\n"
     ]
    }
   ],
   "source": [
    "# bubble sort\n",
    "\n",
    "def bubble_sort(a):\n",
    "    pass_count = 0\n",
    "    swap_count = 0\n",
    "    while True:\n",
    "        swap = 0\n",
    "        for i in range(len(a)-1):\n",
    "            if a[i] > a[i+1]:\n",
    "                a[i], a[i+1] = a[i+1], a[i]\n",
    "                swap+=1\n",
    "        pass_count += 1\n",
    "        if swap:\n",
    "            swap_count += swap\n",
    "        else:\n",
    "            break\n",
    "    return pass_count, swap_count, a\n",
    "\n",
    "\n",
    "print (bubble_sort([3, 1, 4, 1, 5, 9, 2, 6]))"
   ]
  },
  {
   "cell_type": "markdown",
   "metadata": {},
   "source": [
    "stop 조건을 swap 수로 설정한 것 외에는 동일하다."
   ]
  }
 ],
 "metadata": {
  "interpreter": {
   "hash": "63fd5069d213b44bf678585dea6b12cceca9941eaf7f819626cde1f2670de90d"
  },
  "kernelspec": {
   "display_name": "Python 3",
   "language": "python",
   "name": "python3"
  },
  "language_info": {
   "codemirror_mode": {
    "name": "ipython",
    "version": 3
   },
   "file_extension": ".py",
   "mimetype": "text/x-python",
   "name": "python",
   "nbconvert_exporter": "python",
   "pygments_lexer": "ipython3",
   "version": "3.8.5"
  },
  "toc": {
   "base_numbering": 1,
   "nav_menu": {},
   "number_sections": false,
   "sideBar": true,
   "skip_h1_title": false,
   "title_cell": "Table of Contents",
   "title_sidebar": "Contents",
   "toc_cell": false,
   "toc_position": {
    "height": "calc(100% - 180px)",
    "left": "10px",
    "top": "150px",
    "width": "259.422px"
   },
   "toc_section_display": true,
   "toc_window_display": true
  }
 },
 "nbformat": 4,
 "nbformat_minor": 4
}
