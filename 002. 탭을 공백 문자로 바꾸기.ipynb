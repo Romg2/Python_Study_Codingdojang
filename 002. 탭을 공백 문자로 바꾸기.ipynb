{
 "cells": [
  {
   "cell_type": "markdown",
   "metadata": {},
   "source": [
    "**코딩 도장** 사이트의 문제를 직접 풀어본 내용을 정리하여 올립니다.\n",
    "\n",
    "[코딩 도장](https://codingdojang.com/)에서 여러 문제를 확인할 수 있습니다.\n",
    "\n",
    "난이도 순으로 차근차근 풀어보려 합니다."
   ]
  },
  {
   "cell_type": "markdown",
   "metadata": {},
   "source": [
    "---"
   ]
  },
  {
   "cell_type": "markdown",
   "metadata": {},
   "source": [
    "**[문제: 탭을 공백 문자로 바꾸기] - Lv.1**"
   ]
  },
  {
   "cell_type": "markdown",
   "metadata": {},
   "source": [
    "A씨는 개발된 소스코드를 특정업체에 납품하려고 한다. \n",
    "\n",
    "개발된 소스코드들은 탭으로 들여쓰기가 된것, 공백으로 들여쓰기가 된 것들이 섞여 있다고 한다. \n",
    "\n",
    "A씨는 탭으로 들여쓰기가 된 모든 소스를 공백 4개로 수정한 후 납품할 예정이다.\n",
    "\n",
    "A씨를 도와줄 수 있도록 소스코드내에 사용된 탭(Tab) 문자를 공백 4개(4 space)로 바꾸어 주는 프로그램을 작성하시오.\n",
    "\n",
    "출처: <https://codingdojang.com/scode/405?answer_mode=hide>"
   ]
  },
  {
   "cell_type": "markdown",
   "metadata": {},
   "source": [
    "---"
   ]
  },
  {
   "cell_type": "markdown",
   "metadata": {},
   "source": [
    "**[풀이]**"
   ]
  },
  {
   "cell_type": "code",
   "execution_count": 56,
   "metadata": {},
   "outputs": [
    {
     "name": "stdout",
     "output_type": "stream",
     "text": [
      "['임시 텍스트 파일.txt']\n",
      "가\t나\t다\n",
      "라\t\t마\n",
      "바 사 아\n",
      "자\t차\t카 타\n",
      "------------------------------\n",
      "가    나    다\n",
      "라        마\n",
      "바 사 아\n",
      "자    차    카 타\n"
     ]
    }
   ],
   "source": [
    "import os\n",
    "\n",
    "# 특정 경로의 전체 파일 확인 (r string 사용)\n",
    "path = r\"C:\\Users\\ekzm3\\Desktop\\Github_kkd\\새 폴더\"\n",
    "file_list = os.listdir(path)\n",
    "\n",
    "print(file_list)\n",
    "\n",
    "# 예시로 txt 파일만 사용\n",
    "txt_file = [file for file in file_list if file.endswith(\".txt\")]\n",
    "\n",
    "# 탭을 공백으로 바꾸기\n",
    "for file_name in txt_file:\n",
    "    # 원본 파일을 불러와 탭을 공백으로 바꾸기\n",
    "    with open(f\"{path}\\{file_name}\", \"r\", encoding=\"utf-8\") as data:\n",
    "        old_file = data.read()\n",
    "        new_file = old_file.replace(\"\\t\", \"    \")\n",
    "        \n",
    "    # 공백으로 바꾼 파일로 덮어 씌우기\n",
    "    with open(f\"{path}\\{file_name}\", \"w\", encoding=\"utf-8\") as new_data:\n",
    "        new_data.write(new_file)\n",
    "        \n",
    "print(old_file)\n",
    "print(\"-\"*30)\n",
    "print(new_file)"
   ]
  },
  {
   "cell_type": "markdown",
   "metadata": {},
   "source": [
    "우선 `os.listdir()`로 특정 경로에 있는 모든 파일명 리스트를 생성하였다.\n",
    "\n",
    "그 중에서 예시로 텍스트 파일만을 가진 리스트를 한 줄 for문으로 생성하였다.\n",
    "\n",
    "데이터를 불러온 후 `replace`로 탭을 공백 4개로 바꾸고 다시 원본 파일명으로 덮어씌웠다."
   ]
  },
  {
   "cell_type": "markdown",
   "metadata": {},
   "source": [
    "---"
   ]
  },
  {
   "cell_type": "markdown",
   "metadata": {},
   "source": [
    "**[추천 풀이]**"
   ]
  },
  {
   "cell_type": "code",
   "execution_count": null,
   "metadata": {},
   "outputs": [],
   "source": [
    "filename=input(\"Enter your file name : \")\n",
    "tempfile=open(filename)\n",
    "tempfile=tempfile.read()\n",
    "temp_str=tempfile.replace(\"\\t\",\"    \")\n",
    "tempfile=open(filename,'w')\n",
    "tempfile.write(temp_str)\n",
    "tempfile.close()"
   ]
  },
  {
   "cell_type": "markdown",
   "metadata": {},
   "source": [
    "다른 분들이 풀이한 내용 중 추천 수가 많은 풀이이다.\n",
    "\n",
    "`input`으로 직접 파일을 지정하는 것 외엔 비슷하게 풀이하였다.\n",
    "\n",
    "풀이를 보면 경로나 확장자까지 고려해서 함수로 만든 분도 있고 문제에서 정확헤게 지정된 것이 없어 다양하다."
   ]
  }
 ],
 "metadata": {
  "kernelspec": {
   "display_name": "Python 3",
   "language": "python",
   "name": "python3"
  },
  "language_info": {
   "codemirror_mode": {
    "name": "ipython",
    "version": 3
   },
   "file_extension": ".py",
   "mimetype": "text/x-python",
   "name": "python",
   "nbconvert_exporter": "python",
   "pygments_lexer": "ipython3",
   "version": "3.8.5"
  },
  "toc": {
   "base_numbering": 1,
   "nav_menu": {},
   "number_sections": false,
   "sideBar": true,
   "skip_h1_title": false,
   "title_cell": "Table of Contents",
   "title_sidebar": "Contents",
   "toc_cell": false,
   "toc_position": {},
   "toc_section_display": true,
   "toc_window_display": true
  }
 },
 "nbformat": 4,
 "nbformat_minor": 4
}
