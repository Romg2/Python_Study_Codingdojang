{
 "cells": [
  {
   "cell_type": "markdown",
   "metadata": {},
   "source": [
    "**코딩 도장** 사이트의 문제를 직접 풀어본 내용을 정리하여 올립니다.\n",
    "\n",
    "[코딩 도장](https://codingdojang.com/)에서 여러 문제를 확인할 수 있습니다.\n",
    "\n",
    "난이도 순으로 차근차근 풀어보려 합니다."
   ]
  },
  {
   "cell_type": "markdown",
   "metadata": {},
   "source": [
    "---"
   ]
  },
  {
   "cell_type": "markdown",
   "metadata": {},
   "source": [
    "**[문제: 기계의 마라톤 기록] - Lv.1**"
   ]
  },
  {
   "cell_type": "markdown",
   "metadata": {},
   "source": [
    "항상 일정한 속도로 달리는 기계가 있다고 합시다. \n",
    "\n",
    "이 기계의 100m 달리기 기록을 입력받으면 마라톤에서의 기록을 구하시면 됩니다. \n",
    "\n",
    "마라톤 경기에서 달리는 거리는 42.195km입니다. \n",
    "\n",
    "100m 달리기와 마라톤의 코스는 모두 직선이라고 합니다(회전 시 걸리는 시간을 고려하지 않습니다). \n",
    "\n",
    "기계의 파손 및 배터리 방전 시간도 고려하지 않습니다.\n",
    "\n",
    "출처: <https://codingdojang.com/scode/702?answer_mode=hide>"
   ]
  },
  {
   "cell_type": "markdown",
   "metadata": {},
   "source": [
    "---"
   ]
  },
  {
   "cell_type": "markdown",
   "metadata": {},
   "source": [
    "**[풀이]**"
   ]
  },
  {
   "cell_type": "code",
   "execution_count": 1,
   "metadata": {
    "scrolled": true
   },
   "outputs": [
    {
     "name": "stdout",
     "output_type": "stream",
     "text": [
      "100m 달리기 기록을 초 단위로 입력하세요: 10.3\n",
      "1:12:26.085000\n"
     ]
    }
   ],
   "source": [
    "import datetime as dt\n",
    "\n",
    "n = float(input(\"100m 달리기 기록을 초 단위로 입력하세요: \"))\n",
    "\n",
    "sec = (42195 / 100) * n\n",
    "print(dt.timedelta(seconds=sec))"
   ]
  },
  {
   "cell_type": "markdown",
   "metadata": {},
   "source": [
    "시간을 구하는 것은 어렵지 않은데 기록을 출력하는 포맷이 중요한 듯 하다.\n",
    "\n",
    "`datetime` 패키지의 `timedelta()`로 초를 입력해 포맷을 시간 단위로 선택하였다."
   ]
  },
  {
   "cell_type": "markdown",
   "metadata": {},
   "source": [
    "---"
   ]
  },
  {
   "cell_type": "markdown",
   "metadata": {},
   "source": [
    "**[추천 풀이]**"
   ]
  },
  {
   "cell_type": "code",
   "execution_count": 2,
   "metadata": {},
   "outputs": [
    {
     "name": "stdout",
     "output_type": "stream",
     "text": [
      "enter your record: 10.3\n",
      "The marathon record is: 1h 12m 26s 9\n"
     ]
    }
   ],
   "source": [
    "record = float(input('enter your record: '))\n",
    "time = record * 42195 / 100\n",
    "marathon_record = []\n",
    "marathon_record.append(int(time) // 3600)\n",
    "marathon_record.append((int(time) - marathon_record[0] * 3600) // 60)\n",
    "marathon_record.append((int(time) - marathon_record[0] * 3600 - marathon_record[1] * 60))\n",
    "marathon_record.append(int(round(time - int(time), 2) * 100))\n",
    "print('The marathon record is: {}h {}m {}s {:0<}'.format(marathon_record[0], marathon_record[1], marathon_record[2], marathon_record[3]))"
   ]
  },
  {
   "cell_type": "markdown",
   "metadata": {},
   "source": [
    "출력 포맷을 패키지 없이 직접 지정하였다."
   ]
  }
 ],
 "metadata": {
  "interpreter": {
   "hash": "63fd5069d213b44bf678585dea6b12cceca9941eaf7f819626cde1f2670de90d"
  },
  "kernelspec": {
   "display_name": "Python 3",
   "language": "python",
   "name": "python3"
  },
  "language_info": {
   "codemirror_mode": {
    "name": "ipython",
    "version": 3
   },
   "file_extension": ".py",
   "mimetype": "text/x-python",
   "name": "python",
   "nbconvert_exporter": "python",
   "pygments_lexer": "ipython3",
   "version": "3.8.5"
  },
  "toc": {
   "base_numbering": 1,
   "nav_menu": {},
   "number_sections": false,
   "sideBar": true,
   "skip_h1_title": false,
   "title_cell": "Table of Contents",
   "title_sidebar": "Contents",
   "toc_cell": false,
   "toc_position": {
    "height": "calc(100% - 180px)",
    "left": "10px",
    "top": "150px",
    "width": "259.422px"
   },
   "toc_section_display": true,
   "toc_window_display": true
  }
 },
 "nbformat": 4,
 "nbformat_minor": 4
}
