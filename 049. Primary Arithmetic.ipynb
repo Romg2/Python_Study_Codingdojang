{
 "cells": [
  {
   "cell_type": "markdown",
   "metadata": {},
   "source": [
    "**코딩 도장** 사이트의 문제를 직접 풀어본 내용을 정리하여 올립니다.\n",
    "\n",
    "[코딩 도장](https://codingdojang.com/)에서 여러 문제를 확인할 수 있습니다.\n",
    "\n",
    "난이도 순으로 차근차근 풀어보려 합니다."
   ]
  },
  {
   "cell_type": "markdown",
   "metadata": {},
   "source": [
    "---"
   ]
  },
  {
   "cell_type": "markdown",
   "metadata": {},
   "source": [
    "**[문제: Primary Arithmetic] - Lv.2**"
   ]
  },
  {
   "cell_type": "markdown",
   "metadata": {},
   "source": [
    "**첫 번째 계산**\n",
    "\n",
    "아이들은 여러 자리 숫자들을 더하기 위해서 우에서 좌로 숫자를 하나씩 차례대로 더 하라고 배웠다. 1을 한 숫자 위치에서 다음 자리로 더하기위해 이동하는 \"한자리올림\"연산을 많이 발견하는 것은 중요한 도전이 된다. 당신의 일은 교육자가 그들의 어려움을 평가하기 위하여, 덧셈 문제들의 각 집합에 대해서 한자리올림 연산들의 수를 계산하는 것이다.\n",
    "\n",
    "**입력**\n",
    "\n",
    "입력의 각 라인은 10개의 숫자들보다 미만인 양의 정수들 두 개를 포함한다. 입력의 마지막 라인은 0 0 을 포한한다.\n",
    "\n",
    "**출력**\n",
    "\n",
    "마지막을 제외한 입력의 각 라인에 대해서 당신은 두 숫자들을 더한 결과에서 한자리올림 연산들의 수를 아래 처럼 보여지는 형식으로 계산하여 출력해야 한다.\n",
    "\n",
    "**입력 샘플**\n",
    "\n",
    "```\n",
    "123 456\n",
    "555 555\n",
    "123 594\n",
    "0 0\n",
    "```\n",
    "\n",
    "**출력 샘플**\n",
    "```\n",
    "No carry operation.\n",
    "3 carry operations.\n",
    "1 carry operation.\n",
    "```\n",
    "\n",
    "출처: <https://codingdojang.com/scode/397?answer_mode=hide>"
   ]
  },
  {
   "cell_type": "markdown",
   "metadata": {},
   "source": [
    "---"
   ]
  },
  {
   "cell_type": "markdown",
   "metadata": {},
   "source": [
    "**[풀이]**"
   ]
  },
  {
   "cell_type": "code",
   "execution_count": 1,
   "metadata": {},
   "outputs": [
    {
     "name": "stdout",
     "output_type": "stream",
     "text": [
      "123 456\n",
      "45 55\n",
      "23 7\n",
      "0 0\n",
      "------------------------------\n",
      "No carry operations\n",
      "1 carry operation\n",
      "1 carry operation\n"
     ]
    }
   ],
   "source": [
    "def PrimaryArithmetic():\n",
    "    x = input()\n",
    "    a = []\n",
    "    count = 0\n",
    "    while x != \"0 0\":\n",
    "        y = x.split()\n",
    "        y0_len = len(y[0])\n",
    "        y1_len = len(y[1])\n",
    "        min_len = min(y0_len, y1_len)\n",
    "\n",
    "        for i in range(0, min_len):\n",
    "            if int(y[0][y0_len - i - 1]) + int(y[1][y1_len - i - 1]) >= 10:\n",
    "                count += 1\n",
    "\n",
    "        if count == 1:\n",
    "            a.append(f\"{count} carry operation\")\n",
    "        elif count > 1:\n",
    "            a.append(f\"{count} carry operations\")\n",
    "        else:\n",
    "            a.append(\"No carry operations\")\n",
    "\n",
    "        count = 0\n",
    "\n",
    "        x = input()\n",
    "\n",
    "    print(\"-\"*30)\n",
    "    \n",
    "    for i in a: print(i)\n",
    "        \n",
    "PrimaryArithmetic()"
   ]
  },
  {
   "cell_type": "markdown",
   "metadata": {},
   "source": [
    "우선 while문으로 0 0 을 입력할 때 까지 반복하였고 각 자리별 숫자를 더하여 10이 넘으면 count하는 방식을 사용했다.\n",
    "\n",
    "입력한 두 숫자의 자릿수가 다른 경우를 반영해두었다.\n",
    "\n",
    "다만 현재 방법의 문제는 이전 자리에서 숫자가 올라왔을 때를 반영하지 못해 45 55를 입력하면 1이 반환된다."
   ]
  },
  {
   "cell_type": "markdown",
   "metadata": {},
   "source": [
    "---"
   ]
  },
  {
   "cell_type": "markdown",
   "metadata": {},
   "source": [
    "**[추천 풀이]**"
   ]
  },
  {
   "cell_type": "code",
   "execution_count": 2,
   "metadata": {},
   "outputs": [
    {
     "data": {
      "text/plain": [
       "False"
      ]
     },
     "execution_count": 2,
     "metadata": {},
     "output_type": "execute_result"
    }
   ],
   "source": [
    "all((1,0))"
   ]
  },
  {
   "cell_type": "code",
   "execution_count": 3,
   "metadata": {
    "scrolled": true
   },
   "outputs": [
    {
     "name": "stdout",
     "output_type": "stream",
     "text": [
      "? 123 456\n",
      "0\n",
      "? 45 55\n",
      "2\n",
      "? 23 7\n",
      "1\n",
      "? 0 0\n"
     ]
    }
   ],
   "source": [
    "from math import log10\n",
    "a,b = map(int,input('? ').split())\n",
    "\n",
    "while all((a,b)):\n",
    "    print( sum( [(lambda x : int((a%x+b%x)/x))(10**(n+1)) for n in range(int(max(log10(a),log10(b)))+1)] ) )\n",
    "    a,b = map(int,input('? ').split())"
   ]
  },
  {
   "cell_type": "markdown",
   "metadata": {},
   "source": [
    "이 분은 아주 간결하게 푸셨는데 압축을 너무 해서 못 알아보겠어서 하나 하나 풀어 보려고 한다.\n",
    "\n",
    "기존 풀이는 파이썬 2.x 버전이어서 3.x 버전에 맞게 조금 수정해두었다."
   ]
  },
  {
   "cell_type": "code",
   "execution_count": 4,
   "metadata": {},
   "outputs": [
    {
     "name": "stdout",
     "output_type": "stream",
     "text": [
      "True\n",
      "False\n",
      "False\n",
      "False\n"
     ]
    }
   ],
   "source": [
    "print(all((1,1)))\n",
    "print(all((1,0)))\n",
    "print(all((0,1)))\n",
    "print(all((0,0)))"
   ]
  },
  {
   "cell_type": "markdown",
   "metadata": {},
   "source": [
    "우선 `all()`은 모두 0이 아닐 때 True를 반환하므로 위 문제에서는 0 0을 입력할 때 까지 while이 반복된다.\n",
    "\n",
    "단점은 굳이 100 0 이런식으로 입력하면 당연히 False가 반환되어 작동되지 않는다."
   ]
  },
  {
   "cell_type": "code",
   "execution_count": 5,
   "metadata": {},
   "outputs": [
    {
     "data": {
      "text/plain": [
       "range(0, 3)"
      ]
     },
     "execution_count": 5,
     "metadata": {},
     "output_type": "execute_result"
    }
   ],
   "source": [
    "a = 100 ; b = 30\n",
    "range(int(max(log10(a),log10(b)))+1)"
   ]
  },
  {
   "cell_type": "markdown",
   "metadata": {},
   "source": [
    "상용로그를 사용해서 두 숫자의 자릿수 중 큰 값을 추출하고 있다.\n",
    "\n",
    "이 부분은 그냥 `len()`으로 해둬도 될 것 같다."
   ]
  },
  {
   "cell_type": "code",
   "execution_count": 6,
   "metadata": {},
   "outputs": [
    {
     "data": {
      "text/plain": [
       "1"
      ]
     },
     "execution_count": 6,
     "metadata": {},
     "output_type": "execute_result"
    }
   ],
   "source": [
    "a = 45 ; b = 55 ; n = 1\n",
    "(lambda x : int((a%x+b%x)/x))(10**(n+1))"
   ]
  },
  {
   "cell_type": "markdown",
   "metadata": {},
   "source": [
    "앞서 생성한 `range()`에 따라 10의 배수로 각 숫자를 나눠 나머지를 더한 후 다시 10의 배수로 나눠준다.\n",
    "\n",
    "위의 경우 45 55를 10으로 나눠 (4.5 + 5.5) / 10으로 1이 나타난다.\n",
    "\n",
    "이런 방식이기에 나와는 달리 이전 자리에서 숫자가 올라왔을 때까지 반영 된다.\n",
    "\n",
    "또한 두 숫자의 자릿수 중 큰 값으로 추출하였기에 서로 자릿수가 달라도 잘 반영된다.\n",
    "\n",
    "코드도 코드지만 아이디어도 좋아보이고 잘 만든 코드인 것 같다."
   ]
  },
  {
   "cell_type": "code",
   "execution_count": 7,
   "metadata": {},
   "outputs": [
    {
     "data": {
      "text/plain": [
       "20"
      ]
     },
     "execution_count": 7,
     "metadata": {},
     "output_type": "execute_result"
    }
   ],
   "source": [
    "(lambda x: 2*x)(10)"
   ]
  },
  {
   "cell_type": "markdown",
   "metadata": {},
   "source": [
    "참고로 위 lambda식이 복잡해 보여서 간단하게 만들어두었다."
   ]
  }
 ],
 "metadata": {
  "interpreter": {
   "hash": "63fd5069d213b44bf678585dea6b12cceca9941eaf7f819626cde1f2670de90d"
  },
  "kernelspec": {
   "display_name": "Python 3",
   "language": "python",
   "name": "python3"
  },
  "language_info": {
   "codemirror_mode": {
    "name": "ipython",
    "version": 3
   },
   "file_extension": ".py",
   "mimetype": "text/x-python",
   "name": "python",
   "nbconvert_exporter": "python",
   "pygments_lexer": "ipython3",
   "version": "3.8.5"
  },
  "toc": {
   "base_numbering": 1,
   "nav_menu": {},
   "number_sections": false,
   "sideBar": true,
   "skip_h1_title": false,
   "title_cell": "Table of Contents",
   "title_sidebar": "Contents",
   "toc_cell": false,
   "toc_position": {
    "height": "calc(100% - 180px)",
    "left": "10px",
    "top": "150px",
    "width": "259.422px"
   },
   "toc_section_display": true,
   "toc_window_display": true
  }
 },
 "nbformat": 4,
 "nbformat_minor": 4
}
