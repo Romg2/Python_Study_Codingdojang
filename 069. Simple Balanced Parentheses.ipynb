{
 "cells": [
  {
   "cell_type": "markdown",
   "metadata": {},
   "source": [
    "**코딩 도장** 사이트의 문제를 직접 풀어본 내용을 정리하여 올립니다.\n",
    "\n",
    "[코딩 도장](https://codingdojang.com/)에서 여러 문제를 확인할 수 있습니다.\n",
    "\n",
    "난이도 순으로 차근차근 풀어보려 합니다."
   ]
  },
  {
   "cell_type": "markdown",
   "metadata": {},
   "source": [
    "---"
   ]
  },
  {
   "cell_type": "markdown",
   "metadata": {},
   "source": [
    "**[문제: Simple Balanced Parentheses] - Lv.2**"
   ]
  },
  {
   "cell_type": "markdown",
   "metadata": {},
   "source": [
    "아래는 괄호를 이용한 연산식이다.\n",
    "\n",
    "```\n",
    "(5+6)∗(7+8)/(4+3)\n",
    "```\n",
    "\n",
    "우리는 여는 괄호가 있으면 닫는 괄호가 반드시 있어야 한다는 것을 잘 알고 있다.\n",
    "\n",
    "다음은 정상적인(balanced) 괄호 사용의 예이다.\n",
    "\n",
    "```\n",
    "(()()()())\n",
    "(((())))\n",
    "(()((())()))\n",
    "```\n",
    "\n",
    "다음은 비정상적인(not balanced) 괄호 사용의 예이다.\n",
    "\n",
    "```\n",
    "((((((())\n",
    "()))\n",
    "(()()(()\n",
    "(()))(\n",
    "())(()\n",
    "```\n",
    "\n",
    "괄호의 사용이 잘 되었는지 잘못 되었는지 판별 해 주는 프로그램을 작성하시오.\n",
    "\n",
    "출처: <https://codingdojang.com/scode/457?answer_mode=hide>"
   ]
  },
  {
   "cell_type": "markdown",
   "metadata": {},
   "source": [
    "---"
   ]
  },
  {
   "cell_type": "markdown",
   "metadata": {},
   "source": [
    "**[풀이]**"
   ]
  },
  {
   "cell_type": "code",
   "execution_count": 1,
   "metadata": {},
   "outputs": [
    {
     "name": "stdout",
     "output_type": "stream",
     "text": [
      "balanced\n",
      "balanced\n",
      "balanced\n",
      "balanced\n",
      "not balanced\n",
      "not balanced\n",
      "not balanced\n",
      "not balanced\n",
      "not balanced\n",
      "not balanced\n"
     ]
    }
   ],
   "source": [
    "def SimpleBalancedParentheses(a):\n",
    "    b = [i for i in a if (i==\"(\") | (i==\")\")]\n",
    "    \n",
    "    if (b[0] == \")\") | (b[-1] == \"(\"):\n",
    "        return print(\"not balanced\")\n",
    "    \n",
    "    while b[0] != b[-1]:\n",
    "        b.pop(b.index(b[0]))\n",
    "        b.pop(b.index(b[-1]))\n",
    "\n",
    "        if len(b) == 0:\n",
    "            return print(\"balanced\")\n",
    "            break\n",
    "            \n",
    "    return print(\"not balanced\")\n",
    "\n",
    "\n",
    "SimpleBalancedParentheses(\"(5+6)∗(7+8)/(4+3)\")\n",
    "SimpleBalancedParentheses(\"(()()()())\")\n",
    "SimpleBalancedParentheses(\"(((())))\")\n",
    "SimpleBalancedParentheses(\"(()((())()))\")\n",
    "\n",
    "SimpleBalancedParentheses(\"((((((())\")\n",
    "SimpleBalancedParentheses(\"()))\")\n",
    "SimpleBalancedParentheses(\"(()()(()\")\n",
    "SimpleBalancedParentheses(\"(()))(\")\n",
    "SimpleBalancedParentheses(\"())(()\")\n",
    "SimpleBalancedParentheses(\")()(\")"
   ]
  },
  {
   "cell_type": "markdown",
   "metadata": {},
   "source": [
    "만약 괄호 사용이 정상적이라면 어떤 형태이던 양 끝의 모양은 서로 다르다고 생각하였다.\n",
    "\n",
    "이러한 경우 값을 제거하면서 결국 모든 값이 제거되면 정상이라고 판단하였다.\n",
    "\n",
    "대신 \")()(\" 같은 경우를 위해 시작이 닫힘이거나 끝이 열림이면 비정상으로 판단하게 하였다.\n",
    "\n",
    "만약 괄호의 수가 홀수이면 비정상이고 이는 while문의 혹시 끝까지 반복되어도 `len(b)`가 0이 될 수 없다."
   ]
  },
  {
   "cell_type": "markdown",
   "metadata": {},
   "source": [
    "**[추천 풀이]**"
   ]
  },
  {
   "cell_type": "code",
   "execution_count": 2,
   "metadata": {},
   "outputs": [
    {
     "name": "stdout",
     "output_type": "stream",
     "text": [
      "True\n",
      "True\n",
      "True\n",
      "False\n",
      "False\n",
      "False\n",
      "False\n"
     ]
    }
   ],
   "source": [
    "def isBalanced(s):\n",
    "    n=0\n",
    "    for i in range(len(s)):\n",
    "        n += (1 if s[i]=='(' else -1)\n",
    "        if n < 0:\n",
    "            return False\n",
    "\n",
    "    return True if n==0 else False\n",
    "\n",
    "print(isBalanced('(()()()())'))\n",
    "print(isBalanced('(((())))'))\n",
    "print(isBalanced('(()((())()))'))\n",
    "print(isBalanced('((((((())'))\n",
    "print(isBalanced('()))'))\n",
    "print(isBalanced('(()()(()'))\n",
    "print(isBalanced('(()))('))"
   ]
  },
  {
   "cell_type": "markdown",
   "metadata": {},
   "source": [
    "정말 간단하게 푸셨는데 \"(\"이면 1 아니면 -1로 합계를 구하는 방식을 사용했다.\n",
    "\n",
    "for문의 if 조건으로 혹시 시작이 \")\"인 것 등도 간단하게 잡아낸다."
   ]
  }
 ],
 "metadata": {
  "interpreter": {
   "hash": "63fd5069d213b44bf678585dea6b12cceca9941eaf7f819626cde1f2670de90d"
  },
  "kernelspec": {
   "display_name": "Python 3",
   "language": "python",
   "name": "python3"
  },
  "language_info": {
   "codemirror_mode": {
    "name": "ipython",
    "version": 3
   },
   "file_extension": ".py",
   "mimetype": "text/x-python",
   "name": "python",
   "nbconvert_exporter": "python",
   "pygments_lexer": "ipython3",
   "version": "3.8.5"
  },
  "toc": {
   "base_numbering": 1,
   "nav_menu": {},
   "number_sections": false,
   "sideBar": true,
   "skip_h1_title": false,
   "title_cell": "Table of Contents",
   "title_sidebar": "Contents",
   "toc_cell": false,
   "toc_position": {
    "height": "calc(100% - 180px)",
    "left": "10px",
    "top": "150px",
    "width": "259.422px"
   },
   "toc_section_display": true,
   "toc_window_display": true
  }
 },
 "nbformat": 4,
 "nbformat_minor": 4
}
